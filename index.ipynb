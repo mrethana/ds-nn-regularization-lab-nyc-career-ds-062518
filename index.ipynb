{
 "cells": [
  {
   "cell_type": "markdown",
   "metadata": {},
   "source": [
    "# Regularization and Optimization Lab\n",
    "\n",
    "## Objective\n",
    "\n",
    "In this lab, we'll gain experience detecting and dealing with a ANN model that is overfitting using various regularization and hyperparameter tuning techniques!"
   ]
  },
  {
   "cell_type": "markdown",
   "metadata": {},
   "source": [
    "## Getting Started\n",
    "\n",
    "In this lab, we'll work with a large dataset of customer complaints to a bank, with the goal of predicting what product the customer is complaining about based on the text of their complaint.  There are 7 different possible products that we can predict, making this a multi-class classification task. \n",
    "\n",
    "\n",
    "#### Preprocessing our Data Set\n",
    "We'll start by preprocessing our dataset by tokenizing the complaints and limiting the number of words we consider to reduce dimensionality. \n",
    "\n",
    "#### Building our Tuning our Model\n",
    "Once we have preprocessed our data set, we'll build a model and explore the various ways that we can reduce overfitting using the following strategies:\n",
    "- Early stopping to minimize the discrepancy between train and test accuracy.\n",
    "- L1 and L2 regularization.\n",
    "- Dropout regularization.\n",
    "- Using more data.\n",
    "\n",
    "\n",
    "**_Let's Get Started!_**"
   ]
  },
  {
   "cell_type": "markdown",
   "metadata": {},
   "source": [
    "## 2. Preprocessing the Bank Complaints Data Set"
   ]
  },
  {
   "cell_type": "markdown",
   "metadata": {},
   "source": [
    "### 2.1 Import the libraries and take a sample\n",
    "\n",
    "Run the cell below to import everything we'll need for this lab. "
   ]
  },
  {
   "cell_type": "code",
   "execution_count": 1,
   "metadata": {},
   "outputs": [
    {
     "name": "stderr",
     "output_type": "stream",
     "text": [
      "/anaconda3/lib/python3.6/site-packages/h5py/__init__.py:36: FutureWarning: Conversion of the second argument of issubdtype from `float` to `np.floating` is deprecated. In future, it will be treated as `np.float64 == np.dtype(float).type`.\n",
      "  from ._conv import register_converters as _register_converters\n",
      "Using TensorFlow backend.\n"
     ]
    }
   ],
   "source": [
    "import matplotlib.pyplot as plt\n",
    "import pandas as pd\n",
    "import numpy as np\n",
    "from sklearn.model_selection import train_test_split\n",
    "from keras.utils.np_utils import to_categorical\n",
    "from sklearn import preprocessing\n",
    "from keras.preprocessing.text import Tokenizer\n",
    "import random\n",
    "random.seed(0)"
   ]
  },
  {
   "cell_type": "markdown",
   "metadata": {},
   "source": [
    "Now, in the cell below, import our data into a DataFrame.  The data is currently stored in `Bank_complaints.csv`.\n",
    "Then, `.describe()` the dataset to get a feel for what we're working with. "
   ]
  },
  {
   "cell_type": "code",
   "execution_count": 2,
   "metadata": {},
   "outputs": [],
   "source": [
    "df =  pd.read_csv('Bank_complaints.csv')\n"
   ]
  },
  {
   "cell_type": "code",
   "execution_count": 3,
   "metadata": {},
   "outputs": [
    {
     "data": {
      "text/html": [
       "<div>\n",
       "<style scoped>\n",
       "    .dataframe tbody tr th:only-of-type {\n",
       "        vertical-align: middle;\n",
       "    }\n",
       "\n",
       "    .dataframe tbody tr th {\n",
       "        vertical-align: top;\n",
       "    }\n",
       "\n",
       "    .dataframe thead th {\n",
       "        text-align: right;\n",
       "    }\n",
       "</style>\n",
       "<table border=\"1\" class=\"dataframe\">\n",
       "  <thead>\n",
       "    <tr style=\"text-align: right;\">\n",
       "      <th></th>\n",
       "      <th>Product</th>\n",
       "      <th>Consumer complaint narrative</th>\n",
       "    </tr>\n",
       "  </thead>\n",
       "  <tbody>\n",
       "    <tr>\n",
       "      <th>0</th>\n",
       "      <td>Student loan</td>\n",
       "      <td>In XX/XX/XXXX I filled out the Fedlaon applica...</td>\n",
       "    </tr>\n",
       "  </tbody>\n",
       "</table>\n",
       "</div>"
      ],
      "text/plain": [
       "        Product                       Consumer complaint narrative\n",
       "0  Student loan  In XX/XX/XXXX I filled out the Fedlaon applica..."
      ]
     },
     "execution_count": 3,
     "metadata": {},
     "output_type": "execute_result"
    }
   ],
   "source": [
    "df.head(1)"
   ]
  },
  {
   "cell_type": "markdown",
   "metadata": {},
   "source": [
    "In order to speed things up during the development process (and also to give us the ability to see how adding more data affects our model performance), we're going to work with a sample of our dataset rather than the whole thing.  The entire dataset consists of 60,000 rows--we're going to build a model using only 10,000 items randomly sampled from this.\n",
    "\n",
    "In the cell below:\n",
    "\n",
    "* Get a random sample of `10000` items from our dataset (HINT: use the `df` object's `.sample()` method to make this easy)\n",
    "* Reset the indexes on these samples to `range(10000)`, so that the indices for our rows are sequential and make sense.\n",
    "* Store our labels, which are found in `\"Product\"`, in a different variable.\n",
    "* Store the data, found in `\"Consumer complaint narrative`, in the variable `complaints`."
   ]
  },
  {
   "cell_type": "code",
   "execution_count": 4,
   "metadata": {},
   "outputs": [],
   "source": [
    "df = df.sample(10000)\n",
    "df.index = range(10000)\n",
    "product = df.Product\n",
    "complaints = df['Consumer complaint narrative']"
   ]
  },
  {
   "cell_type": "code",
   "execution_count": 7,
   "metadata": {},
   "outputs": [
    {
     "data": {
      "text/html": [
       "<div>\n",
       "<style scoped>\n",
       "    .dataframe tbody tr th:only-of-type {\n",
       "        vertical-align: middle;\n",
       "    }\n",
       "\n",
       "    .dataframe tbody tr th {\n",
       "        vertical-align: top;\n",
       "    }\n",
       "\n",
       "    .dataframe thead th {\n",
       "        text-align: right;\n",
       "    }\n",
       "</style>\n",
       "<table border=\"1\" class=\"dataframe\">\n",
       "  <thead>\n",
       "    <tr style=\"text-align: right;\">\n",
       "      <th></th>\n",
       "      <th>Product</th>\n",
       "      <th>Consumer complaint narrative</th>\n",
       "    </tr>\n",
       "  </thead>\n",
       "  <tbody>\n",
       "    <tr>\n",
       "      <th>9999</th>\n",
       "      <td>Credit reporting</td>\n",
       "      <td>A XXXX collection account placed on my credit ...</td>\n",
       "    </tr>\n",
       "  </tbody>\n",
       "</table>\n",
       "</div>"
      ],
      "text/plain": [
       "               Product                       Consumer complaint narrative\n",
       "9999  Credit reporting  A XXXX collection account placed on my credit ..."
      ]
     },
     "execution_count": 7,
     "metadata": {},
     "output_type": "execute_result"
    }
   ],
   "source": [
    "df.tail(1)"
   ]
  },
  {
   "cell_type": "markdown",
   "metadata": {},
   "source": [
    "### 2.2 Tokenizing the Complaints"
   ]
  },
  {
   "cell_type": "markdown",
   "metadata": {},
   "source": [
    "We'll only keep 2,000 most common words and use one-hot encoding to quickly vectorize our dataset from text into a format that a neural network can work with. \n",
    "\n",
    "In the cell below:\n",
    "\n",
    "* Create a `Tokenizer()` object, and set the `num_words` parameter to `2000`.\n",
    "* Call the tokenizer object's `fit_on_texts()` method and pass in our `complaints` variable we created above. \n"
   ]
  },
  {
   "cell_type": "code",
   "execution_count": 10,
   "metadata": {},
   "outputs": [],
   "source": [
    "# from keras.preprocessing.text import Tokenizer\n",
    "tokenizer = Tokenizer(num_words=2000)\n",
    "tokenizer.fit_on_texts(complaints)"
   ]
  },
  {
   "cell_type": "code",
   "execution_count": 27,
   "metadata": {},
   "outputs": [],
   "source": [
    "# print(tokenizer.word_counts)\n",
    "# print(tokenizer.document_count)\n",
    "# print(tokenizer.word_index)\n",
    "# print(tokenizer.word_docs)\n",
    "# word_counts: A dictionary of words and their counts.\n",
    "# word_docs: A dictionary of words and how many documents each appeared in.\n",
    "# word_index: A dictionary of words and their uniquely assigned integers.\n",
    "# document_count:An integer count of the total number of documents that were used to fit the Tokenizer."
   ]
  },
  {
   "cell_type": "markdown",
   "metadata": {},
   "source": [
    "Now, we'll create some text sequences by calling the `tokenizer` object's `.texts_to_sequences()` method and feeding in our `complaints` object."
   ]
  },
  {
   "cell_type": "code",
   "execution_count": 12,
   "metadata": {},
   "outputs": [],
   "source": [
    "sequences = tokenizer.texts_to_sequences(complaints)"
   ]
  },
  {
   "cell_type": "markdown",
   "metadata": {},
   "source": [
    "Finally, we'll convert our text data from text to a vectorized matrix.  \n",
    "\n",
    "In the cell below:\n",
    "\n",
    "* Call the `tokenizer` object's `.texts_to_matrix` method, passing in our `complaints` variable, as well as setting the `mode` parameter equal to `'binary'`.\n",
    "* Store the tokenizer's `.word_index` in the appropriate variable.\n",
    "* Check the `np.shape()` of our `one_hot_results`."
   ]
  },
  {
   "cell_type": "code",
   "execution_count": 22,
   "metadata": {},
   "outputs": [
    {
     "data": {
      "text/plain": [
       "(10000, 2000)"
      ]
     },
     "execution_count": 22,
     "metadata": {},
     "output_type": "execute_result"
    }
   ],
   "source": [
    "one_hot_results= tokenizer.texts_to_matrix(complaints, mode = 'binary')\n",
    "word_index = tokenizer.word_index\n",
    "np.shape(one_hot_results) # Expected Results (10000, 2000)"
   ]
  },
  {
   "cell_type": "markdown",
   "metadata": {},
   "source": [
    "### 2.3 One-hot Encoding of the Products Column"
   ]
  },
  {
   "cell_type": "markdown",
   "metadata": {},
   "source": [
    "Now that we've tokenized and encoded our text data, we still need to one-hot encode our label data.  \n",
    "\n",
    "In the cell below:\n",
    "\n",
    "\n",
    "* Create a `LabelEncoder` object, which can found inside the `preprocessing` module.\n",
    "* `fit` the label encoder we just created to `product`."
   ]
  },
  {
   "cell_type": "code",
   "execution_count": 29,
   "metadata": {},
   "outputs": [
    {
     "data": {
      "text/plain": [
       "LabelEncoder()"
      ]
     },
     "execution_count": 29,
     "metadata": {},
     "output_type": "execute_result"
    }
   ],
   "source": [
    "le = preprocessing.LabelEncoder()\n",
    "le.fit(product)"
   ]
  },
  {
   "cell_type": "markdown",
   "metadata": {},
   "source": [
    "Let's check what classes our label encoder found.  Run the cell below to examine a list of classes that `product` contains."
   ]
  },
  {
   "cell_type": "code",
   "execution_count": 30,
   "metadata": {},
   "outputs": [
    {
     "data": {
      "text/plain": [
       "['Bank account or service',\n",
       " 'Checking or savings account',\n",
       " 'Consumer Loan',\n",
       " 'Credit card',\n",
       " 'Credit reporting',\n",
       " 'Mortgage',\n",
       " 'Student loan']"
      ]
     },
     "execution_count": 30,
     "metadata": {},
     "output_type": "execute_result"
    }
   ],
   "source": [
    " list(le.classes_)"
   ]
  },
  {
   "cell_type": "markdown",
   "metadata": {},
   "source": [
    "Now, we'll need to transform `product` into a numeric vector.  \n",
    "\n",
    "In the cell below, use the label encoder's `.transform` method on `product` to create an integer encoded version of our labels. \n",
    "\n",
    "Then, access `product_cat` to see an example of how the labels are now encoded. "
   ]
  },
  {
   "cell_type": "code",
   "execution_count": 33,
   "metadata": {},
   "outputs": [
    {
     "data": {
      "text/plain": [
       "array([0, 6, 1, ..., 5, 6, 4])"
      ]
     },
     "execution_count": 33,
     "metadata": {},
     "output_type": "execute_result"
    }
   ],
   "source": [
    "product_cat = le.transform(product)\n",
    "product_cat"
   ]
  },
  {
   "cell_type": "markdown",
   "metadata": {},
   "source": [
    "Now, we need to go from integer encoding to one-hot encoding.  Use the `to_categorical` method from keras to do this easily in the cell below."
   ]
  },
  {
   "cell_type": "code",
   "execution_count": 34,
   "metadata": {},
   "outputs": [],
   "source": [
    "product_onehot = to_categorical(product_cat)"
   ]
  },
  {
   "cell_type": "code",
   "execution_count": 35,
   "metadata": {},
   "outputs": [
    {
     "data": {
      "text/plain": [
       "array([[1., 0., 0., ..., 0., 0., 0.],\n",
       "       [0., 0., 0., ..., 0., 0., 1.],\n",
       "       [0., 1., 0., ..., 0., 0., 0.],\n",
       "       ...,\n",
       "       [0., 0., 0., ..., 0., 1., 0.],\n",
       "       [0., 0., 0., ..., 0., 0., 1.],\n",
       "       [0., 0., 0., ..., 1., 0., 0.]], dtype=float32)"
      ]
     },
     "execution_count": 35,
     "metadata": {},
     "output_type": "execute_result"
    }
   ],
   "source": [
    "product_onehot"
   ]
  },
  {
   "cell_type": "markdown",
   "metadata": {},
   "source": [
    "Finally, let's check the shape of our one-hot encoded labels to make sure everything worked correctly."
   ]
  },
  {
   "cell_type": "code",
   "execution_count": 36,
   "metadata": {},
   "outputs": [
    {
     "data": {
      "text/plain": [
       "(10000, 7)"
      ]
     },
     "execution_count": 36,
     "metadata": {},
     "output_type": "execute_result"
    }
   ],
   "source": [
    "np.shape(product_onehot) # Expected Output: (10000, 7)"
   ]
  },
  {
   "cell_type": "markdown",
   "metadata": {},
   "source": [
    "### 2.4 Train - test split\n",
    "\n",
    "Now, we'll split our data into training and testing sets.  \n",
    "\n",
    "\n",
    "We'll accomplish this by generating a random list of 1500 different indices between 1 and 10000.  Then, we'll slice these rows and store them as our test set, and delete them from the training set (it's very important to remember to remove them from the training set!)\n",
    "\n",
    "Run the cell below to create a set of random indices for our test set. "
   ]
  },
  {
   "cell_type": "code",
   "execution_count": 37,
   "metadata": {},
   "outputs": [],
   "source": [
    "test_index = random.sample(range(1,10000), 1500)"
   ]
  },
  {
   "cell_type": "markdown",
   "metadata": {},
   "source": [
    "Now:\n",
    "\n",
    "* Slice the `test_index` rows from `one_hot_results` and store them in `test`."
   ]
  },
  {
   "cell_type": "code",
   "execution_count": 39,
   "metadata": {},
   "outputs": [],
   "source": [
    "test = one_hot_results[test_index]\n",
    "\n",
    "# This line returns a version of our one_hot_results that has every item with an index in test_index removed\n",
    "train = np.delete(one_hot_results, test_index, 0)"
   ]
  },
  {
   "cell_type": "code",
   "execution_count": 40,
   "metadata": {},
   "outputs": [
    {
     "data": {
      "text/plain": [
       "array([[0., 1., 1., ..., 0., 1., 0.],\n",
       "       [0., 0., 0., ..., 0., 0., 0.],\n",
       "       [0., 1., 1., ..., 0., 0., 0.],\n",
       "       ...,\n",
       "       [0., 1., 1., ..., 0., 0., 0.],\n",
       "       [0., 1., 1., ..., 0., 0., 0.],\n",
       "       [0., 1., 1., ..., 0., 0., 0.]])"
      ]
     },
     "execution_count": 40,
     "metadata": {},
     "output_type": "execute_result"
    }
   ],
   "source": [
    "test"
   ]
  },
  {
   "cell_type": "markdown",
   "metadata": {},
   "source": [
    "Now, we'll need to repeat the splitting process on our labels, making sure that we use the same indices we used to split our data. \n",
    "\n",
    "In the cell below:\n",
    "\n",
    "* Slice `test_index` from `product_onehot`\n",
    "* Use `np.delete` to remove `test_index` items from `product_onehot` (the syntax is exactly the same above)"
   ]
  },
  {
   "cell_type": "code",
   "execution_count": 41,
   "metadata": {},
   "outputs": [],
   "source": [
    "label_test = product_onehot[test_index]\n",
    "label_train = np.delete(product_onehot,test_index,0)"
   ]
  },
  {
   "cell_type": "code",
   "execution_count": null,
   "metadata": {},
   "outputs": [],
   "source": []
  },
  {
   "cell_type": "markdown",
   "metadata": {},
   "source": [
    "Now, let's examine the shape everything we just did to make sure that the dimensions match up.  \n",
    "\n",
    "In the cell below, use `np.shape` to check the shape of:\n",
    "\n",
    "* `label_test`\n",
    "* `label_train`\n",
    "* `test`\n",
    "* `train`"
   ]
  },
  {
   "cell_type": "code",
   "execution_count": 42,
   "metadata": {},
   "outputs": [
    {
     "name": "stdout",
     "output_type": "stream",
     "text": [
      "(1500, 7)\n",
      "(8500, 7)\n",
      "(1500, 2000)\n",
      "(8500, 2000)\n"
     ]
    }
   ],
   "source": [
    "print(np.shape(label_test)) # Expected Output: (1500, 7)\n",
    "print(np.shape(label_train)) # Expected Output: (8500, 7)\n",
    "print(np.shape(test)) # Expected Output: (1500, 2000)\n",
    "print(np.shape(train)) # Expected Output: (8500, 2000)"
   ]
  },
  {
   "cell_type": "markdown",
   "metadata": {},
   "source": [
    "## 3. Running the model using a validation set."
   ]
  },
  {
   "cell_type": "markdown",
   "metadata": {},
   "source": [
    "### 3.1 Creating the validation set"
   ]
  },
  {
   "cell_type": "markdown",
   "metadata": {},
   "source": [
    "In the lecture we mentioned that in deep learning, we generally keep aside a validation set, which is used during hyperparameter tuning. Then when we have made the final model decision, the test set is used to define the final model perforance. \n",
    "\n",
    "In this example, let's take the first 1000 cases out of the training set to become the validation set. You should do this for both `train` and `label_train`.\n",
    "\n",
    "Run the cell below to create our validation set. "
   ]
  },
  {
   "cell_type": "code",
   "execution_count": 43,
   "metadata": {},
   "outputs": [],
   "source": [
    "random.seed(123)\n",
    "val = train[:1000]\n",
    "train_final = train[1000:]\n",
    "label_val = label_train[:1000]\n",
    "label_train_final = label_train[1000:]"
   ]
  },
  {
   "cell_type": "code",
   "execution_count": 58,
   "metadata": {},
   "outputs": [
    {
     "name": "stdout",
     "output_type": "stream",
     "text": [
      "(1000, 2000)\n",
      "(7500, 2000)\n",
      "(1000, 7)\n",
      "(7500, 7)\n"
     ]
    }
   ],
   "source": [
    "print(np.shape(val))\n",
    "print(np.shape(train_final))\n",
    "print(np.shape(label_val))\n",
    "print(np.shape(label_train_final))"
   ]
  },
  {
   "cell_type": "code",
   "execution_count": 51,
   "metadata": {},
   "outputs": [
    {
     "data": {
      "text/plain": [
       "(1000, 2000)"
      ]
     },
     "execution_count": 51,
     "metadata": {},
     "output_type": "execute_result"
    }
   ],
   "source": [
    "np.shape(val)"
   ]
  },
  {
   "cell_type": "markdown",
   "metadata": {},
   "source": [
    "### 3.2 Creating, compiling and running the model"
   ]
  },
  {
   "cell_type": "markdown",
   "metadata": {},
   "source": [
    "Let's rebuild a fully connected (Dense) layer network with relu activations in Keras."
   ]
  },
  {
   "cell_type": "markdown",
   "metadata": {},
   "source": [
    "Recall that we used 2 hidden with 50 units in the first layer and 25 in the second, both with a `relu` activation function. Because we are dealing with a multiclass problem (classifying the complaints into 7 classes), we use a use a softmax classifyer in order to output 7 class probabilities per case.\n",
    "\n",
    "In the cell below:\n",
    "\n",
    "* Import `Sequential` from the appropriate module in keras.\n",
    "* Import `Dense` from the appropriate module in keras."
   ]
  },
  {
   "cell_type": "code",
   "execution_count": 44,
   "metadata": {},
   "outputs": [],
   "source": [
    "from keras.models import Sequential\n",
    "from keras.layers import Dense"
   ]
  },
  {
   "cell_type": "markdown",
   "metadata": {},
   "source": [
    "Now, build a model with the following specifications in the cell below:\n",
    "\n",
    "* An input layer of shape `(2000,)`\n",
    "* Hidden layer 1: Dense, 50 neurons, relu activation \n",
    "* Hidden layer 2: Dense, 25 neurons, relu activation\n",
    "* Output layer: Dense, 7 neurons, softmax activation"
   ]
  },
  {
   "cell_type": "code",
   "execution_count": 52,
   "metadata": {},
   "outputs": [],
   "source": [
    "model = Sequential()\n",
    "model.add(Dense(50,activation='relu', input_shape=(2000,))) \n",
    "model.add(Dense(25,activation='relu'))\n",
    "model.add(Dense(7,activation='softmax'))"
   ]
  },
  {
   "cell_type": "markdown",
   "metadata": {},
   "source": [
    "In the cell below, `compile` the model with the following settings:\n",
    "\n",
    "* Optimizer is `\"SGD\"`\n",
    "* Loss is `'categorical_crossentropy'`\n",
    "* metrics is `['accuracy']`"
   ]
  },
  {
   "cell_type": "code",
   "execution_count": 53,
   "metadata": {},
   "outputs": [],
   "source": [
    "model.compile(optimizer='SGD',\n",
    "              loss='categorical_crossentropy',\n",
    "              metrics=['accuracy'])"
   ]
  },
  {
   "cell_type": "markdown",
   "metadata": {},
   "source": [
    "Now, Train the model for 120 epochs in mini-batches of 256 samples. Also pass in `(val, label_val)` to the `validation_data` parameter, so that we see how our model does on the test set after every epoch. "
   ]
  },
  {
   "cell_type": "code",
   "execution_count": 54,
   "metadata": {},
   "outputs": [
    {
     "name": "stdout",
     "output_type": "stream",
     "text": [
      "Train on 7500 samples, validate on 1000 samples\n",
      "Epoch 1/120\n",
      "7500/7500 [==============================] - 3s 398us/step - loss: 1.9346 - acc: 0.1589 - val_loss: 1.9237 - val_acc: 0.1520\n",
      "Epoch 2/120\n",
      "7500/7500 [==============================] - 2s 288us/step - loss: 1.9126 - acc: 0.1924 - val_loss: 1.9034 - val_acc: 0.1830\n",
      "Epoch 3/120\n",
      "7500/7500 [==============================] - 2s 286us/step - loss: 1.8925 - acc: 0.2225 - val_loss: 1.8833 - val_acc: 0.2250\n",
      "Epoch 4/120\n",
      "7500/7500 [==============================] - 2s 286us/step - loss: 1.8716 - acc: 0.2555 - val_loss: 1.8629 - val_acc: 0.2620\n",
      "Epoch 5/120\n",
      "7500/7500 [==============================] - 2s 286us/step - loss: 1.8480 - acc: 0.2783 - val_loss: 1.8391 - val_acc: 0.2920\n",
      "Epoch 6/120\n",
      "7500/7500 [==============================] - 2s 286us/step - loss: 1.8207 - acc: 0.3117 - val_loss: 1.8115 - val_acc: 0.3140\n",
      "Epoch 7/120\n",
      "7500/7500 [==============================] - 2s 290us/step - loss: 1.7895 - acc: 0.3369 - val_loss: 1.7802 - val_acc: 0.3390\n",
      "Epoch 8/120\n",
      "7500/7500 [==============================] - 2s 292us/step - loss: 1.7544 - acc: 0.3645 - val_loss: 1.7456 - val_acc: 0.3610\n",
      "Epoch 9/120\n",
      "7500/7500 [==============================] - 2s 312us/step - loss: 1.7155 - acc: 0.3956 - val_loss: 1.7063 - val_acc: 0.3840\n",
      "Epoch 10/120\n",
      "7500/7500 [==============================] - 2s 313us/step - loss: 1.6725 - acc: 0.4277 - val_loss: 1.6636 - val_acc: 0.4110\n",
      "Epoch 11/120\n",
      "7500/7500 [==============================] - 2s 310us/step - loss: 1.6253 - acc: 0.4585 - val_loss: 1.6161 - val_acc: 0.4370\n",
      "Epoch 12/120\n",
      "7500/7500 [==============================] - 2s 298us/step - loss: 1.5729 - acc: 0.4880 - val_loss: 1.5664 - val_acc: 0.4630\n",
      "Epoch 13/120\n",
      "7500/7500 [==============================] - 2s 292us/step - loss: 1.5180 - acc: 0.5164 - val_loss: 1.5140 - val_acc: 0.4940\n",
      "Epoch 14/120\n",
      "7500/7500 [==============================] - 2s 317us/step - loss: 1.4622 - acc: 0.5387 - val_loss: 1.4608 - val_acc: 0.5180\n",
      "Epoch 15/120\n",
      "7500/7500 [==============================] - 2s 318us/step - loss: 1.4066 - acc: 0.5641 - val_loss: 1.4081 - val_acc: 0.5360\n",
      "Epoch 16/120\n",
      "7500/7500 [==============================] - 2s 273us/step - loss: 1.3522 - acc: 0.5857 - val_loss: 1.3574 - val_acc: 0.5550\n",
      "Epoch 17/120\n",
      "7500/7500 [==============================] - 2s 267us/step - loss: 1.2998 - acc: 0.6083 - val_loss: 1.3086 - val_acc: 0.5740\n",
      "Epoch 18/120\n",
      "7500/7500 [==============================] - 2s 281us/step - loss: 1.2503 - acc: 0.6268 - val_loss: 1.2631 - val_acc: 0.5980\n",
      "Epoch 19/120\n",
      "7500/7500 [==============================] - 2s 270us/step - loss: 1.2035 - acc: 0.6412 - val_loss: 1.2222 - val_acc: 0.6120\n",
      "Epoch 20/120\n",
      "7500/7500 [==============================] - 2s 277us/step - loss: 1.1600 - acc: 0.6529 - val_loss: 1.1820 - val_acc: 0.6290\n",
      "Epoch 21/120\n",
      "7500/7500 [==============================] - 2s 270us/step - loss: 1.1193 - acc: 0.6652 - val_loss: 1.1461 - val_acc: 0.6290\n",
      "Epoch 22/120\n",
      "7500/7500 [==============================] - 2s 261us/step - loss: 1.0811 - acc: 0.6780 - val_loss: 1.1093 - val_acc: 0.6430\n",
      "Epoch 23/120\n",
      "7500/7500 [==============================] - 2s 250us/step - loss: 1.0455 - acc: 0.6853 - val_loss: 1.0819 - val_acc: 0.6420\n",
      "Epoch 24/120\n",
      "7500/7500 [==============================] - 2s 253us/step - loss: 1.0131 - acc: 0.6948 - val_loss: 1.0504 - val_acc: 0.6530\n",
      "Epoch 25/120\n",
      "7500/7500 [==============================] - 2s 238us/step - loss: 0.9818 - acc: 0.7027 - val_loss: 1.0221 - val_acc: 0.6540\n",
      "Epoch 26/120\n",
      "7500/7500 [==============================] - 2s 250us/step - loss: 0.9529 - acc: 0.7096 - val_loss: 0.9961 - val_acc: 0.6680\n",
      "Epoch 27/120\n",
      "7500/7500 [==============================] - 2s 328us/step - loss: 0.9257 - acc: 0.7187 - val_loss: 0.9695 - val_acc: 0.6690\n",
      "Epoch 28/120\n",
      "7500/7500 [==============================] - 2s 300us/step - loss: 0.9005 - acc: 0.7221 - val_loss: 0.9479 - val_acc: 0.6690\n",
      "Epoch 29/120\n",
      "7500/7500 [==============================] - 2s 313us/step - loss: 0.8767 - acc: 0.7288 - val_loss: 0.9283 - val_acc: 0.6810\n",
      "Epoch 30/120\n",
      "7500/7500 [==============================] - 2s 323us/step - loss: 0.8546 - acc: 0.7324 - val_loss: 0.9063 - val_acc: 0.6950\n",
      "Epoch 31/120\n",
      "7500/7500 [==============================] - 2s 323us/step - loss: 0.8344 - acc: 0.7387 - val_loss: 0.8885 - val_acc: 0.6890\n",
      "Epoch 32/120\n",
      "7500/7500 [==============================] - 3s 355us/step - loss: 0.8149 - acc: 0.7447 - val_loss: 0.8729 - val_acc: 0.6940\n",
      "Epoch 33/120\n",
      "7500/7500 [==============================] - 2s 294us/step - loss: 0.7972 - acc: 0.7471 - val_loss: 0.8570 - val_acc: 0.6970\n",
      "Epoch 34/120\n",
      "7500/7500 [==============================] - 2s 259us/step - loss: 0.7801 - acc: 0.7509 - val_loss: 0.8449 - val_acc: 0.6980\n",
      "Epoch 35/120\n",
      "7500/7500 [==============================] - 2s 267us/step - loss: 0.7641 - acc: 0.7573 - val_loss: 0.8321 - val_acc: 0.7080\n",
      "Epoch 36/120\n",
      "7500/7500 [==============================] - 2s 249us/step - loss: 0.7494 - acc: 0.7600 - val_loss: 0.8189 - val_acc: 0.7060\n",
      "Epoch 37/120\n",
      "7500/7500 [==============================] - 2s 259us/step - loss: 0.7355 - acc: 0.7645 - val_loss: 0.8075 - val_acc: 0.7140\n",
      "Epoch 38/120\n",
      "7500/7500 [==============================] - 2s 296us/step - loss: 0.7228 - acc: 0.7669 - val_loss: 0.7948 - val_acc: 0.7140\n",
      "Epoch 39/120\n",
      "7500/7500 [==============================] - 2s 271us/step - loss: 0.7105 - acc: 0.7716 - val_loss: 0.7862 - val_acc: 0.7140\n",
      "Epoch 40/120\n",
      "7500/7500 [==============================] - 2s 270us/step - loss: 0.6987 - acc: 0.7731 - val_loss: 0.7770 - val_acc: 0.7150\n",
      "Epoch 41/120\n",
      "7500/7500 [==============================] - 2s 297us/step - loss: 0.6877 - acc: 0.7775 - val_loss: 0.7683 - val_acc: 0.7230\n",
      "Epoch 42/120\n",
      "7500/7500 [==============================] - 2s 241us/step - loss: 0.6780 - acc: 0.7765 - val_loss: 0.7594 - val_acc: 0.7230\n",
      "Epoch 43/120\n",
      "7500/7500 [==============================] - 2s 240us/step - loss: 0.6676 - acc: 0.7808 - val_loss: 0.7549 - val_acc: 0.7210\n",
      "Epoch 44/120\n",
      "7500/7500 [==============================] - 2s 239us/step - loss: 0.6581 - acc: 0.7823 - val_loss: 0.7449 - val_acc: 0.7360\n",
      "Epoch 45/120\n",
      "7500/7500 [==============================] - 2s 239us/step - loss: 0.6499 - acc: 0.7851 - val_loss: 0.7394 - val_acc: 0.7240\n",
      "Epoch 46/120\n",
      "7500/7500 [==============================] - 2s 237us/step - loss: 0.6408 - acc: 0.7897 - val_loss: 0.7361 - val_acc: 0.7250\n",
      "Epoch 47/120\n",
      "7500/7500 [==============================] - 2s 244us/step - loss: 0.6325 - acc: 0.7897 - val_loss: 0.7287 - val_acc: 0.7230\n",
      "Epoch 48/120\n",
      "7500/7500 [==============================] - 2s 252us/step - loss: 0.6251 - acc: 0.7916 - val_loss: 0.7218 - val_acc: 0.7290\n",
      "Epoch 49/120\n",
      "7500/7500 [==============================] - 2s 244us/step - loss: 0.6173 - acc: 0.7945 - val_loss: 0.7221 - val_acc: 0.7310\n",
      "Epoch 50/120\n",
      "7500/7500 [==============================] - 2s 251us/step - loss: 0.6101 - acc: 0.7961 - val_loss: 0.7152 - val_acc: 0.7290\n",
      "Epoch 51/120\n",
      "7500/7500 [==============================] - 2s 240us/step - loss: 0.6030 - acc: 0.7983 - val_loss: 0.7125 - val_acc: 0.7330\n",
      "Epoch 52/120\n",
      "7500/7500 [==============================] - 2s 246us/step - loss: 0.5963 - acc: 0.7972 - val_loss: 0.7075 - val_acc: 0.7410\n",
      "Epoch 53/120\n",
      "7500/7500 [==============================] - 2s 247us/step - loss: 0.5903 - acc: 0.7991 - val_loss: 0.7065 - val_acc: 0.7370\n",
      "Epoch 54/120\n",
      "7500/7500 [==============================] - 2s 253us/step - loss: 0.5841 - acc: 0.8017 - val_loss: 0.6996 - val_acc: 0.7450\n",
      "Epoch 55/120\n",
      "7500/7500 [==============================] - 2s 245us/step - loss: 0.5780 - acc: 0.8040 - val_loss: 0.6939 - val_acc: 0.7470\n",
      "Epoch 56/120\n",
      "7500/7500 [==============================] - 2s 238us/step - loss: 0.5721 - acc: 0.8063 - val_loss: 0.6923 - val_acc: 0.7440\n",
      "Epoch 57/120\n",
      "7500/7500 [==============================] - 2s 239us/step - loss: 0.5667 - acc: 0.8071 - val_loss: 0.6885 - val_acc: 0.7460\n",
      "Epoch 58/120\n",
      "7500/7500 [==============================] - 2s 238us/step - loss: 0.5610 - acc: 0.8115 - val_loss: 0.6851 - val_acc: 0.7480\n",
      "Epoch 59/120\n",
      "7500/7500 [==============================] - 2s 257us/step - loss: 0.5555 - acc: 0.8124 - val_loss: 0.6826 - val_acc: 0.7500\n",
      "Epoch 60/120\n"
     ]
    },
    {
     "name": "stdout",
     "output_type": "stream",
     "text": [
      "7500/7500 [==============================] - 2s 244us/step - loss: 0.5501 - acc: 0.8135 - val_loss: 0.6830 - val_acc: 0.7480\n",
      "Epoch 61/120\n",
      "7500/7500 [==============================] - 2s 239us/step - loss: 0.5451 - acc: 0.8155 - val_loss: 0.6761 - val_acc: 0.7500\n",
      "Epoch 62/120\n",
      "7500/7500 [==============================] - 2s 236us/step - loss: 0.5405 - acc: 0.8168 - val_loss: 0.6780 - val_acc: 0.7510\n",
      "Epoch 63/120\n",
      "7500/7500 [==============================] - 2s 238us/step - loss: 0.5354 - acc: 0.8175 - val_loss: 0.6848 - val_acc: 0.7480\n",
      "Epoch 64/120\n",
      "7500/7500 [==============================] - 2s 238us/step - loss: 0.5309 - acc: 0.8201 - val_loss: 0.6707 - val_acc: 0.7550\n",
      "Epoch 65/120\n",
      "7500/7500 [==============================] - 2s 238us/step - loss: 0.5261 - acc: 0.8211 - val_loss: 0.6698 - val_acc: 0.7540\n",
      "Epoch 66/120\n",
      "7500/7500 [==============================] - 2s 237us/step - loss: 0.5217 - acc: 0.8244 - val_loss: 0.6710 - val_acc: 0.7520\n",
      "Epoch 67/120\n",
      "7500/7500 [==============================] - 2s 237us/step - loss: 0.5170 - acc: 0.8228 - val_loss: 0.6705 - val_acc: 0.7500\n",
      "Epoch 68/120\n",
      "7500/7500 [==============================] - 2s 239us/step - loss: 0.5127 - acc: 0.8252 - val_loss: 0.6718 - val_acc: 0.7520\n",
      "Epoch 69/120\n",
      "7500/7500 [==============================] - 2s 236us/step - loss: 0.5086 - acc: 0.8280 - val_loss: 0.6671 - val_acc: 0.7570\n",
      "Epoch 70/120\n",
      "7500/7500 [==============================] - 2s 236us/step - loss: 0.5041 - acc: 0.8272 - val_loss: 0.6594 - val_acc: 0.7590\n",
      "Epoch 71/120\n",
      "7500/7500 [==============================] - 2s 238us/step - loss: 0.5003 - acc: 0.8292 - val_loss: 0.6580 - val_acc: 0.7620\n",
      "Epoch 72/120\n",
      "7500/7500 [==============================] - 2s 238us/step - loss: 0.4961 - acc: 0.8303 - val_loss: 0.6609 - val_acc: 0.7590\n",
      "Epoch 73/120\n",
      "7500/7500 [==============================] - 2s 238us/step - loss: 0.4924 - acc: 0.8324 - val_loss: 0.6585 - val_acc: 0.7600\n",
      "Epoch 74/120\n",
      "7500/7500 [==============================] - 2s 248us/step - loss: 0.4880 - acc: 0.8340 - val_loss: 0.6585 - val_acc: 0.7570\n",
      "Epoch 75/120\n",
      "7500/7500 [==============================] - 2s 257us/step - loss: 0.4837 - acc: 0.8339 - val_loss: 0.6616 - val_acc: 0.7600\n",
      "Epoch 76/120\n",
      "7500/7500 [==============================] - 2s 248us/step - loss: 0.4799 - acc: 0.8344 - val_loss: 0.6534 - val_acc: 0.7580\n",
      "Epoch 77/120\n",
      "7500/7500 [==============================] - 2s 243us/step - loss: 0.4766 - acc: 0.8376 - val_loss: 0.6522 - val_acc: 0.7610\n",
      "Epoch 78/120\n",
      "7500/7500 [==============================] - 2s 260us/step - loss: 0.4730 - acc: 0.8397 - val_loss: 0.6561 - val_acc: 0.7600\n",
      "Epoch 79/120\n",
      "7500/7500 [==============================] - 2s 296us/step - loss: 0.4690 - acc: 0.8415 - val_loss: 0.6653 - val_acc: 0.7530\n",
      "Epoch 80/120\n",
      "7500/7500 [==============================] - 2s 247us/step - loss: 0.4658 - acc: 0.8420 - val_loss: 0.6556 - val_acc: 0.7580\n",
      "Epoch 81/120\n",
      "7500/7500 [==============================] - 2s 249us/step - loss: 0.4620 - acc: 0.8421 - val_loss: 0.6544 - val_acc: 0.7610\n",
      "Epoch 82/120\n",
      "7500/7500 [==============================] - 2s 271us/step - loss: 0.4583 - acc: 0.8433 - val_loss: 0.6505 - val_acc: 0.7620\n",
      "Epoch 83/120\n",
      "7500/7500 [==============================] - 2s 288us/step - loss: 0.4548 - acc: 0.8455 - val_loss: 0.6476 - val_acc: 0.7620\n",
      "Epoch 84/120\n",
      "7500/7500 [==============================] - 2s 260us/step - loss: 0.4516 - acc: 0.8452 - val_loss: 0.6503 - val_acc: 0.7610\n",
      "Epoch 85/120\n",
      "7500/7500 [==============================] - 2s 248us/step - loss: 0.4480 - acc: 0.8472 - val_loss: 0.6502 - val_acc: 0.7630\n",
      "Epoch 86/120\n",
      "7500/7500 [==============================] - 2s 244us/step - loss: 0.4446 - acc: 0.8501 - val_loss: 0.6532 - val_acc: 0.7600\n",
      "Epoch 87/120\n",
      "7500/7500 [==============================] - 2s 253us/step - loss: 0.4414 - acc: 0.8511 - val_loss: 0.6520 - val_acc: 0.7600\n",
      "Epoch 88/120\n",
      "7500/7500 [==============================] - 2s 244us/step - loss: 0.4381 - acc: 0.8532 - val_loss: 0.6479 - val_acc: 0.7610\n",
      "Epoch 89/120\n",
      "7500/7500 [==============================] - 2s 238us/step - loss: 0.4350 - acc: 0.8533 - val_loss: 0.6474 - val_acc: 0.7580\n",
      "Epoch 90/120\n",
      "7500/7500 [==============================] - 2s 239us/step - loss: 0.4316 - acc: 0.8516 - val_loss: 0.6440 - val_acc: 0.7610\n",
      "Epoch 91/120\n",
      "7500/7500 [==============================] - 2s 240us/step - loss: 0.4281 - acc: 0.8555 - val_loss: 0.6497 - val_acc: 0.7620\n",
      "Epoch 92/120\n",
      "7500/7500 [==============================] - 2s 237us/step - loss: 0.4254 - acc: 0.8551 - val_loss: 0.6439 - val_acc: 0.7620\n",
      "Epoch 93/120\n",
      "7500/7500 [==============================] - 2s 243us/step - loss: 0.4221 - acc: 0.8569 - val_loss: 0.6446 - val_acc: 0.7590\n",
      "Epoch 94/120\n",
      "7500/7500 [==============================] - 2s 253us/step - loss: 0.4193 - acc: 0.8579 - val_loss: 0.6491 - val_acc: 0.7580\n",
      "Epoch 95/120\n",
      "7500/7500 [==============================] - 2s 258us/step - loss: 0.4160 - acc: 0.8585 - val_loss: 0.6456 - val_acc: 0.7590\n",
      "Epoch 96/120\n",
      "7500/7500 [==============================] - 2s 251us/step - loss: 0.4127 - acc: 0.8601 - val_loss: 0.6464 - val_acc: 0.7580\n",
      "Epoch 97/120\n",
      "7500/7500 [==============================] - 2s 245us/step - loss: 0.4101 - acc: 0.8612 - val_loss: 0.6420 - val_acc: 0.7630\n",
      "Epoch 98/120\n",
      "7500/7500 [==============================] - 2s 242us/step - loss: 0.4073 - acc: 0.8628 - val_loss: 0.6457 - val_acc: 0.7610\n",
      "Epoch 99/120\n",
      "7500/7500 [==============================] - 2s 242us/step - loss: 0.4043 - acc: 0.8636 - val_loss: 0.6458 - val_acc: 0.7590\n",
      "Epoch 100/120\n",
      "7500/7500 [==============================] - 2s 253us/step - loss: 0.4012 - acc: 0.8663 - val_loss: 0.6516 - val_acc: 0.7550\n",
      "Epoch 101/120\n",
      "7500/7500 [==============================] - 2s 307us/step - loss: 0.3986 - acc: 0.8665 - val_loss: 0.6449 - val_acc: 0.7600\n",
      "Epoch 102/120\n",
      "7500/7500 [==============================] - 2s 249us/step - loss: 0.3953 - acc: 0.8675 - val_loss: 0.6513 - val_acc: 0.7620\n",
      "Epoch 103/120\n",
      "7500/7500 [==============================] - 2s 241us/step - loss: 0.3924 - acc: 0.8681 - val_loss: 0.6532 - val_acc: 0.7630\n",
      "Epoch 104/120\n",
      "7500/7500 [==============================] - 2s 322us/step - loss: 0.3896 - acc: 0.8703 - val_loss: 0.6495 - val_acc: 0.7620\n",
      "Epoch 105/120\n",
      "7500/7500 [==============================] - 3s 365us/step - loss: 0.3872 - acc: 0.8692 - val_loss: 0.6409 - val_acc: 0.7660\n",
      "Epoch 106/120\n",
      "7500/7500 [==============================] - 3s 349us/step - loss: 0.3842 - acc: 0.8723 - val_loss: 0.6450 - val_acc: 0.7650\n",
      "Epoch 107/120\n",
      "7500/7500 [==============================] - 2s 320us/step - loss: 0.3812 - acc: 0.8733 - val_loss: 0.6574 - val_acc: 0.7580\n",
      "Epoch 108/120\n",
      "7500/7500 [==============================] - 2s 322us/step - loss: 0.3791 - acc: 0.8733 - val_loss: 0.6460 - val_acc: 0.7620\n",
      "Epoch 109/120\n",
      "7500/7500 [==============================] - 2s 321us/step - loss: 0.3760 - acc: 0.8735 - val_loss: 0.6528 - val_acc: 0.7650\n",
      "Epoch 110/120\n",
      "7500/7500 [==============================] - 2s 313us/step - loss: 0.3735 - acc: 0.8764 - val_loss: 0.6421 - val_acc: 0.7660\n",
      "Epoch 111/120\n",
      "7500/7500 [==============================] - 2s 315us/step - loss: 0.3712 - acc: 0.8775 - val_loss: 0.6521 - val_acc: 0.7570\n",
      "Epoch 112/120\n",
      "7500/7500 [==============================] - 2s 317us/step - loss: 0.3689 - acc: 0.8784 - val_loss: 0.6469 - val_acc: 0.7610\n",
      "Epoch 113/120\n",
      "7500/7500 [==============================] - 2s 323us/step - loss: 0.3665 - acc: 0.8779 - val_loss: 0.6556 - val_acc: 0.7620\n",
      "Epoch 114/120\n",
      "7500/7500 [==============================] - 2s 300us/step - loss: 0.3634 - acc: 0.8797 - val_loss: 0.6458 - val_acc: 0.7650\n",
      "Epoch 115/120\n",
      "7500/7500 [==============================] - 2s 302us/step - loss: 0.3610 - acc: 0.8801 - val_loss: 0.6573 - val_acc: 0.7600\n",
      "Epoch 116/120\n",
      "7500/7500 [==============================] - 2s 329us/step - loss: 0.3582 - acc: 0.8816 - val_loss: 0.6560 - val_acc: 0.7590\n",
      "Epoch 117/120\n",
      "7500/7500 [==============================] - 2s 320us/step - loss: 0.3561 - acc: 0.8827 - val_loss: 0.6549 - val_acc: 0.7610\n",
      "Epoch 118/120\n",
      "7500/7500 [==============================] - 2s 317us/step - loss: 0.3537 - acc: 0.8833 - val_loss: 0.6546 - val_acc: 0.7560\n",
      "Epoch 119/120\n",
      "7500/7500 [==============================] - 2s 331us/step - loss: 0.3508 - acc: 0.8845 - val_loss: 0.6511 - val_acc: 0.7560\n",
      "Epoch 120/120\n",
      "7500/7500 [==============================] - 2s 314us/step - loss: 0.3489 - acc: 0.8837 - val_loss: 0.6498 - val_acc: 0.7600\n"
     ]
    }
   ],
   "source": [
    "model_val = model.fit(train_final,\n",
    "                    label_train_final,\n",
    "                    epochs=120,\n",
    "                    batch_size=256,\n",
    "                    validation_data=(val, label_val))"
   ]
  },
  {
   "cell_type": "markdown",
   "metadata": {},
   "source": [
    "The dictionary `history` contains four entries this time: one per metric that was being monitored during training and during validation.\n",
    "\n",
    "In the cell below:\n",
    "\n",
    "* Store the model's `.history` inside of `model_val_dict`\n",
    "* Check what `keys()` this dictionary contains"
   ]
  },
  {
   "cell_type": "code",
   "execution_count": 55,
   "metadata": {},
   "outputs": [
    {
     "data": {
      "text/plain": [
       "dict_keys(['val_loss', 'val_acc', 'loss', 'acc'])"
      ]
     },
     "execution_count": 55,
     "metadata": {},
     "output_type": "execute_result"
    }
   ],
   "source": [
    "model_val_dict = model_val.history\n",
    "model_val_dict.keys()"
   ]
  },
  {
   "cell_type": "markdown",
   "metadata": {},
   "source": [
    "Now, let's get the final results on the training and testing sets using `model.evaluate()` on `train_final` and `label_train_final`."
   ]
  },
  {
   "cell_type": "code",
   "execution_count": 56,
   "metadata": {},
   "outputs": [
    {
     "name": "stdout",
     "output_type": "stream",
     "text": [
      "7500/7500 [==============================] - 2s 262us/step\n"
     ]
    }
   ],
   "source": [
    "results_train = model.evaluate(train_final, label_train_final)"
   ]
  },
  {
   "cell_type": "markdown",
   "metadata": {},
   "source": [
    "Let's also use this function to get the results on our testing set.  Call the function again, but this time on `test` and `label_test`. "
   ]
  },
  {
   "cell_type": "code",
   "execution_count": 59,
   "metadata": {},
   "outputs": [
    {
     "name": "stdout",
     "output_type": "stream",
     "text": [
      "1500/1500 [==============================] - 0s 303us/step\n"
     ]
    }
   ],
   "source": [
    "results_test = model.evaluate(test, label_test)"
   ]
  },
  {
   "cell_type": "markdown",
   "metadata": {},
   "source": [
    "Now, check the contents of each. "
   ]
  },
  {
   "cell_type": "code",
   "execution_count": 60,
   "metadata": {},
   "outputs": [
    {
     "data": {
      "text/plain": [
       "[0.3448504872441292, 0.8893333333333333]"
      ]
     },
     "execution_count": 60,
     "metadata": {},
     "output_type": "execute_result"
    }
   ],
   "source": [
    "results_train # Expected Results: [0.33576024494171142, 0.89600000000000002]"
   ]
  },
  {
   "cell_type": "code",
   "execution_count": 61,
   "metadata": {},
   "outputs": [
    {
     "data": {
      "text/plain": [
       "[0.6270274307727813, 0.7593333333333333]"
      ]
     },
     "execution_count": 61,
     "metadata": {},
     "output_type": "execute_result"
    }
   ],
   "source": [
    "results_test # Expected Results: [0.72006658554077152, 0.74333333365122478]"
   ]
  },
  {
   "cell_type": "code",
   "execution_count": 63,
   "metadata": {},
   "outputs": [
    {
     "data": {
      "text/plain": [
       "{'val_loss': [1.923747929573059,\n",
       "  1.903404146194458,\n",
       "  1.8833405055999757,\n",
       "  1.8629248723983765,\n",
       "  1.8390928010940553,\n",
       "  1.811545934677124,\n",
       "  1.7802221660614013,\n",
       "  1.7456075506210327,\n",
       "  1.7062777719497682,\n",
       "  1.6636336421966553,\n",
       "  1.6161155662536622,\n",
       "  1.5664185409545899,\n",
       "  1.514007466316223,\n",
       "  1.4607902345657349,\n",
       "  1.4080764598846436,\n",
       "  1.3574026412963867,\n",
       "  1.308613842010498,\n",
       "  1.2630957221984864,\n",
       "  1.222189609527588,\n",
       "  1.1819880418777466,\n",
       "  1.1461393404006959,\n",
       "  1.109346872329712,\n",
       "  1.081881417274475,\n",
       "  1.0503777275085449,\n",
       "  1.0221461381912231,\n",
       "  0.99610675907135,\n",
       "  0.9694620456695556,\n",
       "  0.9478779697418213,\n",
       "  0.9282625575065613,\n",
       "  0.9063040251731873,\n",
       "  0.8884898209571839,\n",
       "  0.8728558807373047,\n",
       "  0.8569863328933716,\n",
       "  0.8448549547195434,\n",
       "  0.8320631852149963,\n",
       "  0.8188950366973877,\n",
       "  0.8075011076927185,\n",
       "  0.7947821936607361,\n",
       "  0.7862267265319824,\n",
       "  0.7770417056083679,\n",
       "  0.7682788643836975,\n",
       "  0.7594435095787049,\n",
       "  0.7548910655975342,\n",
       "  0.744863525390625,\n",
       "  0.7393947443962097,\n",
       "  0.736120397567749,\n",
       "  0.7286795902252198,\n",
       "  0.7217977356910705,\n",
       "  0.7220618262290954,\n",
       "  0.7152116737365722,\n",
       "  0.7124935517311096,\n",
       "  0.7074935517311096,\n",
       "  0.7065257201194763,\n",
       "  0.6995649542808533,\n",
       "  0.6939284720420837,\n",
       "  0.6922704434394836,\n",
       "  0.6885286836624146,\n",
       "  0.6850940003395081,\n",
       "  0.6826108222007752,\n",
       "  0.6830485100746155,\n",
       "  0.6761129312515258,\n",
       "  0.6779535322189331,\n",
       "  0.6848145475387574,\n",
       "  0.6707369823455811,\n",
       "  0.6697601175308228,\n",
       "  0.6709523682594299,\n",
       "  0.6705172719955445,\n",
       "  0.6717969045639038,\n",
       "  0.6671467423439026,\n",
       "  0.6593734784126282,\n",
       "  0.6580452837944031,\n",
       "  0.6609021692276001,\n",
       "  0.6584827218055725,\n",
       "  0.6585046257972718,\n",
       "  0.6616275768280029,\n",
       "  0.6534010362625122,\n",
       "  0.6521647658348083,\n",
       "  0.6561027555465698,\n",
       "  0.6652758326530457,\n",
       "  0.6556121726036072,\n",
       "  0.654445405960083,\n",
       "  0.650466480255127,\n",
       "  0.6475911169052124,\n",
       "  0.6502932558059692,\n",
       "  0.650183590888977,\n",
       "  0.653164439201355,\n",
       "  0.6520344038009643,\n",
       "  0.6478539800643921,\n",
       "  0.6473978371620178,\n",
       "  0.6440464062690735,\n",
       "  0.649723937034607,\n",
       "  0.6439150304794311,\n",
       "  0.6446086468696595,\n",
       "  0.6491310772895813,\n",
       "  0.6455914297103882,\n",
       "  0.6464154634475708,\n",
       "  0.6419502377510071,\n",
       "  0.6456741118431091,\n",
       "  0.6458227190971374,\n",
       "  0.6515796051025391,\n",
       "  0.6448764390945435,\n",
       "  0.6513044576644897,\n",
       "  0.6532016606330872,\n",
       "  0.6494807033538819,\n",
       "  0.6409436640739441,\n",
       "  0.6449817981719971,\n",
       "  0.6573516492843627,\n",
       "  0.6459651522636414,\n",
       "  0.6527724118232727,\n",
       "  0.6420530104637145,\n",
       "  0.6521277074813843,\n",
       "  0.646873462677002,\n",
       "  0.6556330075263977,\n",
       "  0.6458055200576782,\n",
       "  0.6573349294662476,\n",
       "  0.6560355491638183,\n",
       "  0.6549284029006958,\n",
       "  0.6545982193946839,\n",
       "  0.651104419708252,\n",
       "  0.6497881178855895],\n",
       " 'val_acc': [0.152,\n",
       "  0.18300000166893005,\n",
       "  0.22500000154972077,\n",
       "  0.26200000011920926,\n",
       "  0.2919999973773956,\n",
       "  0.31400000071525574,\n",
       "  0.3389999992847443,\n",
       "  0.3609999978542328,\n",
       "  0.3840000011920929,\n",
       "  0.41099999856948854,\n",
       "  0.43699999833106995,\n",
       "  0.4629999992847443,\n",
       "  0.4939999990463257,\n",
       "  0.5180000023841858,\n",
       "  0.5360000023841858,\n",
       "  0.555,\n",
       "  0.5739999985694886,\n",
       "  0.5980000052452087,\n",
       "  0.6119999947547913,\n",
       "  0.6290000004768371,\n",
       "  0.6290000061988831,\n",
       "  0.6430000014305115,\n",
       "  0.6419999980926514,\n",
       "  0.6529999966621399,\n",
       "  0.6540000023841858,\n",
       "  0.6679999942779541,\n",
       "  0.6689999942779541,\n",
       "  0.6690000023841858,\n",
       "  0.6810000033378601,\n",
       "  0.695,\n",
       "  0.6890000057220459,\n",
       "  0.6940000057220459,\n",
       "  0.6969999976158142,\n",
       "  0.6980000009536743,\n",
       "  0.7080000009536743,\n",
       "  0.7060000066757202,\n",
       "  0.7140000057220459,\n",
       "  0.7140000033378601,\n",
       "  0.7139999952316284,\n",
       "  0.7150000009536743,\n",
       "  0.7230000042915344,\n",
       "  0.7230000009536743,\n",
       "  0.7210000066757202,\n",
       "  0.7359999938011169,\n",
       "  0.7240000033378601,\n",
       "  0.7250000066757202,\n",
       "  0.7230000033378601,\n",
       "  0.7290000066757202,\n",
       "  0.7310000033378601,\n",
       "  0.7289999952316284,\n",
       "  0.7330000009536743,\n",
       "  0.7409999961853028,\n",
       "  0.7370000009536744,\n",
       "  0.7450000042915345,\n",
       "  0.7470000019073486,\n",
       "  0.7439999985694885,\n",
       "  0.7459999961853028,\n",
       "  0.7479999961853028,\n",
       "  0.7500000019073486,\n",
       "  0.7480000019073486,\n",
       "  0.7500000052452087,\n",
       "  0.7509999995231629,\n",
       "  0.7479999938011169,\n",
       "  0.7549999995231629,\n",
       "  0.7539999995231629,\n",
       "  0.7519999938011169,\n",
       "  0.7500000052452087,\n",
       "  0.7519999938011169,\n",
       "  0.756999997138977,\n",
       "  0.759000002861023,\n",
       "  0.7619999947547913,\n",
       "  0.7589999995231629,\n",
       "  0.7599999947547913,\n",
       "  0.7570000052452087,\n",
       "  0.760000002861023,\n",
       "  0.7580000061988831,\n",
       "  0.761000002861023,\n",
       "  0.7600000052452087,\n",
       "  0.7530000052452087,\n",
       "  0.7579999938011169,\n",
       "  0.761000002861023,\n",
       "  0.7620000004768371,\n",
       "  0.7620000061988831,\n",
       "  0.7610000004768371,\n",
       "  0.7630000004768371,\n",
       "  0.759999997138977,\n",
       "  0.760000002861023,\n",
       "  0.7610000004768371,\n",
       "  0.7580000061988831,\n",
       "  0.7610000061988831,\n",
       "  0.761999997138977,\n",
       "  0.7619999947547913,\n",
       "  0.7590000004768371,\n",
       "  0.7579999947547913,\n",
       "  0.7589999947547913,\n",
       "  0.7579999947547913,\n",
       "  0.7630000061988831,\n",
       "  0.7610000004768371,\n",
       "  0.7589999947547913,\n",
       "  0.754999997138977,\n",
       "  0.7600000004768371,\n",
       "  0.7619999947547913,\n",
       "  0.763000002861023,\n",
       "  0.7620000004768371,\n",
       "  0.7659999980926514,\n",
       "  0.7649999980926514,\n",
       "  0.758000002861023,\n",
       "  0.7620000061988831,\n",
       "  0.7650000061988831,\n",
       "  0.7659999957084656,\n",
       "  0.756999997138977,\n",
       "  0.7609999947547913,\n",
       "  0.762000002861023,\n",
       "  0.7650000061988831,\n",
       "  0.759999997138977,\n",
       "  0.759000002861023,\n",
       "  0.7610000004768371,\n",
       "  0.755999997138977,\n",
       "  0.756000002861023,\n",
       "  0.7599999947547913],\n",
       " 'loss': [1.9345825971603394,\n",
       "  1.9126346522013347,\n",
       "  1.8925258342742919,\n",
       "  1.8715945004781087,\n",
       "  1.8480412066777547,\n",
       "  1.82066009572347,\n",
       "  1.7895395788828532,\n",
       "  1.7544100570042929,\n",
       "  1.7155240778605143,\n",
       "  1.6724765634536742,\n",
       "  1.6252793525695801,\n",
       "  1.5729112608591715,\n",
       "  1.5179902954737345,\n",
       "  1.4621810963312785,\n",
       "  1.406608085568746,\n",
       "  1.3521544860839845,\n",
       "  1.2997510793685914,\n",
       "  1.2503289201100667,\n",
       "  1.203494769414266,\n",
       "  1.160048930422465,\n",
       "  1.1193496803919474,\n",
       "  1.0810870038350424,\n",
       "  1.045512826983134,\n",
       "  1.013079752031962,\n",
       "  0.981783533445994,\n",
       "  0.9529436820983886,\n",
       "  0.9257074350992839,\n",
       "  0.9004893362045288,\n",
       "  0.8767274942715962,\n",
       "  0.8545652198473612,\n",
       "  0.8343935068766276,\n",
       "  0.814914963499705,\n",
       "  0.7972084095637003,\n",
       "  0.7800678763389587,\n",
       "  0.76413684425354,\n",
       "  0.7494120573361714,\n",
       "  0.7355165252685547,\n",
       "  0.7228377420743306,\n",
       "  0.7104758774439494,\n",
       "  0.6986864017804464,\n",
       "  0.6877426735242208,\n",
       "  0.6779530068397522,\n",
       "  0.6676067282358805,\n",
       "  0.658065604464213,\n",
       "  0.6499130667368571,\n",
       "  0.6407728743553162,\n",
       "  0.6325235808054606,\n",
       "  0.6250616772651673,\n",
       "  0.6173409515062968,\n",
       "  0.6101180401484172,\n",
       "  0.6030058870633443,\n",
       "  0.5962631187438965,\n",
       "  0.5903051260312399,\n",
       "  0.5841172127405803,\n",
       "  0.577994980875651,\n",
       "  0.5720908408800761,\n",
       "  0.5666609981854757,\n",
       "  0.5610049946626028,\n",
       "  0.5555044935862223,\n",
       "  0.5501139426549275,\n",
       "  0.5450864238103231,\n",
       "  0.5404997049967448,\n",
       "  0.5354106951395671,\n",
       "  0.5308830762545268,\n",
       "  0.5260862547874451,\n",
       "  0.5217356549580892,\n",
       "  0.5169927997430166,\n",
       "  0.5126821272532145,\n",
       "  0.5085640512784322,\n",
       "  0.5040596530596415,\n",
       "  0.5002956854820252,\n",
       "  0.49611249113082884,\n",
       "  0.49241532405217486,\n",
       "  0.48795078546206155,\n",
       "  0.4836579488913218,\n",
       "  0.47989369746843974,\n",
       "  0.4765501053969065,\n",
       "  0.47302182610829674,\n",
       "  0.4689931272506714,\n",
       "  0.46582225319544474,\n",
       "  0.4619589567979177,\n",
       "  0.45825607719421385,\n",
       "  0.45479995352427166,\n",
       "  0.45157975268363953,\n",
       "  0.4480344431241353,\n",
       "  0.44459411730766296,\n",
       "  0.4413734585762024,\n",
       "  0.4380570805549622,\n",
       "  0.4349685626029968,\n",
       "  0.4315853018601735,\n",
       "  0.428092853196462,\n",
       "  0.42542319092750547,\n",
       "  0.42211044114430746,\n",
       "  0.41932852210998534,\n",
       "  0.41598969623247783,\n",
       "  0.4126885234832764,\n",
       "  0.41007244176864627,\n",
       "  0.40729398840268455,\n",
       "  0.40426548198064166,\n",
       "  0.401245018196106,\n",
       "  0.3985893280029297,\n",
       "  0.3952556461016337,\n",
       "  0.3924118968645732,\n",
       "  0.38964378620783485,\n",
       "  0.38724508883158365,\n",
       "  0.3841904411633809,\n",
       "  0.38122653505007426,\n",
       "  0.3790641810099284,\n",
       "  0.37600513881047565,\n",
       "  0.37347389935652414,\n",
       "  0.3712118348439534,\n",
       "  0.3689263990402222,\n",
       "  0.36646100749969485,\n",
       "  0.3633586891333262,\n",
       "  0.3610146311124166,\n",
       "  0.35823562904993694,\n",
       "  0.3561321019808451,\n",
       "  0.3536617096265157,\n",
       "  0.3508084650357564,\n",
       "  0.3488645915826162],\n",
       " 'acc': [0.15893333338101706,\n",
       "  0.19239999996026358,\n",
       "  0.2225333333492279,\n",
       "  0.25546666673024493,\n",
       "  0.2782666665395101,\n",
       "  0.3117333332856496,\n",
       "  0.33693333326975505,\n",
       "  0.36453333338101707,\n",
       "  0.39559999990463257,\n",
       "  0.42773333338101704,\n",
       "  0.4585333332061768,\n",
       "  0.4880000002861023,\n",
       "  0.5163999999205271,\n",
       "  0.538666666952769,\n",
       "  0.564133333492279,\n",
       "  0.5857333330790202,\n",
       "  0.6082666666030884,\n",
       "  0.6268000001589458,\n",
       "  0.6412000000635782,\n",
       "  0.6529333335240682,\n",
       "  0.6652000001271565,\n",
       "  0.6780000001907348,\n",
       "  0.6853333332061767,\n",
       "  0.6947999998410542,\n",
       "  0.7026666667938233,\n",
       "  0.7096000000953674,\n",
       "  0.7186666666666667,\n",
       "  0.7221333334287008,\n",
       "  0.7288,\n",
       "  0.7324000000317892,\n",
       "  0.7386666668891907,\n",
       "  0.7446666664759318,\n",
       "  0.7470666669527689,\n",
       "  0.7509333332061767,\n",
       "  0.7573333331108093,\n",
       "  0.7600000001907349,\n",
       "  0.7645333336194357,\n",
       "  0.7669333332379659,\n",
       "  0.7716,\n",
       "  0.7730666666984558,\n",
       "  0.7774666664441426,\n",
       "  0.7765333332379659,\n",
       "  0.7808000001589457,\n",
       "  0.7822666669527689,\n",
       "  0.7850666664759318,\n",
       "  0.789733333492279,\n",
       "  0.7897333335240682,\n",
       "  0.791599999777476,\n",
       "  0.7945333333969116,\n",
       "  0.7961333333015442,\n",
       "  0.7982666665395101,\n",
       "  0.7971999999682109,\n",
       "  0.7990666665712992,\n",
       "  0.8017333332061768,\n",
       "  0.8039999998728434,\n",
       "  0.8062666666348776,\n",
       "  0.8070666668891907,\n",
       "  0.8114666667302449,\n",
       "  0.8123999997456869,\n",
       "  0.8134666669527689,\n",
       "  0.8154666664441427,\n",
       "  0.8167999997456868,\n",
       "  0.8174666668574015,\n",
       "  0.8201333332061768,\n",
       "  0.8210666664123535,\n",
       "  0.8243999998728434,\n",
       "  0.8227999999682108,\n",
       "  0.8252000002543132,\n",
       "  0.8280000001589457,\n",
       "  0.8271999998728434,\n",
       "  0.8292000000953674,\n",
       "  0.8302666666666667,\n",
       "  0.8324000002543132,\n",
       "  0.8340000001589457,\n",
       "  0.8338666669209798,\n",
       "  0.8343999997456869,\n",
       "  0.8375999998410543,\n",
       "  0.8397333335240682,\n",
       "  0.8414666668574016,\n",
       "  0.8419999999682108,\n",
       "  0.8421333335876465,\n",
       "  0.843333333269755,\n",
       "  0.8454666666666667,\n",
       "  0.8452000001589457,\n",
       "  0.8472000001589457,\n",
       "  0.8501333332061768,\n",
       "  0.8510666665077209,\n",
       "  0.8531999999364217,\n",
       "  0.8533333333969116,\n",
       "  0.8516000000635783,\n",
       "  0.8554666666348775,\n",
       "  0.8550666665077209,\n",
       "  0.8569333335876465,\n",
       "  0.8578666668574015,\n",
       "  0.8585333330790201,\n",
       "  0.8601333330790202,\n",
       "  0.8612000001589457,\n",
       "  0.8627999997456869,\n",
       "  0.8635999999364217,\n",
       "  0.866266666952769,\n",
       "  0.8665333333015441,\n",
       "  0.8674666664441426,\n",
       "  0.8681333330790202,\n",
       "  0.870266666730245,\n",
       "  0.8691999998410542,\n",
       "  0.8722666664441426,\n",
       "  0.873333333269755,\n",
       "  0.8733333333651224,\n",
       "  0.8734666666030884,\n",
       "  0.876400000222524,\n",
       "  0.8774666666984559,\n",
       "  0.8783999998410543,\n",
       "  0.8778666667938232,\n",
       "  0.8797333331743876,\n",
       "  0.8801333330790202,\n",
       "  0.8816000000317892,\n",
       "  0.8826666666984558,\n",
       "  0.8833333333969117,\n",
       "  0.884533333492279,\n",
       "  0.883733333269755]}"
      ]
     },
     "execution_count": 63,
     "metadata": {},
     "output_type": "execute_result"
    }
   ],
   "source": [
    "model_val_dict"
   ]
  },
  {
   "cell_type": "markdown",
   "metadata": {},
   "source": [
    "### Plotting the results"
   ]
  },
  {
   "cell_type": "markdown",
   "metadata": {},
   "source": [
    "Let's plot the results. Let's include the training and the validation loss in the same plot. We'll do the same thing for the training and validation accuracy.\n",
    "\n",
    "Run the cell below to visualize a plot of our training and validation loss."
   ]
  },
  {
   "cell_type": "code",
   "execution_count": 65,
   "metadata": {},
   "outputs": [
    {
     "data": {
      "image/png": "[encoded data removed]",
      "text/plain": [
       "<Figure size 432x288 with 1 Axes>"
      ]
     },
     "metadata": {},
     "output_type": "display_data"
    }
   ],
   "source": [
    "plt.clf()\n",
    "\n",
    "import matplotlib.pyplot as plt\n",
    "loss_values = model_val_dict['loss']\n",
    "val_loss_values = model_val_dict['val_loss']\n",
    "\n",
    "epochs = range(1, len(loss_values) + 1)\n",
    "plt.plot(epochs, loss_values, 'g', label='Training loss')\n",
    "plt.plot(epochs, val_loss_values, 'g.', label='Validation loss')\n",
    "\n",
    "plt.title('Training & validation loss')\n",
    "plt.xlabel('Epochs')\n",
    "plt.ylabel('Loss')\n",
    "plt.legend()\n",
    "plt.show()"
   ]
  },
  {
   "cell_type": "markdown",
   "metadata": {},
   "source": [
    "Interesting! \n",
    "\n",
    "Run the cell below to visualize a plot of our training and validation accuracy>"
   ]
  },
  {
   "cell_type": "code",
   "execution_count": 66,
   "metadata": {},
   "outputs": [
    {
     "data": {
      "image/png": "[encoded data removed]",
      "text/plain": [
       "<Figure size 432x288 with 1 Axes>"
      ]
     },
     "metadata": {},
     "output_type": "display_data"
    }
   ],
   "source": [
    "plt.clf()\n",
    "\n",
    "acc_values = model_val_dict['acc'] \n",
    "val_acc_values = model_val_dict['val_acc']\n",
    "\n",
    "plt.plot(epochs, acc_values, 'r', label='Training acc')\n",
    "plt.plot(epochs, val_acc_values, 'r.', label='Validation acc')\n",
    "plt.title('Training & validation accuracy')\n",
    "plt.xlabel('Epochs')\n",
    "plt.ylabel('Loss')\n",
    "plt.legend()\n",
    "plt.show()"
   ]
  },
  {
   "cell_type": "markdown",
   "metadata": {},
   "source": [
    "We observe an interesting pattern here: although the training accuracy keeps increasing when going through more epochs, and the training loss keeps decreasing, the validation accuracy and loss seem to be reaching a status quo around the 60th epoch. This means that we're actually **overfitting** to the train data when we do as many epochs as we were doing. Luckily, you learned how to tackle overfitting in the previous lecture! For starters, it does seem clear that we are training too long. So let's stop training at the 60th epoch first (so-called \"early stopping\") before we move to more advanced regularization techniques!"
   ]
  },
  {
   "cell_type": "markdown",
   "metadata": {},
   "source": [
    "## 3. Early stopping\n",
    "\n",
    "Now that we know that the model starts to overfit around epoch 60, we can just retrain the model from scratch, but this time only up to 60 epochs! This will help us with our overfitting problem.  This method is called **_Early Stopping_**.\n",
    "\n",
    "In the cell below: \n",
    "\n",
    "* Recreate the exact model we did above. \n",
    "* Compile the model with the exact same hyperparameters.\n",
    "* Fit the model with the exact same hyperparameters, with the exception of `epochs`.  This time, set epochs to `60` instead of `120`."
   ]
  },
  {
   "cell_type": "code",
   "execution_count": 67,
   "metadata": {},
   "outputs": [
    {
     "name": "stdout",
     "output_type": "stream",
     "text": [
      "Train on 7500 samples, validate on 1000 samples\n",
      "Epoch 1/60\n",
      "7500/7500 [==============================] - 3s 339us/step - loss: 1.9573 - acc: 0.1564 - val_loss: 1.9420 - val_acc: 0.1790\n",
      "Epoch 2/60\n",
      "7500/7500 [==============================] - 2s 311us/step - loss: 1.9289 - acc: 0.1921 - val_loss: 1.9207 - val_acc: 0.2010\n",
      "Epoch 3/60\n",
      "7500/7500 [==============================] - 2s 292us/step - loss: 1.9077 - acc: 0.2175 - val_loss: 1.9015 - val_acc: 0.2220\n",
      "Epoch 4/60\n",
      "7500/7500 [==============================] - 2s 302us/step - loss: 1.8862 - acc: 0.2333 - val_loss: 1.8793 - val_acc: 0.2350\n",
      "Epoch 5/60\n",
      "7500/7500 [==============================] - 2s 311us/step - loss: 1.8615 - acc: 0.2452 - val_loss: 1.8537 - val_acc: 0.2630\n",
      "Epoch 6/60\n",
      "7500/7500 [==============================] - 2s 331us/step - loss: 1.8318 - acc: 0.2715 - val_loss: 1.8214 - val_acc: 0.2770\n",
      "Epoch 7/60\n",
      "7500/7500 [==============================] - 2s 331us/step - loss: 1.7967 - acc: 0.2912 - val_loss: 1.7853 - val_acc: 0.3040\n",
      "Epoch 8/60\n",
      "7500/7500 [==============================] - 2s 301us/step - loss: 1.7576 - acc: 0.3240 - val_loss: 1.7446 - val_acc: 0.3180\n",
      "Epoch 9/60\n",
      "7500/7500 [==============================] - 2s 305us/step - loss: 1.7145 - acc: 0.3528 - val_loss: 1.7007 - val_acc: 0.3530\n",
      "Epoch 10/60\n",
      "7500/7500 [==============================] - 2s 292us/step - loss: 1.6683 - acc: 0.3867 - val_loss: 1.6538 - val_acc: 0.3820\n",
      "Epoch 11/60\n",
      "7500/7500 [==============================] - 2s 292us/step - loss: 1.6192 - acc: 0.4288 - val_loss: 1.6050 - val_acc: 0.4230\n",
      "Epoch 12/60\n",
      "7500/7500 [==============================] - 2s 293us/step - loss: 1.5684 - acc: 0.4656 - val_loss: 1.5559 - val_acc: 0.4720\n",
      "Epoch 13/60\n",
      "7500/7500 [==============================] - 2s 291us/step - loss: 1.5167 - acc: 0.4981 - val_loss: 1.5055 - val_acc: 0.4910\n",
      "Epoch 14/60\n",
      "7500/7500 [==============================] - 2s 291us/step - loss: 1.4647 - acc: 0.5213 - val_loss: 1.4555 - val_acc: 0.5320\n",
      "Epoch 15/60\n",
      "7500/7500 [==============================] - 2s 293us/step - loss: 1.4124 - acc: 0.5473 - val_loss: 1.4068 - val_acc: 0.5450\n",
      "Epoch 16/60\n",
      "7500/7500 [==============================] - 2s 294us/step - loss: 1.3610 - acc: 0.5668 - val_loss: 1.3582 - val_acc: 0.5580\n",
      "Epoch 17/60\n",
      "7500/7500 [==============================] - 2s 305us/step - loss: 1.3109 - acc: 0.5833 - val_loss: 1.3129 - val_acc: 0.5720\n",
      "Epoch 18/60\n",
      "7500/7500 [==============================] - 2s 317us/step - loss: 1.2625 - acc: 0.6035 - val_loss: 1.2698 - val_acc: 0.5870\n",
      "Epoch 19/60\n",
      "7500/7500 [==============================] - 2s 301us/step - loss: 1.2169 - acc: 0.6169 - val_loss: 1.2276 - val_acc: 0.5990\n",
      "Epoch 20/60\n",
      "7500/7500 [==============================] - 2s 300us/step - loss: 1.1735 - acc: 0.6283 - val_loss: 1.1909 - val_acc: 0.6130\n",
      "Epoch 21/60\n",
      "7500/7500 [==============================] - 2s 295us/step - loss: 1.1334 - acc: 0.6409 - val_loss: 1.1532 - val_acc: 0.6230\n",
      "Epoch 22/60\n",
      "7500/7500 [==============================] - 2s 296us/step - loss: 1.0954 - acc: 0.6497 - val_loss: 1.1202 - val_acc: 0.6300\n",
      "Epoch 23/60\n",
      "7500/7500 [==============================] - 2s 297us/step - loss: 1.0601 - acc: 0.6583 - val_loss: 1.0919 - val_acc: 0.6410\n",
      "Epoch 24/60\n",
      "7500/7500 [==============================] - 2s 324us/step - loss: 1.0277 - acc: 0.6663 - val_loss: 1.0616 - val_acc: 0.6440\n",
      "Epoch 25/60\n",
      "7500/7500 [==============================] - 2s 307us/step - loss: 0.9972 - acc: 0.6777 - val_loss: 1.0383 - val_acc: 0.6560\n",
      "Epoch 26/60\n",
      "7500/7500 [==============================] - 2s 298us/step - loss: 0.9690 - acc: 0.6892 - val_loss: 1.0101 - val_acc: 0.6610\n",
      "Epoch 27/60\n",
      "7500/7500 [==============================] - 2s 297us/step - loss: 0.9431 - acc: 0.6917 - val_loss: 0.9894 - val_acc: 0.6640\n",
      "Epoch 28/60\n",
      "7500/7500 [==============================] - 2s 295us/step - loss: 0.9192 - acc: 0.7005 - val_loss: 0.9685 - val_acc: 0.6760\n",
      "Epoch 29/60\n",
      "7500/7500 [==============================] - 2s 295us/step - loss: 0.8969 - acc: 0.7079 - val_loss: 0.9504 - val_acc: 0.6710\n",
      "Epoch 30/60\n",
      "7500/7500 [==============================] - 2s 297us/step - loss: 0.8760 - acc: 0.7116 - val_loss: 0.9323 - val_acc: 0.6810\n",
      "Epoch 31/60\n",
      "7500/7500 [==============================] - 2s 297us/step - loss: 0.8571 - acc: 0.7193 - val_loss: 0.9189 - val_acc: 0.6740\n",
      "Epoch 32/60\n",
      "7500/7500 [==============================] - 2s 305us/step - loss: 0.8392 - acc: 0.7215 - val_loss: 0.9014 - val_acc: 0.6850\n",
      "Epoch 33/60\n",
      "7500/7500 [==============================] - 2s 300us/step - loss: 0.8221 - acc: 0.7269 - val_loss: 0.8872 - val_acc: 0.6890\n",
      "Epoch 34/60\n",
      "7500/7500 [==============================] - 2s 305us/step - loss: 0.8069 - acc: 0.7323 - val_loss: 0.8809 - val_acc: 0.6910\n",
      "Epoch 35/60\n",
      "7500/7500 [==============================] - 2s 311us/step - loss: 0.7919 - acc: 0.7335 - val_loss: 0.8646 - val_acc: 0.6930\n",
      "Epoch 36/60\n",
      "7500/7500 [==============================] - 2s 302us/step - loss: 0.7780 - acc: 0.7411 - val_loss: 0.8508 - val_acc: 0.6960\n",
      "Epoch 37/60\n",
      "7500/7500 [==============================] - 2s 309us/step - loss: 0.7649 - acc: 0.7423 - val_loss: 0.8396 - val_acc: 0.6980\n",
      "Epoch 38/60\n",
      "7500/7500 [==============================] - 2s 294us/step - loss: 0.7523 - acc: 0.7491 - val_loss: 0.8351 - val_acc: 0.7020\n",
      "Epoch 39/60\n",
      "7500/7500 [==============================] - 2s 307us/step - loss: 0.7407 - acc: 0.7520 - val_loss: 0.8261 - val_acc: 0.6990\n",
      "Epoch 40/60\n",
      "7500/7500 [==============================] - 2s 328us/step - loss: 0.7294 - acc: 0.7533 - val_loss: 0.8156 - val_acc: 0.7050\n",
      "Epoch 41/60\n",
      "7500/7500 [==============================] - 2s 333us/step - loss: 0.7184 - acc: 0.7572 - val_loss: 0.8060 - val_acc: 0.7080\n",
      "Epoch 42/60\n",
      "7500/7500 [==============================] - 2s 329us/step - loss: 0.7081 - acc: 0.7611 - val_loss: 0.8002 - val_acc: 0.7130\n",
      "Epoch 43/60\n",
      "7500/7500 [==============================] - 2s 308us/step - loss: 0.6986 - acc: 0.7648 - val_loss: 0.7927 - val_acc: 0.7120\n",
      "Epoch 44/60\n",
      "7500/7500 [==============================] - 2s 312us/step - loss: 0.6893 - acc: 0.7703 - val_loss: 0.7846 - val_acc: 0.7150\n",
      "Epoch 45/60\n",
      "7500/7500 [==============================] - 2s 303us/step - loss: 0.6802 - acc: 0.7705 - val_loss: 0.7780 - val_acc: 0.7190\n",
      "Epoch 46/60\n",
      "7500/7500 [==============================] - 2s 312us/step - loss: 0.6720 - acc: 0.7719 - val_loss: 0.7734 - val_acc: 0.7220\n",
      "Epoch 47/60\n",
      "7500/7500 [==============================] - 2s 314us/step - loss: 0.6635 - acc: 0.7763 - val_loss: 0.7671 - val_acc: 0.7210\n",
      "Epoch 48/60\n",
      "7500/7500 [==============================] - 2s 301us/step - loss: 0.6556 - acc: 0.7776 - val_loss: 0.7605 - val_acc: 0.7230\n",
      "Epoch 49/60\n",
      "7500/7500 [==============================] - 2s 323us/step - loss: 0.6478 - acc: 0.7815 - val_loss: 0.7590 - val_acc: 0.7270\n",
      "Epoch 50/60\n",
      "7500/7500 [==============================] - 2s 316us/step - loss: 0.6402 - acc: 0.7836 - val_loss: 0.7523 - val_acc: 0.7290\n",
      "Epoch 51/60\n",
      "7500/7500 [==============================] - 2s 314us/step - loss: 0.6330 - acc: 0.7855 - val_loss: 0.7472 - val_acc: 0.7270\n",
      "Epoch 52/60\n",
      "7500/7500 [==============================] - 2s 303us/step - loss: 0.6260 - acc: 0.7893 - val_loss: 0.7407 - val_acc: 0.7290\n",
      "Epoch 53/60\n",
      "7500/7500 [==============================] - 2s 304us/step - loss: 0.6190 - acc: 0.7880 - val_loss: 0.7388 - val_acc: 0.7340\n",
      "Epoch 54/60\n",
      "7500/7500 [==============================] - 2s 303us/step - loss: 0.6127 - acc: 0.7909 - val_loss: 0.7343 - val_acc: 0.7360\n",
      "Epoch 55/60\n",
      "7500/7500 [==============================] - 2s 302us/step - loss: 0.6062 - acc: 0.7939 - val_loss: 0.7290 - val_acc: 0.7370\n",
      "Epoch 56/60\n",
      "7500/7500 [==============================] - 2s 299us/step - loss: 0.5998 - acc: 0.7975 - val_loss: 0.7283 - val_acc: 0.7350\n",
      "Epoch 57/60\n",
      "7500/7500 [==============================] - 2s 301us/step - loss: 0.5941 - acc: 0.7976 - val_loss: 0.7222 - val_acc: 0.7410\n",
      "Epoch 58/60\n",
      "7500/7500 [==============================] - 2s 306us/step - loss: 0.5880 - acc: 0.8023 - val_loss: 0.7182 - val_acc: 0.7430\n",
      "Epoch 59/60\n",
      "7500/7500 [==============================] - 2s 321us/step - loss: 0.5825 - acc: 0.8017 - val_loss: 0.7152 - val_acc: 0.7390\n",
      "Epoch 60/60\n",
      "7500/7500 [==============================] - 3s 344us/step - loss: 0.5764 - acc: 0.8060 - val_loss: 0.7130 - val_acc: 0.7430\n"
     ]
    }
   ],
   "source": [
    "model = Sequential()\n",
    "model.add(Dense(50, activation='relu', input_shape=(2000,))) #2 hidden layers\n",
    "model.add(Dense(25, activation='relu'))\n",
    "model.add(Dense(7, activation='softmax'))\n",
    "\n",
    "model.compile(optimizer='SGD',\n",
    "              loss='categorical_crossentropy',\n",
    "              metrics=['accuracy'])\n",
    "\n",
    "final_model = model.fit(train_final,\n",
    "                    label_train_final,\n",
    "                    epochs=60,\n",
    "                    batch_size=256,\n",
    "                    validation_data=(val, label_val))\n"
   ]
  },
  {
   "cell_type": "markdown",
   "metadata": {},
   "source": [
    "Now, as we did before, get our results using `model.evaluate()` on the appropriate variables. "
   ]
  },
  {
   "cell_type": "code",
   "execution_count": 68,
   "metadata": {},
   "outputs": [
    {
     "name": "stdout",
     "output_type": "stream",
     "text": [
      "7500/7500 [==============================] - 2s 264us/step\n"
     ]
    }
   ],
   "source": [
    "results_train = model.evaluate(train_final,label_train_final)"
   ]
  },
  {
   "cell_type": "code",
   "execution_count": 69,
   "metadata": {},
   "outputs": [
    {
     "name": "stdout",
     "output_type": "stream",
     "text": [
      "1500/1500 [==============================] - 0s 292us/step\n"
     ]
    }
   ],
   "source": [
    "results_test = model.evaluate(test, label_test)"
   ]
  },
  {
   "cell_type": "code",
   "execution_count": 70,
   "metadata": {},
   "outputs": [
    {
     "data": {
      "text/plain": [
       "[0.5715655176957448, 0.8081333333651225]"
      ]
     },
     "execution_count": 70,
     "metadata": {},
     "output_type": "execute_result"
    }
   ],
   "source": [
    "results_train  # Expected Output: [0.58606486314137773, 0.79826666669845581]"
   ]
  },
  {
   "cell_type": "code",
   "execution_count": 71,
   "metadata": {},
   "outputs": [
    {
     "data": {
      "text/plain": [
       "[0.6986736919085185, 0.7393333333333333]"
      ]
     },
     "execution_count": 71,
     "metadata": {},
     "output_type": "execute_result"
    }
   ],
   "source": [
    "results_test # [0.74768974288304646, 0.71333333365122475]"
   ]
  },
  {
   "cell_type": "markdown",
   "metadata": {},
   "source": [
    "We've significantly reduced the variance, so this is already pretty good! Our test set accuracy is slightly worse, but this model will definitely be more robust than the 120 epochs one we fitted before.\n",
    "\n",
    "Now, let's see what else we can do to improve the result!"
   ]
  },
  {
   "cell_type": "markdown",
   "metadata": {},
   "source": [
    "## 4. L2 regularization"
   ]
  },
  {
   "cell_type": "markdown",
   "metadata": {},
   "source": [
    "Let's include L2 regularization. You can easily do this in keras adding the argument `kernel_regulizers.l2` and adding a value for the regularization parameter lambda between parentheses.\n",
    "\n",
    "In the cell below: \n",
    "\n",
    "* Recreate the same model we did before.\n",
    "* In our two hidden layers (but not our output layer), add in the parameter `kernel_regularizer=regularizers.l2(0.005)` to add L2 regularization to each hidden layer.  \n",
    "* Compile the model with the same hyperparameters as we did before. \n",
    "* Fit the model with the same hyperparameters as we did before, but this time for `120` epochs.\n",
    "* Store the fitted model that the `.fit` call returns inside a variable called `L2_model`."
   ]
  },
  {
   "cell_type": "code",
   "execution_count": 72,
   "metadata": {},
   "outputs": [
    {
     "name": "stdout",
     "output_type": "stream",
     "text": [
      "Train on 7500 samples, validate on 1000 samples\n",
      "Epoch 1/120\n",
      "7500/7500 [==============================] - 3s 376us/step - loss: 2.6094 - acc: 0.1335 - val_loss: 2.5942 - val_acc: 0.1510\n",
      "Epoch 2/120\n",
      "7500/7500 [==============================] - 2s 293us/step - loss: 2.5797 - acc: 0.1519 - val_loss: 2.5717 - val_acc: 0.1670\n",
      "Epoch 3/120\n",
      "7500/7500 [==============================] - 2s 294us/step - loss: 2.5586 - acc: 0.1655 - val_loss: 2.5523 - val_acc: 0.1680\n",
      "Epoch 4/120\n",
      "7500/7500 [==============================] - 2s 292us/step - loss: 2.5387 - acc: 0.1849 - val_loss: 2.5333 - val_acc: 0.1880\n",
      "Epoch 5/120\n",
      "7500/7500 [==============================] - 2s 294us/step - loss: 2.5178 - acc: 0.2052 - val_loss: 2.5130 - val_acc: 0.2190\n",
      "Epoch 6/120\n",
      "7500/7500 [==============================] - 2s 293us/step - loss: 2.4952 - acc: 0.2385 - val_loss: 2.4902 - val_acc: 0.2480\n",
      "Epoch 7/120\n",
      "7500/7500 [==============================] - 2s 293us/step - loss: 2.4703 - acc: 0.2673 - val_loss: 2.4646 - val_acc: 0.2650\n",
      "Epoch 8/120\n",
      "7500/7500 [==============================] - 2s 294us/step - loss: 2.4424 - acc: 0.2908 - val_loss: 2.4360 - val_acc: 0.2890\n",
      "Epoch 9/120\n",
      "7500/7500 [==============================] - 2s 332us/step - loss: 2.4109 - acc: 0.3177 - val_loss: 2.4036 - val_acc: 0.3240\n",
      "Epoch 10/120\n",
      "7500/7500 [==============================] - 2s 333us/step - loss: 2.3761 - acc: 0.3572 - val_loss: 2.3672 - val_acc: 0.3450\n",
      "Epoch 11/120\n",
      "7500/7500 [==============================] - 2s 306us/step - loss: 2.3379 - acc: 0.3865 - val_loss: 2.3280 - val_acc: 0.3720\n",
      "Epoch 12/120\n",
      "7500/7500 [==============================] - 2s 296us/step - loss: 2.2968 - acc: 0.4164 - val_loss: 2.2862 - val_acc: 0.3990\n",
      "Epoch 13/120\n",
      "7500/7500 [==============================] - 2s 327us/step - loss: 2.2530 - acc: 0.4380 - val_loss: 2.2419 - val_acc: 0.4300\n",
      "Epoch 14/120\n",
      "7500/7500 [==============================] - 2s 312us/step - loss: 2.2065 - acc: 0.4680 - val_loss: 2.1950 - val_acc: 0.4390\n",
      "Epoch 15/120\n",
      "7500/7500 [==============================] - 2s 309us/step - loss: 2.1577 - acc: 0.4829 - val_loss: 2.1477 - val_acc: 0.4720\n",
      "Epoch 16/120\n",
      "7500/7500 [==============================] - 2s 310us/step - loss: 2.1077 - acc: 0.5016 - val_loss: 2.0988 - val_acc: 0.4910\n",
      "Epoch 17/120\n",
      "7500/7500 [==============================] - 2s 305us/step - loss: 2.0574 - acc: 0.5249 - val_loss: 2.0497 - val_acc: 0.5030\n",
      "Epoch 18/120\n",
      "7500/7500 [==============================] - 2s 331us/step - loss: 2.0071 - acc: 0.5441 - val_loss: 2.0030 - val_acc: 0.5350\n",
      "Epoch 19/120\n",
      "7500/7500 [==============================] - 2s 330us/step - loss: 1.9578 - acc: 0.5713 - val_loss: 1.9551 - val_acc: 0.5340\n",
      "Epoch 20/120\n",
      "7500/7500 [==============================] - 2s 329us/step - loss: 1.9107 - acc: 0.5799 - val_loss: 1.9113 - val_acc: 0.5690\n",
      "Epoch 21/120\n",
      "7500/7500 [==============================] - 2s 333us/step - loss: 1.8650 - acc: 0.6016 - val_loss: 1.8701 - val_acc: 0.5800\n",
      "Epoch 22/120\n",
      "7500/7500 [==============================] - 2s 323us/step - loss: 1.8219 - acc: 0.6141 - val_loss: 1.8304 - val_acc: 0.5960\n",
      "Epoch 23/120\n",
      "7500/7500 [==============================] - 3s 384us/step - loss: 1.7808 - acc: 0.6317 - val_loss: 1.7926 - val_acc: 0.6000\n",
      "Epoch 24/120\n",
      "7500/7500 [==============================] - 3s 340us/step - loss: 1.7420 - acc: 0.6429 - val_loss: 1.7563 - val_acc: 0.6160\n",
      "Epoch 25/120\n",
      "7500/7500 [==============================] - 2s 317us/step - loss: 1.7057 - acc: 0.6515 - val_loss: 1.7234 - val_acc: 0.6250\n",
      "Epoch 26/120\n",
      "7500/7500 [==============================] - 2s 311us/step - loss: 1.6715 - acc: 0.6604 - val_loss: 1.6929 - val_acc: 0.6280\n",
      "Epoch 27/120\n",
      "7500/7500 [==============================] - 2s 314us/step - loss: 1.6392 - acc: 0.6669 - val_loss: 1.6634 - val_acc: 0.6420\n",
      "Epoch 28/120\n",
      "7500/7500 [==============================] - 2s 315us/step - loss: 1.6093 - acc: 0.6768 - val_loss: 1.6391 - val_acc: 0.6430\n",
      "Epoch 29/120\n",
      "7500/7500 [==============================] - 2s 315us/step - loss: 1.5811 - acc: 0.6852 - val_loss: 1.6116 - val_acc: 0.6590\n",
      "Epoch 30/120\n",
      "7500/7500 [==============================] - 2s 321us/step - loss: 1.5542 - acc: 0.6903 - val_loss: 1.5890 - val_acc: 0.6530\n",
      "Epoch 31/120\n",
      "7500/7500 [==============================] - 2s 332us/step - loss: 1.5292 - acc: 0.6987 - val_loss: 1.5663 - val_acc: 0.6620\n",
      "Epoch 32/120\n",
      "7500/7500 [==============================] - 3s 341us/step - loss: 1.5060 - acc: 0.7012 - val_loss: 1.5461 - val_acc: 0.6610\n",
      "Epoch 33/120\n",
      "7500/7500 [==============================] - 3s 342us/step - loss: 1.4831 - acc: 0.7072 - val_loss: 1.5279 - val_acc: 0.6730\n",
      "Epoch 34/120\n",
      "7500/7500 [==============================] - 2s 310us/step - loss: 1.4632 - acc: 0.7132 - val_loss: 1.5117 - val_acc: 0.6850\n",
      "Epoch 35/120\n",
      "7500/7500 [==============================] - 2s 304us/step - loss: 1.4431 - acc: 0.7177 - val_loss: 1.4937 - val_acc: 0.6830\n",
      "Epoch 36/120\n",
      "7500/7500 [==============================] - 2s 308us/step - loss: 1.4243 - acc: 0.7235 - val_loss: 1.4763 - val_acc: 0.6810\n",
      "Epoch 37/120\n",
      "7500/7500 [==============================] - 2s 308us/step - loss: 1.4067 - acc: 0.7277 - val_loss: 1.4631 - val_acc: 0.6920\n",
      "Epoch 38/120\n",
      "7500/7500 [==============================] - 2s 328us/step - loss: 1.3899 - acc: 0.7311 - val_loss: 1.4484 - val_acc: 0.6980\n",
      "Epoch 39/120\n",
      "7500/7500 [==============================] - 2s 333us/step - loss: 1.3745 - acc: 0.7356 - val_loss: 1.4343 - val_acc: 0.7010\n",
      "Epoch 40/120\n",
      "7500/7500 [==============================] - 2s 333us/step - loss: 1.3592 - acc: 0.7385 - val_loss: 1.4219 - val_acc: 0.7110\n",
      "Epoch 41/120\n",
      "7500/7500 [==============================] - 2s 313us/step - loss: 1.3446 - acc: 0.7431 - val_loss: 1.4096 - val_acc: 0.7080\n",
      "Epoch 42/120\n",
      "7500/7500 [==============================] - 2s 308us/step - loss: 1.3306 - acc: 0.7464 - val_loss: 1.3980 - val_acc: 0.7130\n",
      "Epoch 43/120\n",
      "7500/7500 [==============================] - 2s 296us/step - loss: 1.3175 - acc: 0.7507 - val_loss: 1.3876 - val_acc: 0.7170\n",
      "Epoch 44/120\n",
      "7500/7500 [==============================] - 2s 304us/step - loss: 1.3047 - acc: 0.7527 - val_loss: 1.3784 - val_acc: 0.7210\n",
      "Epoch 45/120\n",
      "7500/7500 [==============================] - 2s 304us/step - loss: 1.2927 - acc: 0.7567 - val_loss: 1.3678 - val_acc: 0.7260\n",
      "Epoch 46/120\n",
      "7500/7500 [==============================] - 2s 302us/step - loss: 1.2809 - acc: 0.7575 - val_loss: 1.3575 - val_acc: 0.7230\n",
      "Epoch 47/120\n",
      "7500/7500 [==============================] - 2s 305us/step - loss: 1.2698 - acc: 0.7628 - val_loss: 1.3469 - val_acc: 0.7250\n",
      "Epoch 48/120\n",
      "7500/7500 [==============================] - 2s 297us/step - loss: 1.2590 - acc: 0.7639 - val_loss: 1.3393 - val_acc: 0.7290\n",
      "Epoch 49/120\n",
      "7500/7500 [==============================] - 2s 308us/step - loss: 1.2489 - acc: 0.7667 - val_loss: 1.3309 - val_acc: 0.7250\n",
      "Epoch 50/120\n",
      "7500/7500 [==============================] - 2s 329us/step - loss: 1.2385 - acc: 0.7685 - val_loss: 1.3224 - val_acc: 0.7280\n",
      "Epoch 51/120\n",
      "7500/7500 [==============================] - 2s 331us/step - loss: 1.2288 - acc: 0.7723 - val_loss: 1.3179 - val_acc: 0.7210\n",
      "Epoch 52/120\n",
      "7500/7500 [==============================] - 2s 322us/step - loss: 1.2195 - acc: 0.7747 - val_loss: 1.3091 - val_acc: 0.7300\n",
      "Epoch 53/120\n",
      "7500/7500 [==============================] - 2s 313us/step - loss: 1.2102 - acc: 0.7761 - val_loss: 1.3007 - val_acc: 0.7380\n",
      "Epoch 54/120\n",
      "7500/7500 [==============================] - 2s 311us/step - loss: 1.2009 - acc: 0.7812 - val_loss: 1.2948 - val_acc: 0.7380\n",
      "Epoch 55/120\n",
      "7500/7500 [==============================] - 2s 301us/step - loss: 1.1923 - acc: 0.7860 - val_loss: 1.2919 - val_acc: 0.7360\n",
      "Epoch 56/120\n",
      "7500/7500 [==============================] - 2s 301us/step - loss: 1.1844 - acc: 0.7839 - val_loss: 1.2820 - val_acc: 0.7350\n",
      "Epoch 57/120\n",
      "7500/7500 [==============================] - 2s 297us/step - loss: 1.1759 - acc: 0.7868 - val_loss: 1.2746 - val_acc: 0.7380\n",
      "Epoch 58/120\n",
      "7500/7500 [==============================] - 2s 324us/step - loss: 1.1675 - acc: 0.7883 - val_loss: 1.2681 - val_acc: 0.7460\n",
      "Epoch 59/120\n",
      "7500/7500 [==============================] - 2s 297us/step - loss: 1.1600 - acc: 0.7932 - val_loss: 1.2618 - val_acc: 0.7380\n",
      "Epoch 60/120\n"
     ]
    },
    {
     "name": "stdout",
     "output_type": "stream",
     "text": [
      "7500/7500 [==============================] - 2s 292us/step - loss: 1.1525 - acc: 0.7961 - val_loss: 1.2594 - val_acc: 0.7480\n",
      "Epoch 61/120\n",
      "7500/7500 [==============================] - 2s 292us/step - loss: 1.1448 - acc: 0.7973 - val_loss: 1.2523 - val_acc: 0.7410\n",
      "Epoch 62/120\n",
      "7500/7500 [==============================] - 2s 292us/step - loss: 1.1377 - acc: 0.7960 - val_loss: 1.2463 - val_acc: 0.7400\n",
      "Epoch 63/120\n",
      "7500/7500 [==============================] - 2s 292us/step - loss: 1.1306 - acc: 0.8005 - val_loss: 1.2401 - val_acc: 0.7470\n",
      "Epoch 64/120\n",
      "7500/7500 [==============================] - 3s 344us/step - loss: 1.1237 - acc: 0.7991 - val_loss: 1.2365 - val_acc: 0.7550\n",
      "Epoch 65/120\n",
      "7500/7500 [==============================] - 3s 348us/step - loss: 1.1168 - acc: 0.8032 - val_loss: 1.2327 - val_acc: 0.7550\n",
      "Epoch 66/120\n",
      "7500/7500 [==============================] - 3s 361us/step - loss: 1.1102 - acc: 0.8028 - val_loss: 1.2255 - val_acc: 0.7510\n",
      "Epoch 67/120\n",
      "7500/7500 [==============================] - 2s 330us/step - loss: 1.1035 - acc: 0.8064 - val_loss: 1.2243 - val_acc: 0.7470\n",
      "Epoch 68/120\n",
      "7500/7500 [==============================] - 2s 328us/step - loss: 1.0974 - acc: 0.8087 - val_loss: 1.2217 - val_acc: 0.7460\n",
      "Epoch 69/120\n",
      "7500/7500 [==============================] - 3s 335us/step - loss: 1.0908 - acc: 0.8079 - val_loss: 1.2115 - val_acc: 0.7540\n",
      "Epoch 70/120\n",
      "7500/7500 [==============================] - 2s 314us/step - loss: 1.0847 - acc: 0.8108 - val_loss: 1.2106 - val_acc: 0.7510\n",
      "Epoch 71/120\n",
      "7500/7500 [==============================] - 2s 306us/step - loss: 1.0781 - acc: 0.8121 - val_loss: 1.2061 - val_acc: 0.7540\n",
      "Epoch 72/120\n",
      "7500/7500 [==============================] - 2s 327us/step - loss: 1.0721 - acc: 0.8163 - val_loss: 1.2029 - val_acc: 0.7620\n",
      "Epoch 73/120\n",
      "7500/7500 [==============================] - 3s 346us/step - loss: 1.0665 - acc: 0.8124 - val_loss: 1.1967 - val_acc: 0.7510\n",
      "Epoch 74/120\n",
      "7500/7500 [==============================] - ETA: 0s - loss: 1.0602 - acc: 0.816 - 3s 349us/step - loss: 1.0608 - acc: 0.8160 - val_loss: 1.1912 - val_acc: 0.7590\n",
      "Epoch 75/120\n",
      "7500/7500 [==============================] - 3s 346us/step - loss: 1.0551 - acc: 0.8204 - val_loss: 1.1869 - val_acc: 0.7640\n",
      "Epoch 76/120\n",
      "7500/7500 [==============================] - 2s 327us/step - loss: 1.0493 - acc: 0.8191 - val_loss: 1.1844 - val_acc: 0.7520\n",
      "Epoch 77/120\n",
      "7500/7500 [==============================] - 2s 310us/step - loss: 1.0436 - acc: 0.8231 - val_loss: 1.1822 - val_acc: 0.7610\n",
      "Epoch 78/120\n",
      "7500/7500 [==============================] - 2s 309us/step - loss: 1.0383 - acc: 0.8229 - val_loss: 1.1770 - val_acc: 0.7660\n",
      "Epoch 79/120\n",
      "7500/7500 [==============================] - 2s 251us/step - loss: 1.0332 - acc: 0.8240 - val_loss: 1.1748 - val_acc: 0.7650\n",
      "Epoch 80/120\n",
      "7500/7500 [==============================] - 2s 247us/step - loss: 1.0274 - acc: 0.8253 - val_loss: 1.1703 - val_acc: 0.7630\n",
      "Epoch 81/120\n",
      "7500/7500 [==============================] - 2s 289us/step - loss: 1.0225 - acc: 0.8292 - val_loss: 1.1674 - val_acc: 0.7670\n",
      "Epoch 82/120\n",
      "7500/7500 [==============================] - 2s 295us/step - loss: 1.0173 - acc: 0.8309 - val_loss: 1.1628 - val_acc: 0.7650\n",
      "Epoch 83/120\n",
      "7500/7500 [==============================] - 2s 243us/step - loss: 1.0116 - acc: 0.8303 - val_loss: 1.1635 - val_acc: 0.7610\n",
      "Epoch 84/120\n",
      "7500/7500 [==============================] - 2s 244us/step - loss: 1.0069 - acc: 0.8331 - val_loss: 1.1585 - val_acc: 0.7620\n",
      "Epoch 85/120\n",
      "7500/7500 [==============================] - 2s 241us/step - loss: 1.0023 - acc: 0.8331 - val_loss: 1.1518 - val_acc: 0.7660\n",
      "Epoch 86/120\n",
      "7500/7500 [==============================] - 2s 253us/step - loss: 0.9973 - acc: 0.8363 - val_loss: 1.1520 - val_acc: 0.7610\n",
      "Epoch 87/120\n",
      "7500/7500 [==============================] - 2s 332us/step - loss: 0.9923 - acc: 0.8361 - val_loss: 1.1495 - val_acc: 0.7590\n",
      "Epoch 88/120\n",
      "7500/7500 [==============================] - 2s 324us/step - loss: 0.9877 - acc: 0.8353 - val_loss: 1.1434 - val_acc: 0.7650\n",
      "Epoch 89/120\n",
      "7500/7500 [==============================] - 2s 323us/step - loss: 0.9829 - acc: 0.8397 - val_loss: 1.1465 - val_acc: 0.7640\n",
      "Epoch 90/120\n",
      "7500/7500 [==============================] - 2s 324us/step - loss: 0.9783 - acc: 0.8401 - val_loss: 1.1362 - val_acc: 0.7630\n",
      "Epoch 91/120\n",
      "7500/7500 [==============================] - 2s 311us/step - loss: 0.9737 - acc: 0.8408 - val_loss: 1.1379 - val_acc: 0.7610\n",
      "Epoch 92/120\n",
      "7500/7500 [==============================] - 3s 341us/step - loss: 0.9685 - acc: 0.8411 - val_loss: 1.1337 - val_acc: 0.7670\n",
      "Epoch 93/120\n",
      "7500/7500 [==============================] - 2s 285us/step - loss: 0.9646 - acc: 0.8423 - val_loss: 1.1310 - val_acc: 0.7600\n",
      "Epoch 94/120\n",
      "7500/7500 [==============================] - 2s 246us/step - loss: 0.9602 - acc: 0.8436 - val_loss: 1.1266 - val_acc: 0.7610\n",
      "Epoch 95/120\n",
      "7500/7500 [==============================] - 2s 264us/step - loss: 0.9555 - acc: 0.8433 - val_loss: 1.1267 - val_acc: 0.7660\n",
      "Epoch 96/120\n",
      "7500/7500 [==============================] - 3s 345us/step - loss: 0.9514 - acc: 0.8463 - val_loss: 1.1208 - val_acc: 0.7650\n",
      "Epoch 97/120\n",
      "7500/7500 [==============================] - 2s 317us/step - loss: 0.9469 - acc: 0.8456 - val_loss: 1.1192 - val_acc: 0.7660\n",
      "Epoch 98/120\n",
      "7500/7500 [==============================] - 2s 320us/step - loss: 0.9427 - acc: 0.8483 - val_loss: 1.1158 - val_acc: 0.7620\n",
      "Epoch 99/120\n",
      "7500/7500 [==============================] - 2s 324us/step - loss: 0.9383 - acc: 0.8481 - val_loss: 1.1119 - val_acc: 0.7620\n",
      "Epoch 100/120\n",
      "7500/7500 [==============================] - 2s 316us/step - loss: 0.9342 - acc: 0.8496 - val_loss: 1.1123 - val_acc: 0.7630\n",
      "Epoch 101/120\n",
      "7500/7500 [==============================] - 2s 314us/step - loss: 0.9303 - acc: 0.8527 - val_loss: 1.1067 - val_acc: 0.7640\n",
      "Epoch 102/120\n",
      "7500/7500 [==============================] - 2s 314us/step - loss: 0.9259 - acc: 0.8545 - val_loss: 1.1050 - val_acc: 0.7620\n",
      "Epoch 103/120\n",
      "7500/7500 [==============================] - 2s 309us/step - loss: 0.9216 - acc: 0.8557 - val_loss: 1.1078 - val_acc: 0.7650\n",
      "Epoch 104/120\n",
      "7500/7500 [==============================] - 2s 319us/step - loss: 0.9176 - acc: 0.8532 - val_loss: 1.1012 - val_acc: 0.7590\n",
      "Epoch 105/120\n",
      "7500/7500 [==============================] - 2s 315us/step - loss: 0.9137 - acc: 0.8569 - val_loss: 1.1001 - val_acc: 0.7600\n",
      "Epoch 106/120\n",
      "7500/7500 [==============================] - 2s 325us/step - loss: 0.9099 - acc: 0.8579 - val_loss: 1.0991 - val_acc: 0.7600\n",
      "Epoch 107/120\n",
      "7500/7500 [==============================] - 3s 334us/step - loss: 0.9059 - acc: 0.8605 - val_loss: 1.0954 - val_acc: 0.7630\n",
      "Epoch 108/120\n",
      "7500/7500 [==============================] - 2s 314us/step - loss: 0.9020 - acc: 0.8588 - val_loss: 1.0913 - val_acc: 0.7670\n",
      "Epoch 109/120\n",
      "7500/7500 [==============================] - 2s 310us/step - loss: 0.8982 - acc: 0.8611 - val_loss: 1.0902 - val_acc: 0.7610\n",
      "Epoch 110/120\n",
      "7500/7500 [==============================] - 2s 309us/step - loss: 0.8944 - acc: 0.8624 - val_loss: 1.0878 - val_acc: 0.7660\n",
      "Epoch 111/120\n",
      "7500/7500 [==============================] - 2s 309us/step - loss: 0.8907 - acc: 0.8631 - val_loss: 1.0911 - val_acc: 0.7610\n",
      "Epoch 112/120\n",
      "7500/7500 [==============================] - 2s 303us/step - loss: 0.8868 - acc: 0.8636 - val_loss: 1.0864 - val_acc: 0.7640\n",
      "Epoch 113/120\n",
      "7500/7500 [==============================] - 2s 309us/step - loss: 0.8832 - acc: 0.8663 - val_loss: 1.0818 - val_acc: 0.7600\n",
      "Epoch 114/120\n",
      "7500/7500 [==============================] - 2s 310us/step - loss: 0.8794 - acc: 0.8661 - val_loss: 1.0837 - val_acc: 0.7620\n",
      "Epoch 115/120\n",
      "7500/7500 [==============================] - 2s 310us/step - loss: 0.8761 - acc: 0.8664 - val_loss: 1.0793 - val_acc: 0.7640\n",
      "Epoch 116/120\n",
      "7500/7500 [==============================] - 2s 311us/step - loss: 0.8725 - acc: 0.8685 - val_loss: 1.0768 - val_acc: 0.7660\n",
      "Epoch 117/120\n",
      "7500/7500 [==============================] - 2s 317us/step - loss: 0.8686 - acc: 0.8691 - val_loss: 1.0739 - val_acc: 0.7610\n",
      "Epoch 118/120\n",
      "7500/7500 [==============================] - 2s 314us/step - loss: 0.8653 - acc: 0.8705 - val_loss: 1.0750 - val_acc: 0.7630\n",
      "Epoch 119/120\n"
     ]
    },
    {
     "name": "stdout",
     "output_type": "stream",
     "text": [
      "7500/7500 [==============================] - 2s 325us/step - loss: 0.8616 - acc: 0.8689 - val_loss: 1.0725 - val_acc: 0.7630\n",
      "Epoch 120/120\n",
      "7500/7500 [==============================] - 2s 319us/step - loss: 0.8580 - acc: 0.8719 - val_loss: 1.0719 - val_acc: 0.7640\n"
     ]
    }
   ],
   "source": [
    "from keras import regularizers\n",
    "random.seed(123)\n",
    "model = Sequential()\n",
    "model.add(Dense(50, activation='relu',kernel_regularizer=regularizers.l2(0.005), input_shape=(2000,))) #2 hidden layers\n",
    "model.add(Dense(25, kernel_regularizer=regularizers.l2(0.005), activation='relu'))\n",
    "model.add(Dense(7, activation='softmax'))\n",
    "\n",
    "model.compile(optimizer='SGD',\n",
    "              loss='categorical_crossentropy',\n",
    "              metrics=['accuracy'])\n",
    "\n",
    "L2_model = model.fit(train_final,\n",
    "                    label_train_final,\n",
    "                    epochs=120,\n",
    "                    batch_size=256,\n",
    "                    validation_data=(val, label_val))\n",
    "\n"
   ]
  },
  {
   "cell_type": "markdown",
   "metadata": {},
   "source": [
    "Now, let's see how regularization has affected our model results.  \n",
    "\n",
    "Run the cell below to get the model's `.history`."
   ]
  },
  {
   "cell_type": "code",
   "execution_count": 73,
   "metadata": {},
   "outputs": [
    {
     "data": {
      "text/plain": [
       "dict_keys(['val_loss', 'val_acc', 'loss', 'acc'])"
      ]
     },
     "execution_count": 73,
     "metadata": {},
     "output_type": "execute_result"
    }
   ],
   "source": [
    "L2_model_dict = L2_model.history\n",
    "L2_model_dict.keys()"
   ]
  },
  {
   "cell_type": "markdown",
   "metadata": {},
   "source": [
    "Let's look at the training accuracy as well as the validation accuracy for both the L2 and the model without regularization (for 120 epochs).\n",
    "\n",
    "Run the cell below to visualize our training and validation accuracy both with and without L2 regularization, so that we can compare them directly."
   ]
  },
  {
   "cell_type": "code",
   "execution_count": 74,
   "metadata": {},
   "outputs": [
    {
     "data": {
      "image/png": "[encoded data removed]",
      "text/plain": [
       "<Figure size 432x288 with 1 Axes>"
      ]
     },
     "metadata": {},
     "output_type": "display_data"
    }
   ],
   "source": [
    "plt.clf()\n",
    "\n",
    "acc_values = L2_model_dict['acc'] \n",
    "val_acc_values = L2_model_dict['val_acc']\n",
    "model_acc = model_val_dict['acc']\n",
    "model_val_acc = model_val_dict['val_acc']\n",
    "\n",
    "epochs = range(1, len(acc_values) + 1)\n",
    "plt.plot(epochs, acc_values, 'g', label='Training acc L2')\n",
    "plt.plot(epochs, val_acc_values, 'g', label='Validation acc L2')\n",
    "plt.plot(epochs, model_acc, 'r', label='Training acc')\n",
    "plt.plot(epochs, model_val_acc, 'r', label='Validation acc')\n",
    "plt.title('Training & validation accuracy L2 vs regular')\n",
    "plt.xlabel('Epochs')\n",
    "plt.ylabel('Loss')\n",
    "plt.legend()\n",
    "plt.show()"
   ]
  },
  {
   "cell_type": "markdown",
   "metadata": {},
   "source": [
    "The results of L2 regularization are quite disappointing here. We notice the discrepancy between validation and training accuracy seems to have decreased slightly, but the end result is definitely not getting better. "
   ]
  },
  {
   "cell_type": "markdown",
   "metadata": {},
   "source": [
    "## 5.  L1 regularization"
   ]
  },
  {
   "cell_type": "markdown",
   "metadata": {},
   "source": [
    "Let's have a look at L1 regularization. Will this work better?\n",
    "\n",
    "In the cell below: \n",
    "\n",
    "* Recreate the same model we did above, but this time, set the `kernel_regularizer` to `regularizers.l1(0.005)` inside both hidden layers. \n",
    "* Compile and fit the model exactly as we did for our L2 Regularization experiment (`120` epochs) \n",
    "* Store the fitted model that the `.fit` call returns inside a variable called `L1_model`."
   ]
  },
  {
   "cell_type": "code",
   "execution_count": 75,
   "metadata": {},
   "outputs": [
    {
     "name": "stdout",
     "output_type": "stream",
     "text": [
      "Train on 7500 samples, validate on 1000 samples\n",
      "Epoch 1/120\n",
      "7500/7500 [==============================] - 3s 388us/step - loss: 15.9829 - acc: 0.1499 - val_loss: 15.5729 - val_acc: 0.1700\n",
      "Epoch 2/120\n",
      "7500/7500 [==============================] - 2s 292us/step - loss: 15.2221 - acc: 0.1780 - val_loss: 14.8274 - val_acc: 0.2010\n",
      "Epoch 3/120\n",
      "7500/7500 [==============================] - 2s 294us/step - loss: 14.4838 - acc: 0.2095 - val_loss: 14.1022 - val_acc: 0.2320\n",
      "Epoch 4/120\n",
      "7500/7500 [==============================] - 2s 298us/step - loss: 13.7654 - acc: 0.2472 - val_loss: 13.3964 - val_acc: 0.2690\n",
      "Epoch 5/120\n",
      "7500/7500 [==============================] - 2s 296us/step - loss: 13.0659 - acc: 0.2797 - val_loss: 12.7093 - val_acc: 0.3000\n",
      "Epoch 6/120\n",
      "7500/7500 [==============================] - 2s 295us/step - loss: 12.3848 - acc: 0.3164 - val_loss: 12.0406 - val_acc: 0.3500\n",
      "Epoch 7/120\n",
      "7500/7500 [==============================] - 2s 304us/step - loss: 11.7223 - acc: 0.3584 - val_loss: 11.3909 - val_acc: 0.3670\n",
      "Epoch 8/120\n",
      "7500/7500 [==============================] - 2s 305us/step - loss: 11.0797 - acc: 0.3885 - val_loss: 10.7611 - val_acc: 0.3830\n",
      "Epoch 9/120\n",
      "7500/7500 [==============================] - 2s 307us/step - loss: 10.4578 - acc: 0.4092 - val_loss: 10.1529 - val_acc: 0.4190\n",
      "Epoch 10/120\n",
      "7500/7500 [==============================] - 2s 294us/step - loss: 9.8572 - acc: 0.4413 - val_loss: 9.5660 - val_acc: 0.4340\n",
      "Epoch 11/120\n",
      "7500/7500 [==============================] - 2s 264us/step - loss: 9.2786 - acc: 0.4655 - val_loss: 9.0024 - val_acc: 0.4540\n",
      "Epoch 12/120\n",
      "7500/7500 [==============================] - 2s 257us/step - loss: 8.7231 - acc: 0.4813 - val_loss: 8.4602 - val_acc: 0.4770\n",
      "Epoch 13/120\n",
      "7500/7500 [==============================] - 2s 243us/step - loss: 8.1909 - acc: 0.5045 - val_loss: 7.9408 - val_acc: 0.4790\n",
      "Epoch 14/120\n",
      "7500/7500 [==============================] - 2s 242us/step - loss: 7.6810 - acc: 0.5213 - val_loss: 7.4451 - val_acc: 0.5010\n",
      "Epoch 15/120\n",
      "7500/7500 [==============================] - 2s 248us/step - loss: 7.1948 - acc: 0.5445 - val_loss: 6.9730 - val_acc: 0.5190\n",
      "Epoch 16/120\n",
      "7500/7500 [==============================] - 2s 258us/step - loss: 6.7309 - acc: 0.5573 - val_loss: 6.5225 - val_acc: 0.5310\n",
      "Epoch 17/120\n",
      "7500/7500 [==============================] - 2s 254us/step - loss: 6.2902 - acc: 0.5729 - val_loss: 6.0935 - val_acc: 0.5470\n",
      "Epoch 18/120\n",
      "7500/7500 [==============================] - 2s 250us/step - loss: 5.8723 - acc: 0.5853 - val_loss: 5.6901 - val_acc: 0.5570\n",
      "Epoch 19/120\n",
      "7500/7500 [==============================] - 2s 254us/step - loss: 5.4772 - acc: 0.6029 - val_loss: 5.3075 - val_acc: 0.5580\n",
      "Epoch 20/120\n",
      "7500/7500 [==============================] - 2s 256us/step - loss: 5.1046 - acc: 0.6083 - val_loss: 4.9469 - val_acc: 0.5700\n",
      "Epoch 21/120\n",
      "7500/7500 [==============================] - 2s 262us/step - loss: 4.7540 - acc: 0.6239 - val_loss: 4.6088 - val_acc: 0.5740\n",
      "Epoch 22/120\n",
      "7500/7500 [==============================] - 2s 329us/step - loss: 4.4264 - acc: 0.6285 - val_loss: 4.2938 - val_acc: 0.5760\n",
      "Epoch 23/120\n",
      "7500/7500 [==============================] - 2s 320us/step - loss: 4.1210 - acc: 0.6300 - val_loss: 4.0014 - val_acc: 0.5910\n",
      "Epoch 24/120\n",
      "7500/7500 [==============================] - 3s 345us/step - loss: 3.8385 - acc: 0.6384 - val_loss: 3.7326 - val_acc: 0.5850\n",
      "Epoch 25/120\n",
      "7500/7500 [==============================] - 3s 335us/step - loss: 3.5783 - acc: 0.6411 - val_loss: 3.4834 - val_acc: 0.5940\n",
      "Epoch 26/120\n",
      "7500/7500 [==============================] - 2s 275us/step - loss: 3.3400 - acc: 0.6409 - val_loss: 3.2568 - val_acc: 0.6060\n",
      "Epoch 27/120\n",
      "7500/7500 [==============================] - 2s 248us/step - loss: 3.1226 - acc: 0.6469 - val_loss: 3.0509 - val_acc: 0.6040\n",
      "Epoch 28/120\n",
      "7500/7500 [==============================] - 2s 244us/step - loss: 2.9266 - acc: 0.6467 - val_loss: 2.8678 - val_acc: 0.6130\n",
      "Epoch 29/120\n",
      "7500/7500 [==============================] - 2s 244us/step - loss: 2.7524 - acc: 0.6480 - val_loss: 2.7053 - val_acc: 0.6050\n",
      "Epoch 30/120\n",
      "7500/7500 [==============================] - 2s 246us/step - loss: 2.5989 - acc: 0.6489 - val_loss: 2.5648 - val_acc: 0.6170\n",
      "Epoch 31/120\n",
      "7500/7500 [==============================] - 2s 246us/step - loss: 2.4663 - acc: 0.6516 - val_loss: 2.4409 - val_acc: 0.6150\n",
      "Epoch 32/120\n",
      "7500/7500 [==============================] - 2s 244us/step - loss: 2.3532 - acc: 0.6532 - val_loss: 2.3392 - val_acc: 0.6140\n",
      "Epoch 33/120\n",
      "7500/7500 [==============================] - 2s 243us/step - loss: 2.2604 - acc: 0.6535 - val_loss: 2.2568 - val_acc: 0.6150\n",
      "Epoch 34/120\n",
      "7500/7500 [==============================] - 2s 251us/step - loss: 2.1853 - acc: 0.6525 - val_loss: 2.1921 - val_acc: 0.6190\n",
      "Epoch 35/120\n",
      "7500/7500 [==============================] - 2s 266us/step - loss: 2.1275 - acc: 0.6545 - val_loss: 2.1438 - val_acc: 0.6180\n",
      "Epoch 36/120\n",
      "7500/7500 [==============================] - 2s 248us/step - loss: 2.0844 - acc: 0.6561 - val_loss: 2.1063 - val_acc: 0.6110\n",
      "Epoch 37/120\n",
      "7500/7500 [==============================] - 2s 251us/step - loss: 2.0520 - acc: 0.6555 - val_loss: 2.0776 - val_acc: 0.6160\n",
      "Epoch 38/120\n",
      "7500/7500 [==============================] - 2s 324us/step - loss: 2.0261 - acc: 0.6551 - val_loss: 2.0558 - val_acc: 0.6210\n",
      "Epoch 39/120\n",
      "7500/7500 [==============================] - 2s 332us/step - loss: 2.0040 - acc: 0.6564 - val_loss: 2.0369 - val_acc: 0.6240\n",
      "Epoch 40/120\n",
      "7500/7500 [==============================] - 2s 305us/step - loss: 1.9843 - acc: 0.6592 - val_loss: 2.0192 - val_acc: 0.6290\n",
      "Epoch 41/120\n",
      "7500/7500 [==============================] - 2s 318us/step - loss: 1.9661 - acc: 0.6609 - val_loss: 2.0006 - val_acc: 0.6230\n",
      "Epoch 42/120\n",
      "7500/7500 [==============================] - 2s 322us/step - loss: 1.9489 - acc: 0.6615 - val_loss: 1.9838 - val_acc: 0.6260\n",
      "Epoch 43/120\n",
      "7500/7500 [==============================] - 2s 265us/step - loss: 1.9324 - acc: 0.6616 - val_loss: 1.9682 - val_acc: 0.6310\n",
      "Epoch 44/120\n",
      "7500/7500 [==============================] - 2s 296us/step - loss: 1.9172 - acc: 0.6632 - val_loss: 1.9533 - val_acc: 0.6290\n",
      "Epoch 45/120\n",
      "7500/7500 [==============================] - 2s 306us/step - loss: 1.9024 - acc: 0.6644 - val_loss: 1.9408 - val_acc: 0.6440\n",
      "Epoch 46/120\n",
      "7500/7500 [==============================] - 2s 263us/step - loss: 1.8883 - acc: 0.6685 - val_loss: 1.9272 - val_acc: 0.6350\n",
      "Epoch 47/120\n",
      "7500/7500 [==============================] - 2s 257us/step - loss: 1.8751 - acc: 0.6700 - val_loss: 1.9146 - val_acc: 0.6460\n",
      "Epoch 48/120\n",
      "7500/7500 [==============================] - 2s 247us/step - loss: 1.8620 - acc: 0.6711 - val_loss: 1.9020 - val_acc: 0.6430\n",
      "Epoch 49/120\n",
      "7500/7500 [==============================] - 2s 304us/step - loss: 1.8494 - acc: 0.6709 - val_loss: 1.8907 - val_acc: 0.6460\n",
      "Epoch 50/120\n",
      "7500/7500 [==============================] - 2s 305us/step - loss: 1.8370 - acc: 0.6737 - val_loss: 1.8788 - val_acc: 0.6430\n",
      "Epoch 51/120\n",
      "7500/7500 [==============================] - 2s 324us/step - loss: 1.8256 - acc: 0.6737 - val_loss: 1.8697 - val_acc: 0.6470\n",
      "Epoch 52/120\n",
      "7500/7500 [==============================] - 2s 328us/step - loss: 1.8138 - acc: 0.6753 - val_loss: 1.8575 - val_acc: 0.6460\n",
      "Epoch 53/120\n",
      "7500/7500 [==============================] - 2s 303us/step - loss: 1.8025 - acc: 0.6788 - val_loss: 1.8442 - val_acc: 0.6470\n",
      "Epoch 54/120\n",
      "7500/7500 [==============================] - 2s 305us/step - loss: 1.7912 - acc: 0.6768 - val_loss: 1.8380 - val_acc: 0.6510\n",
      "Epoch 55/120\n",
      "7500/7500 [==============================] - 2s 314us/step - loss: 1.7810 - acc: 0.6769 - val_loss: 1.8260 - val_acc: 0.6490\n",
      "Epoch 56/120\n",
      "7500/7500 [==============================] - 2s 307us/step - loss: 1.7709 - acc: 0.6817 - val_loss: 1.8143 - val_acc: 0.6510\n",
      "Epoch 57/120\n",
      "7500/7500 [==============================] - 2s 301us/step - loss: 1.7600 - acc: 0.6813 - val_loss: 1.8045 - val_acc: 0.6570\n",
      "Epoch 58/120\n",
      "7500/7500 [==============================] - 2s 302us/step - loss: 1.7498 - acc: 0.6808 - val_loss: 1.7954 - val_acc: 0.6560\n",
      "Epoch 59/120\n",
      "7500/7500 [==============================] - 2s 319us/step - loss: 1.7395 - acc: 0.6833 - val_loss: 1.7868 - val_acc: 0.6490\n"
     ]
    },
    {
     "name": "stdout",
     "output_type": "stream",
     "text": [
      "Epoch 60/120\n",
      "7500/7500 [==============================] - 2s 332us/step - loss: 1.7298 - acc: 0.6849 - val_loss: 1.7755 - val_acc: 0.6540\n",
      "Epoch 61/120\n",
      "7500/7500 [==============================] - 2s 319us/step - loss: 1.7207 - acc: 0.6843 - val_loss: 1.7669 - val_acc: 0.6530\n",
      "Epoch 62/120\n",
      "7500/7500 [==============================] - 2s 319us/step - loss: 1.7112 - acc: 0.6853 - val_loss: 1.7716 - val_acc: 0.6470\n",
      "Epoch 63/120\n",
      "7500/7500 [==============================] - 2s 321us/step - loss: 1.7028 - acc: 0.6843 - val_loss: 1.7474 - val_acc: 0.6600\n",
      "Epoch 64/120\n",
      "7500/7500 [==============================] - 2s 311us/step - loss: 1.6929 - acc: 0.6880 - val_loss: 1.7388 - val_acc: 0.6630\n",
      "Epoch 65/120\n",
      "7500/7500 [==============================] - 2s 296us/step - loss: 1.6847 - acc: 0.6879 - val_loss: 1.7306 - val_acc: 0.6570\n",
      "Epoch 66/120\n",
      "7500/7500 [==============================] - 2s 302us/step - loss: 1.6752 - acc: 0.6904 - val_loss: 1.7238 - val_acc: 0.6600\n",
      "Epoch 67/120\n",
      "7500/7500 [==============================] - 2s 301us/step - loss: 1.6669 - acc: 0.6905 - val_loss: 1.7142 - val_acc: 0.6580\n",
      "Epoch 68/120\n",
      "7500/7500 [==============================] - 2s 296us/step - loss: 1.6589 - acc: 0.6912 - val_loss: 1.7050 - val_acc: 0.6560\n",
      "Epoch 69/120\n",
      "7500/7500 [==============================] - 2s 298us/step - loss: 1.6500 - acc: 0.6904 - val_loss: 1.6996 - val_acc: 0.6600\n",
      "Epoch 70/120\n",
      "7500/7500 [==============================] - 2s 320us/step - loss: 1.6418 - acc: 0.6931 - val_loss: 1.6893 - val_acc: 0.6680\n",
      "Epoch 71/120\n",
      "7500/7500 [==============================] - 3s 343us/step - loss: 1.6337 - acc: 0.6921 - val_loss: 1.6819 - val_acc: 0.6660\n",
      "Epoch 72/120\n",
      "7500/7500 [==============================] - 2s 316us/step - loss: 1.6260 - acc: 0.6935 - val_loss: 1.6734 - val_acc: 0.6690\n",
      "Epoch 73/120\n",
      "7500/7500 [==============================] - 2s 314us/step - loss: 1.6180 - acc: 0.6913 - val_loss: 1.6661 - val_acc: 0.6710\n",
      "Epoch 74/120\n",
      "7500/7500 [==============================] - 2s 291us/step - loss: 1.6098 - acc: 0.6940 - val_loss: 1.6577 - val_acc: 0.6680\n",
      "Epoch 75/120\n",
      "7500/7500 [==============================] - 2s 270us/step - loss: 1.6026 - acc: 0.6948 - val_loss: 1.6521 - val_acc: 0.6650\n",
      "Epoch 76/120\n",
      "7500/7500 [==============================] - 2s 254us/step - loss: 1.5951 - acc: 0.6943 - val_loss: 1.6436 - val_acc: 0.6670\n",
      "Epoch 77/120\n",
      "7500/7500 [==============================] - 2s 244us/step - loss: 1.5874 - acc: 0.6949 - val_loss: 1.6374 - val_acc: 0.6660\n",
      "Epoch 78/120\n",
      "7500/7500 [==============================] - 2s 254us/step - loss: 1.5802 - acc: 0.6969 - val_loss: 1.6282 - val_acc: 0.6680\n",
      "Epoch 79/120\n",
      "7500/7500 [==============================] - 2s 260us/step - loss: 1.5725 - acc: 0.6971 - val_loss: 1.6216 - val_acc: 0.6700\n",
      "Epoch 80/120\n",
      "7500/7500 [==============================] - 2s 260us/step - loss: 1.5654 - acc: 0.6979 - val_loss: 1.6157 - val_acc: 0.6690\n",
      "Epoch 81/120\n",
      "7500/7500 [==============================] - 2s 312us/step - loss: 1.5584 - acc: 0.6981 - val_loss: 1.6102 - val_acc: 0.6670\n",
      "Epoch 82/120\n",
      "7500/7500 [==============================] - 2s 273us/step - loss: 1.5509 - acc: 0.6984 - val_loss: 1.6009 - val_acc: 0.6700\n",
      "Epoch 83/120\n",
      "7500/7500 [==============================] - 2s 321us/step - loss: 1.5444 - acc: 0.6984 - val_loss: 1.6052 - val_acc: 0.6690\n",
      "Epoch 84/120\n",
      "7500/7500 [==============================] - 2s 332us/step - loss: 1.5379 - acc: 0.7000 - val_loss: 1.5866 - val_acc: 0.6710\n",
      "Epoch 85/120\n",
      "7500/7500 [==============================] - 2s 266us/step - loss: 1.5301 - acc: 0.7007 - val_loss: 1.5825 - val_acc: 0.6710\n",
      "Epoch 86/120\n",
      "7500/7500 [==============================] - 2s 263us/step - loss: 1.5236 - acc: 0.6996 - val_loss: 1.5748 - val_acc: 0.6700\n",
      "Epoch 87/120\n",
      "7500/7500 [==============================] - 2s 271us/step - loss: 1.5172 - acc: 0.7007 - val_loss: 1.5705 - val_acc: 0.6700\n",
      "Epoch 88/120\n",
      "7500/7500 [==============================] - 2s 278us/step - loss: 1.5107 - acc: 0.7004 - val_loss: 1.5602 - val_acc: 0.6710\n",
      "Epoch 89/120\n",
      "7500/7500 [==============================] - 2s 317us/step - loss: 1.5041 - acc: 0.7012 - val_loss: 1.5555 - val_acc: 0.6750\n",
      "Epoch 90/120\n",
      "7500/7500 [==============================] - 2s 318us/step - loss: 1.4975 - acc: 0.7035 - val_loss: 1.5482 - val_acc: 0.6740\n",
      "Epoch 91/120\n",
      "7500/7500 [==============================] - 2s 301us/step - loss: 1.4913 - acc: 0.7045 - val_loss: 1.5478 - val_acc: 0.6720\n",
      "Epoch 92/120\n",
      "7500/7500 [==============================] - 2s 312us/step - loss: 1.4848 - acc: 0.7045 - val_loss: 1.5354 - val_acc: 0.6740\n",
      "Epoch 93/120\n",
      "7500/7500 [==============================] - 3s 348us/step - loss: 1.4790 - acc: 0.7041 - val_loss: 1.5300 - val_acc: 0.6740\n",
      "Epoch 94/120\n",
      "7500/7500 [==============================] - 3s 440us/step - loss: 1.4727 - acc: 0.7040 - val_loss: 1.5211 - val_acc: 0.6760\n",
      "Epoch 95/120\n",
      "7500/7500 [==============================] - 3s 347us/step - loss: 1.4661 - acc: 0.7055 - val_loss: 1.5167 - val_acc: 0.6740\n",
      "Epoch 96/120\n",
      "7500/7500 [==============================] - 2s 327us/step - loss: 1.4605 - acc: 0.7048 - val_loss: 1.5131 - val_acc: 0.6800\n",
      "Epoch 97/120\n",
      "7500/7500 [==============================] - 2s 309us/step - loss: 1.4546 - acc: 0.7059 - val_loss: 1.5042 - val_acc: 0.6800\n",
      "Epoch 98/120\n",
      "7500/7500 [==============================] - 2s 314us/step - loss: 1.4487 - acc: 0.7060 - val_loss: 1.4986 - val_acc: 0.6830\n",
      "Epoch 99/120\n",
      "7500/7500 [==============================] - 2s 307us/step - loss: 1.4430 - acc: 0.7081 - val_loss: 1.4928 - val_acc: 0.6750\n",
      "Epoch 100/120\n",
      "7500/7500 [==============================] - 2s 333us/step - loss: 1.4373 - acc: 0.7064 - val_loss: 1.4875 - val_acc: 0.6800\n",
      "Epoch 101/120\n",
      "7500/7500 [==============================] - 2s 265us/step - loss: 1.4317 - acc: 0.7081 - val_loss: 1.4869 - val_acc: 0.6770\n",
      "Epoch 102/120\n",
      "7500/7500 [==============================] - 2s 262us/step - loss: 1.4264 - acc: 0.7084 - val_loss: 1.4765 - val_acc: 0.6790\n",
      "Epoch 103/120\n",
      "7500/7500 [==============================] - 2s 260us/step - loss: 1.4209 - acc: 0.7099 - val_loss: 1.4770 - val_acc: 0.6760\n",
      "Epoch 104/120\n",
      "7500/7500 [==============================] - 2s 274us/step - loss: 1.4150 - acc: 0.7103 - val_loss: 1.4677 - val_acc: 0.6790\n",
      "Epoch 105/120\n",
      "7500/7500 [==============================] - 2s 280us/step - loss: 1.4097 - acc: 0.7107 - val_loss: 1.4610 - val_acc: 0.6810\n",
      "Epoch 106/120\n",
      "7500/7500 [==============================] - 2s 266us/step - loss: 1.4043 - acc: 0.7091 - val_loss: 1.4546 - val_acc: 0.6820\n",
      "Epoch 107/120\n",
      "7500/7500 [==============================] - 2s 273us/step - loss: 1.3989 - acc: 0.7123 - val_loss: 1.4508 - val_acc: 0.6830\n",
      "Epoch 108/120\n",
      "7500/7500 [==============================] - 2s 274us/step - loss: 1.3939 - acc: 0.7128 - val_loss: 1.4425 - val_acc: 0.6850\n",
      "Epoch 109/120\n",
      "7500/7500 [==============================] - 2s 274us/step - loss: 1.3888 - acc: 0.7119 - val_loss: 1.4401 - val_acc: 0.6820\n",
      "Epoch 110/120\n",
      "7500/7500 [==============================] - 2s 260us/step - loss: 1.3842 - acc: 0.7121 - val_loss: 1.4344 - val_acc: 0.6790\n",
      "Epoch 111/120\n",
      "7500/7500 [==============================] - 2s 276us/step - loss: 1.3787 - acc: 0.7120 - val_loss: 1.4299 - val_acc: 0.6790\n",
      "Epoch 112/120\n",
      "7500/7500 [==============================] - 2s 261us/step - loss: 1.3731 - acc: 0.7132 - val_loss: 1.4295 - val_acc: 0.6830\n",
      "Epoch 113/120\n",
      "7500/7500 [==============================] - 2s 254us/step - loss: 1.3685 - acc: 0.7144 - val_loss: 1.4178 - val_acc: 0.6870\n",
      "Epoch 114/120\n",
      "7500/7500 [==============================] - 2s 256us/step - loss: 1.3635 - acc: 0.7151 - val_loss: 1.4170 - val_acc: 0.6830\n",
      "Epoch 115/120\n",
      "7500/7500 [==============================] - 2s 248us/step - loss: 1.3595 - acc: 0.7148 - val_loss: 1.4098 - val_acc: 0.6840\n",
      "Epoch 116/120\n",
      "7500/7500 [==============================] - 2s 247us/step - loss: 1.3536 - acc: 0.7145 - val_loss: 1.4039 - val_acc: 0.6850\n",
      "Epoch 117/120\n",
      "7500/7500 [==============================] - 2s 245us/step - loss: 1.3489 - acc: 0.7149 - val_loss: 1.4071 - val_acc: 0.6820\n",
      "Epoch 118/120\n",
      "7500/7500 [==============================] - 2s 251us/step - loss: 1.3445 - acc: 0.7143 - val_loss: 1.3947 - val_acc: 0.6890\n",
      "Epoch 119/120\n",
      "7500/7500 [==============================] - 2s 253us/step - loss: 1.3397 - acc: 0.7165 - val_loss: 1.3921 - val_acc: 0.6890\n",
      "Epoch 120/120\n",
      "7500/7500 [==============================] - 2s 250us/step - loss: 1.3350 - acc: 0.7164 - val_loss: 1.3851 - val_acc: 0.6870\n"
     ]
    }
   ],
   "source": [
    "model = Sequential()\n",
    "model.add(Dense(50, activation='relu',kernel_regularizer=regularizers.l1(0.005), input_shape=(2000,))) #2 hidden layers\n",
    "model.add(Dense(25, kernel_regularizer=regularizers.l1(0.005), activation='relu'))\n",
    "model.add(Dense(7, activation='softmax'))\n",
    "\n",
    "model.compile(optimizer='SGD',\n",
    "              loss='categorical_crossentropy',\n",
    "              metrics=['accuracy'])\n",
    "\n",
    "L1_model = model.fit(train_final,\n",
    "                    label_train_final,\n",
    "                    epochs=120,\n",
    "                    batch_size=256,\n",
    "                    validation_data=(val, label_val))"
   ]
  },
  {
   "cell_type": "markdown",
   "metadata": {},
   "source": [
    "Now, run the cell below to get and visualize the model's `.history`."
   ]
  },
  {
   "cell_type": "code",
   "execution_count": 76,
   "metadata": {},
   "outputs": [
    {
     "data": {
      "image/png": "[encoded data removed]",
      "text/plain": [
       "<Figure size 432x288 with 1 Axes>"
      ]
     },
     "metadata": {},
     "output_type": "display_data"
    }
   ],
   "source": [
    "L1_model_dict = L1_model.history\n",
    "plt.clf()\n",
    "\n",
    "acc_values = L1_model_dict['acc'] \n",
    "val_acc_values = L1_model_dict['val_acc']\n",
    "\n",
    "epochs = range(1, len(acc_values) + 1)\n",
    "plt.plot(epochs, acc_values, 'g', label='Training acc L1')\n",
    "plt.plot(epochs, val_acc_values, 'g.', label='Validation acc L1')\n",
    "plt.title('Training & validation accuracy with L1 regularization')\n",
    "plt.xlabel('Epochs')\n",
    "plt.ylabel('Loss')\n",
    "plt.legend()\n",
    "plt.show()"
   ]
  },
  {
   "cell_type": "markdown",
   "metadata": {},
   "source": [
    "Notice how The training and validation accuracy don't diverge as much as before! Unfortunately, the validation accuracy doesn't reach rates much higher than 70%. It does seem like we can still improve the model by training much longer.\n",
    "\n",
    "To complete our comparison, let's use `model.evaluate()` again on the appropriate variables to compare results. "
   ]
  },
  {
   "cell_type": "code",
   "execution_count": 77,
   "metadata": {},
   "outputs": [
    {
     "name": "stdout",
     "output_type": "stream",
     "text": [
      "7500/7500 [==============================] - 2s 273us/step\n",
      "1500/1500 [==============================] - 0s 276us/step\n"
     ]
    }
   ],
   "source": [
    "results_train = model.evaluate(train_final, label_train_final)\n",
    "\n",
    "results_test = model.evaluate(test, label_test)"
   ]
  },
  {
   "cell_type": "code",
   "execution_count": 78,
   "metadata": {},
   "outputs": [
    {
     "data": {
      "text/plain": [
       "[1.334806237188975, 0.7164]"
      ]
     },
     "execution_count": 78,
     "metadata": {},
     "output_type": "execute_result"
    }
   ],
   "source": [
    "results_train # Expected Output: [1.3186310468037923, 0.72266666663487755]"
   ]
  },
  {
   "cell_type": "code",
   "execution_count": 79,
   "metadata": {},
   "outputs": [
    {
     "data": {
      "text/plain": [
       "[1.3708883482615153, 0.7026666666666667]"
      ]
     },
     "execution_count": 79,
     "metadata": {},
     "output_type": "execute_result"
    }
   ],
   "source": [
    "results_test # Expected Output: [1.3541648308436076, 0.70800000031789145]"
   ]
  },
  {
   "cell_type": "markdown",
   "metadata": {},
   "source": [
    "This is about the best we've seen so far, but we were training for quite a while! Let's see if dropout regularization can do even better and/or be more efficient!"
   ]
  },
  {
   "cell_type": "markdown",
   "metadata": {},
   "source": [
    "## 6. Dropout Regularization\n",
    "\n",
    "Dropout Regularization is accomplished by adding in an additional `Dropout` layer wherever we want to use it, and providing a percentage value for how likely any given neuron is to get \"dropped out\" during this layer. \n",
    "\n",
    "In the cell below:\n",
    "\n",
    "* Import `Dropout` from `keras.layers`\n",
    "* Recreate the same network we have above, but this time without any L1 or L2 regularization\n",
    "* Add a `Dropout` layer between hidden layer 1 and hidden layer 2.  This should have a dropout chance of `0.3`.\n",
    "* Add a `Dropout` layer between hidden layer 2 and the output layer.  This should have a dropout chance of `0.3`.\n",
    "* Compile the model with the exact same hyperparameters as all other models we've built. \n",
    "* Fit the model with the same hyperparameters we've used above.  But this time, train the model for `200` epochs. "
   ]
  },
  {
   "cell_type": "code",
   "execution_count": 80,
   "metadata": {},
   "outputs": [
    {
     "name": "stdout",
     "output_type": "stream",
     "text": [
      "Train on 7500 samples, validate on 1000 samples\n",
      "Epoch 1/200\n",
      "7500/7500 [==============================] - 3s 401us/step - loss: 1.9785 - acc: 0.1415 - val_loss: 1.9415 - val_acc: 0.1650\n",
      "Epoch 2/200\n",
      "7500/7500 [==============================] - 2s 328us/step - loss: 1.9480 - acc: 0.1603 - val_loss: 1.9209 - val_acc: 0.1870\n",
      "Epoch 3/200\n",
      "7500/7500 [==============================] - 3s 339us/step - loss: 1.9292 - acc: 0.1793 - val_loss: 1.9043 - val_acc: 0.2110\n",
      "Epoch 4/200\n",
      "7500/7500 [==============================] - 3s 341us/step - loss: 1.9188 - acc: 0.1859 - val_loss: 1.8883 - val_acc: 0.2160\n",
      "Epoch 5/200\n",
      "7500/7500 [==============================] - 3s 341us/step - loss: 1.8996 - acc: 0.2035 - val_loss: 1.8730 - val_acc: 0.2300\n",
      "Epoch 6/200\n",
      "7500/7500 [==============================] - 3s 348us/step - loss: 1.8861 - acc: 0.2160 - val_loss: 1.8573 - val_acc: 0.2420\n",
      "Epoch 7/200\n",
      "7500/7500 [==============================] - 2s 311us/step - loss: 1.8732 - acc: 0.2253 - val_loss: 1.8420 - val_acc: 0.2610\n",
      "Epoch 8/200\n",
      "7500/7500 [==============================] - 3s 342us/step - loss: 1.8610 - acc: 0.2404 - val_loss: 1.8257 - val_acc: 0.2860\n",
      "Epoch 9/200\n",
      "7500/7500 [==============================] - 3s 345us/step - loss: 1.8472 - acc: 0.2537 - val_loss: 1.8071 - val_acc: 0.3060\n",
      "Epoch 10/200\n",
      "7500/7500 [==============================] - 3s 340us/step - loss: 1.8286 - acc: 0.2609 - val_loss: 1.7867 - val_acc: 0.3270\n",
      "Epoch 11/200\n",
      "7500/7500 [==============================] - 3s 348us/step - loss: 1.8134 - acc: 0.2689 - val_loss: 1.7683 - val_acc: 0.3570\n",
      "Epoch 12/200\n",
      "7500/7500 [==============================] - 2s 322us/step - loss: 1.7932 - acc: 0.2877 - val_loss: 1.7456 - val_acc: 0.3790\n",
      "Epoch 13/200\n",
      "7500/7500 [==============================] - 2s 309us/step - loss: 1.7793 - acc: 0.2916 - val_loss: 1.7231 - val_acc: 0.3910\n",
      "Epoch 14/200\n",
      "7500/7500 [==============================] - 2s 306us/step - loss: 1.7554 - acc: 0.3093 - val_loss: 1.6996 - val_acc: 0.4090\n",
      "Epoch 15/200\n",
      "7500/7500 [==============================] - 2s 308us/step - loss: 1.7316 - acc: 0.3227 - val_loss: 1.6747 - val_acc: 0.4280\n",
      "Epoch 16/200\n",
      "7500/7500 [==============================] - 2s 307us/step - loss: 1.7128 - acc: 0.3405 - val_loss: 1.6504 - val_acc: 0.4420\n",
      "Epoch 17/200\n",
      "7500/7500 [==============================] - 2s 307us/step - loss: 1.6988 - acc: 0.3375 - val_loss: 1.6256 - val_acc: 0.4670\n",
      "Epoch 18/200\n",
      "7500/7500 [==============================] - 2s 299us/step - loss: 1.6840 - acc: 0.3527 - val_loss: 1.6023 - val_acc: 0.4810\n",
      "Epoch 19/200\n",
      "7500/7500 [==============================] - 2s 301us/step - loss: 1.6624 - acc: 0.3645 - val_loss: 1.5760 - val_acc: 0.5060\n",
      "Epoch 20/200\n",
      "7500/7500 [==============================] - 2s 300us/step - loss: 1.6293 - acc: 0.3829 - val_loss: 1.5480 - val_acc: 0.5180\n",
      "Epoch 21/200\n",
      "7500/7500 [==============================] - 2s 301us/step - loss: 1.6093 - acc: 0.3829 - val_loss: 1.5206 - val_acc: 0.5280\n",
      "Epoch 22/200\n",
      "7500/7500 [==============================] - 3s 344us/step - loss: 1.5900 - acc: 0.4007 - val_loss: 1.4951 - val_acc: 0.5370\n",
      "Epoch 23/200\n",
      "7500/7500 [==============================] - 2s 330us/step - loss: 1.5719 - acc: 0.3988 - val_loss: 1.4695 - val_acc: 0.5430\n",
      "Epoch 24/200\n",
      "7500/7500 [==============================] - 2s 306us/step - loss: 1.5602 - acc: 0.4032 - val_loss: 1.4464 - val_acc: 0.5570\n",
      "Epoch 25/200\n",
      "7500/7500 [==============================] - 2s 300us/step - loss: 1.5351 - acc: 0.4116 - val_loss: 1.4195 - val_acc: 0.5670\n",
      "Epoch 26/200\n",
      "7500/7500 [==============================] - 2s 281us/step - loss: 1.5038 - acc: 0.4344 - val_loss: 1.3938 - val_acc: 0.5780\n",
      "Epoch 27/200\n",
      "7500/7500 [==============================] - 2s 289us/step - loss: 1.4882 - acc: 0.4431 - val_loss: 1.3683 - val_acc: 0.5940\n",
      "Epoch 28/200\n",
      "7500/7500 [==============================] - 2s 293us/step - loss: 1.4652 - acc: 0.4453 - val_loss: 1.3441 - val_acc: 0.6020\n",
      "Epoch 29/200\n",
      "7500/7500 [==============================] - 2s 261us/step - loss: 1.4520 - acc: 0.4479 - val_loss: 1.3232 - val_acc: 0.6030\n",
      "Epoch 30/200\n",
      "7500/7500 [==============================] - 2s 252us/step - loss: 1.4313 - acc: 0.4548 - val_loss: 1.3005 - val_acc: 0.6050\n",
      "Epoch 31/200\n",
      "7500/7500 [==============================] - 2s 260us/step - loss: 1.4122 - acc: 0.4585 - val_loss: 1.2784 - val_acc: 0.6130\n",
      "Epoch 32/200\n",
      "7500/7500 [==============================] - 2s 271us/step - loss: 1.3873 - acc: 0.4775 - val_loss: 1.2585 - val_acc: 0.6200\n",
      "Epoch 33/200\n",
      "7500/7500 [==============================] - 2s 282us/step - loss: 1.3772 - acc: 0.4752 - val_loss: 1.2385 - val_acc: 0.6270\n",
      "Epoch 34/200\n",
      "7500/7500 [==============================] - 2s 262us/step - loss: 1.3596 - acc: 0.4885 - val_loss: 1.2180 - val_acc: 0.6280\n",
      "Epoch 35/200\n",
      "7500/7500 [==============================] - 2s 254us/step - loss: 1.3392 - acc: 0.4915 - val_loss: 1.2002 - val_acc: 0.6370\n",
      "Epoch 36/200\n",
      "7500/7500 [==============================] - 2s 250us/step - loss: 1.3146 - acc: 0.5075 - val_loss: 1.1782 - val_acc: 0.6340\n",
      "Epoch 37/200\n",
      "7500/7500 [==============================] - 2s 256us/step - loss: 1.3037 - acc: 0.5075 - val_loss: 1.1611 - val_acc: 0.6460\n",
      "Epoch 38/200\n",
      "7500/7500 [==============================] - 2s 252us/step - loss: 1.2952 - acc: 0.5104 - val_loss: 1.1438 - val_acc: 0.6550\n",
      "Epoch 39/200\n",
      "7500/7500 [==============================] - 2s 257us/step - loss: 1.2828 - acc: 0.5193 - val_loss: 1.1282 - val_acc: 0.6580\n",
      "Epoch 40/200\n",
      "7500/7500 [==============================] - 2s 267us/step - loss: 1.2702 - acc: 0.5211 - val_loss: 1.1148 - val_acc: 0.6640\n",
      "Epoch 41/200\n",
      "7500/7500 [==============================] - 2s 256us/step - loss: 1.2536 - acc: 0.5252 - val_loss: 1.0972 - val_acc: 0.6680\n",
      "Epoch 42/200\n",
      "7500/7500 [==============================] - 2s 267us/step - loss: 1.2293 - acc: 0.5437 - val_loss: 1.0827 - val_acc: 0.6690\n",
      "Epoch 43/200\n",
      "7500/7500 [==============================] - 2s 265us/step - loss: 1.2219 - acc: 0.5429 - val_loss: 1.0680 - val_acc: 0.6750\n",
      "Epoch 44/200\n",
      "7500/7500 [==============================] - 2s 269us/step - loss: 1.2191 - acc: 0.5409 - val_loss: 1.0559 - val_acc: 0.6760\n",
      "Epoch 45/200\n",
      "7500/7500 [==============================] - 2s 247us/step - loss: 1.1956 - acc: 0.5555 - val_loss: 1.0394 - val_acc: 0.6870\n",
      "Epoch 46/200\n",
      "7500/7500 [==============================] - 2s 247us/step - loss: 1.1845 - acc: 0.5617 - val_loss: 1.0274 - val_acc: 0.6870\n",
      "Epoch 47/200\n",
      "7500/7500 [==============================] - 2s 248us/step - loss: 1.1637 - acc: 0.5679 - val_loss: 1.0113 - val_acc: 0.6930\n",
      "Epoch 48/200\n",
      "7500/7500 [==============================] - 2s 247us/step - loss: 1.1530 - acc: 0.5708 - val_loss: 0.9975 - val_acc: 0.6970\n",
      "Epoch 49/200\n",
      "7500/7500 [==============================] - 2s 247us/step - loss: 1.1535 - acc: 0.5653 - val_loss: 0.9906 - val_acc: 0.6950\n",
      "Epoch 50/200\n",
      "7500/7500 [==============================] - 2s 247us/step - loss: 1.1301 - acc: 0.5773 - val_loss: 0.9776 - val_acc: 0.7050\n",
      "Epoch 51/200\n",
      "7500/7500 [==============================] - 2s 248us/step - loss: 1.1118 - acc: 0.5863 - val_loss: 0.9646 - val_acc: 0.7030\n",
      "Epoch 52/200\n",
      "7500/7500 [==============================] - 2s 247us/step - loss: 1.1039 - acc: 0.5881 - val_loss: 0.9535 - val_acc: 0.7050\n",
      "Epoch 53/200\n",
      "7500/7500 [==============================] - 2s 249us/step - loss: 1.0970 - acc: 0.5852 - val_loss: 0.9430 - val_acc: 0.7090\n",
      "Epoch 54/200\n",
      "7500/7500 [==============================] - 2s 248us/step - loss: 1.0924 - acc: 0.5863 - val_loss: 0.9340 - val_acc: 0.7090\n",
      "Epoch 55/200\n",
      "7500/7500 [==============================] - 2s 247us/step - loss: 1.0724 - acc: 0.5971 - val_loss: 0.9244 - val_acc: 0.7150\n",
      "Epoch 56/200\n",
      "7500/7500 [==============================] - 2s 247us/step - loss: 1.0774 - acc: 0.5940 - val_loss: 0.9168 - val_acc: 0.7130\n",
      "Epoch 57/200\n",
      "7500/7500 [==============================] - 2s 262us/step - loss: 1.0583 - acc: 0.6032 - val_loss: 0.9065 - val_acc: 0.7180\n",
      "Epoch 58/200\n",
      "7500/7500 [==============================] - 2s 331us/step - loss: 1.0547 - acc: 0.6088 - val_loss: 0.8999 - val_acc: 0.7180\n",
      "Epoch 59/200\n",
      "7500/7500 [==============================] - 2s 324us/step - loss: 1.0403 - acc: 0.6105 - val_loss: 0.8908 - val_acc: 0.7200\n",
      "Epoch 60/200\n"
     ]
    },
    {
     "name": "stdout",
     "output_type": "stream",
     "text": [
      "7500/7500 [==============================] - 2s 312us/step - loss: 1.0304 - acc: 0.6132 - val_loss: 0.8833 - val_acc: 0.7190\n",
      "Epoch 61/200\n",
      "7500/7500 [==============================] - 2s 291us/step - loss: 1.0255 - acc: 0.6207 - val_loss: 0.8748 - val_acc: 0.7180\n",
      "Epoch 62/200\n",
      "7500/7500 [==============================] - 2s 287us/step - loss: 1.0180 - acc: 0.6169 - val_loss: 0.8672 - val_acc: 0.7260\n",
      "Epoch 63/200\n",
      "7500/7500 [==============================] - 2s 294us/step - loss: 1.0112 - acc: 0.6219 - val_loss: 0.8600 - val_acc: 0.7280\n",
      "Epoch 64/200\n",
      "7500/7500 [==============================] - 2s 280us/step - loss: 1.0010 - acc: 0.6276 - val_loss: 0.8547 - val_acc: 0.7230\n",
      "Epoch 65/200\n",
      "7500/7500 [==============================] - 2s 261us/step - loss: 0.9893 - acc: 0.6333 - val_loss: 0.8479 - val_acc: 0.7280\n",
      "Epoch 66/200\n",
      "7500/7500 [==============================] - 2s 270us/step - loss: 0.9739 - acc: 0.6399 - val_loss: 0.8409 - val_acc: 0.7310\n",
      "Epoch 67/200\n",
      "7500/7500 [==============================] - 2s 295us/step - loss: 0.9765 - acc: 0.6364 - val_loss: 0.8347 - val_acc: 0.7310\n",
      "Epoch 68/200\n",
      "7500/7500 [==============================] - 2s 287us/step - loss: 0.9741 - acc: 0.6332 - val_loss: 0.8261 - val_acc: 0.7300\n",
      "Epoch 69/200\n",
      "7500/7500 [==============================] - 2s 300us/step - loss: 0.9596 - acc: 0.6468 - val_loss: 0.8205 - val_acc: 0.7290\n",
      "Epoch 70/200\n",
      "7500/7500 [==============================] - 2s 299us/step - loss: 0.9399 - acc: 0.6473 - val_loss: 0.8139 - val_acc: 0.7310\n",
      "Epoch 71/200\n",
      "7500/7500 [==============================] - 3s 352us/step - loss: 0.9444 - acc: 0.6439 - val_loss: 0.8087 - val_acc: 0.7290\n",
      "Epoch 72/200\n",
      "7500/7500 [==============================] - 3s 342us/step - loss: 0.9384 - acc: 0.6511 - val_loss: 0.8031 - val_acc: 0.7320\n",
      "Epoch 73/200\n",
      "7500/7500 [==============================] - 2s 305us/step - loss: 0.9360 - acc: 0.6481 - val_loss: 0.7987 - val_acc: 0.7300\n",
      "Epoch 74/200\n",
      "7500/7500 [==============================] - 2s 332us/step - loss: 0.9259 - acc: 0.6567 - val_loss: 0.7954 - val_acc: 0.7290\n",
      "Epoch 75/200\n",
      "7500/7500 [==============================] - 2s 303us/step - loss: 0.9222 - acc: 0.6555 - val_loss: 0.7892 - val_acc: 0.7350\n",
      "Epoch 76/200\n",
      "7500/7500 [==============================] - 2s 301us/step - loss: 0.9246 - acc: 0.6557 - val_loss: 0.7864 - val_acc: 0.7290\n",
      "Epoch 77/200\n",
      "7500/7500 [==============================] - 2s 302us/step - loss: 0.9101 - acc: 0.6587 - val_loss: 0.7819 - val_acc: 0.7310\n",
      "Epoch 78/200\n",
      "7500/7500 [==============================] - 2s 309us/step - loss: 0.8973 - acc: 0.6597 - val_loss: 0.7750 - val_acc: 0.7330\n",
      "Epoch 79/200\n",
      "7500/7500 [==============================] - 2s 316us/step - loss: 0.9011 - acc: 0.6635 - val_loss: 0.7724 - val_acc: 0.7320\n",
      "Epoch 80/200\n",
      "7500/7500 [==============================] - 2s 308us/step - loss: 0.8885 - acc: 0.6713 - val_loss: 0.7682 - val_acc: 0.7320\n",
      "Epoch 81/200\n",
      "7500/7500 [==============================] - 2s 256us/step - loss: 0.8833 - acc: 0.6740 - val_loss: 0.7654 - val_acc: 0.7330\n",
      "Epoch 82/200\n",
      "7500/7500 [==============================] - 2s 247us/step - loss: 0.8838 - acc: 0.6663 - val_loss: 0.7624 - val_acc: 0.7310\n",
      "Epoch 83/200\n",
      "7500/7500 [==============================] - 2s 252us/step - loss: 0.8849 - acc: 0.6720 - val_loss: 0.7578 - val_acc: 0.7330\n",
      "Epoch 84/200\n",
      "7500/7500 [==============================] - 2s 256us/step - loss: 0.8570 - acc: 0.6808 - val_loss: 0.7518 - val_acc: 0.7360\n",
      "Epoch 85/200\n",
      "7500/7500 [==============================] - 2s 247us/step - loss: 0.8615 - acc: 0.6727 - val_loss: 0.7470 - val_acc: 0.7360\n",
      "Epoch 86/200\n",
      "7500/7500 [==============================] - 2s 248us/step - loss: 0.8536 - acc: 0.6765 - val_loss: 0.7451 - val_acc: 0.7370\n",
      "Epoch 87/200\n",
      "7500/7500 [==============================] - 2s 247us/step - loss: 0.8564 - acc: 0.6799 - val_loss: 0.7436 - val_acc: 0.7330\n",
      "Epoch 88/200\n",
      "7500/7500 [==============================] - 2s 246us/step - loss: 0.8462 - acc: 0.6815 - val_loss: 0.7384 - val_acc: 0.7390\n",
      "Epoch 89/200\n",
      "7500/7500 [==============================] - 2s 256us/step - loss: 0.8343 - acc: 0.6825 - val_loss: 0.7347 - val_acc: 0.7370\n",
      "Epoch 90/200\n",
      "7500/7500 [==============================] - 2s 254us/step - loss: 0.8344 - acc: 0.6885 - val_loss: 0.7315 - val_acc: 0.7390\n",
      "Epoch 91/200\n",
      "7500/7500 [==============================] - 2s 259us/step - loss: 0.8300 - acc: 0.6877 - val_loss: 0.7281 - val_acc: 0.7380\n",
      "Epoch 92/200\n",
      "7500/7500 [==============================] - 2s 252us/step - loss: 0.8289 - acc: 0.6927 - val_loss: 0.7263 - val_acc: 0.7390\n",
      "Epoch 93/200\n",
      "7500/7500 [==============================] - 2s 268us/step - loss: 0.8197 - acc: 0.6887 - val_loss: 0.7232 - val_acc: 0.7400\n",
      "Epoch 94/200\n",
      "7500/7500 [==============================] - 2s 266us/step - loss: 0.8173 - acc: 0.6959 - val_loss: 0.7190 - val_acc: 0.7400\n",
      "Epoch 95/200\n",
      "7500/7500 [==============================] - 2s 269us/step - loss: 0.8134 - acc: 0.6941 - val_loss: 0.7180 - val_acc: 0.7400\n",
      "Epoch 96/200\n",
      "7500/7500 [==============================] - 2s 276us/step - loss: 0.8122 - acc: 0.6975 - val_loss: 0.7156 - val_acc: 0.7400\n",
      "Epoch 97/200\n",
      "7500/7500 [==============================] - 2s 259us/step - loss: 0.8016 - acc: 0.6940 - val_loss: 0.7122 - val_acc: 0.7410\n",
      "Epoch 98/200\n",
      "7500/7500 [==============================] - 2s 246us/step - loss: 0.7996 - acc: 0.7003 - val_loss: 0.7107 - val_acc: 0.7410\n",
      "Epoch 99/200\n",
      "7500/7500 [==============================] - 2s 258us/step - loss: 0.7919 - acc: 0.6988 - val_loss: 0.7078 - val_acc: 0.7430\n",
      "Epoch 100/200\n",
      "7500/7500 [==============================] - 2s 253us/step - loss: 0.7912 - acc: 0.7029 - val_loss: 0.7059 - val_acc: 0.7420\n",
      "Epoch 101/200\n",
      "7500/7500 [==============================] - 2s 251us/step - loss: 0.7898 - acc: 0.7037 - val_loss: 0.7037 - val_acc: 0.7430\n",
      "Epoch 102/200\n",
      "7500/7500 [==============================] - 2s 262us/step - loss: 0.7830 - acc: 0.7032 - val_loss: 0.7014 - val_acc: 0.7440\n",
      "Epoch 103/200\n",
      "7500/7500 [==============================] - 3s 346us/step - loss: 0.7708 - acc: 0.7120 - val_loss: 0.6991 - val_acc: 0.7430\n",
      "Epoch 104/200\n",
      "7500/7500 [==============================] - 2s 324us/step - loss: 0.7729 - acc: 0.7119 - val_loss: 0.6970 - val_acc: 0.7430\n",
      "Epoch 105/200\n",
      "7500/7500 [==============================] - 3s 338us/step - loss: 0.7736 - acc: 0.7045 - val_loss: 0.6968 - val_acc: 0.7410\n",
      "Epoch 106/200\n",
      "7500/7500 [==============================] - 2s 316us/step - loss: 0.7718 - acc: 0.7095 - val_loss: 0.6946 - val_acc: 0.7440\n",
      "Epoch 107/200\n",
      "7500/7500 [==============================] - 2s 322us/step - loss: 0.7625 - acc: 0.7148 - val_loss: 0.6936 - val_acc: 0.7450\n",
      "Epoch 108/200\n",
      "7500/7500 [==============================] - 3s 339us/step - loss: 0.7674 - acc: 0.7095 - val_loss: 0.6909 - val_acc: 0.7490\n",
      "Epoch 109/200\n",
      "7500/7500 [==============================] - 2s 320us/step - loss: 0.7560 - acc: 0.7215 - val_loss: 0.6900 - val_acc: 0.7450\n",
      "Epoch 110/200\n",
      "7500/7500 [==============================] - 3s 336us/step - loss: 0.7512 - acc: 0.7165 - val_loss: 0.6883 - val_acc: 0.7460\n",
      "Epoch 111/200\n",
      "7500/7500 [==============================] - 3s 338us/step - loss: 0.7477 - acc: 0.7205 - val_loss: 0.6859 - val_acc: 0.7440\n",
      "Epoch 112/200\n",
      "7500/7500 [==============================] - 2s 301us/step - loss: 0.7405 - acc: 0.7217 - val_loss: 0.6842 - val_acc: 0.7470\n",
      "Epoch 113/200\n",
      "7500/7500 [==============================] - 2s 248us/step - loss: 0.7405 - acc: 0.7207 - val_loss: 0.6832 - val_acc: 0.7490\n",
      "Epoch 114/200\n",
      "7500/7500 [==============================] - 2s 247us/step - loss: 0.7446 - acc: 0.7181 - val_loss: 0.6817 - val_acc: 0.7500\n",
      "Epoch 115/200\n",
      "7500/7500 [==============================] - 2s 248us/step - loss: 0.7435 - acc: 0.7181 - val_loss: 0.6801 - val_acc: 0.7470\n",
      "Epoch 116/200\n",
      "7500/7500 [==============================] - 2s 246us/step - loss: 0.7324 - acc: 0.7259 - val_loss: 0.6796 - val_acc: 0.7480\n",
      "Epoch 117/200\n",
      "7500/7500 [==============================] - 2s 248us/step - loss: 0.7330 - acc: 0.7232 - val_loss: 0.6777 - val_acc: 0.7470\n",
      "Epoch 118/200\n",
      "7500/7500 [==============================] - 2s 248us/step - loss: 0.7299 - acc: 0.7273 - val_loss: 0.6768 - val_acc: 0.7520\n",
      "Epoch 119/200\n",
      "7500/7500 [==============================] - 2s 247us/step - loss: 0.7315 - acc: 0.7313 - val_loss: 0.6738 - val_acc: 0.7470\n",
      "Epoch 120/200\n",
      "7500/7500 [==============================] - 2s 247us/step - loss: 0.7255 - acc: 0.7273 - val_loss: 0.6744 - val_acc: 0.7490\n",
      "Epoch 121/200\n",
      "7500/7500 [==============================] - 2s 249us/step - loss: 0.7289 - acc: 0.7252 - val_loss: 0.6722 - val_acc: 0.7490\n",
      "Epoch 122/200\n",
      "7500/7500 [==============================] - 2s 246us/step - loss: 0.7130 - acc: 0.7296 - val_loss: 0.6695 - val_acc: 0.7520\n",
      "Epoch 123/200\n",
      "7500/7500 [==============================] - 2s 247us/step - loss: 0.7055 - acc: 0.7323 - val_loss: 0.6688 - val_acc: 0.7530\n",
      "Epoch 124/200\n",
      "7500/7500 [==============================] - 2s 249us/step - loss: 0.7132 - acc: 0.7372 - val_loss: 0.6684 - val_acc: 0.7490\n",
      "Epoch 125/200\n",
      "7500/7500 [==============================] - 2s 247us/step - loss: 0.6971 - acc: 0.7383 - val_loss: 0.6664 - val_acc: 0.7480\n",
      "Epoch 126/200\n",
      "7500/7500 [==============================] - 2s 247us/step - loss: 0.6987 - acc: 0.7389 - val_loss: 0.6655 - val_acc: 0.7520\n",
      "Epoch 127/200\n",
      "7500/7500 [==============================] - 2s 247us/step - loss: 0.7035 - acc: 0.7328 - val_loss: 0.6643 - val_acc: 0.7530\n",
      "Epoch 128/200\n",
      "7500/7500 [==============================] - 2s 247us/step - loss: 0.7068 - acc: 0.7368 - val_loss: 0.6624 - val_acc: 0.7540\n",
      "Epoch 129/200\n",
      "7500/7500 [==============================] - 2s 248us/step - loss: 0.6947 - acc: 0.7389 - val_loss: 0.6618 - val_acc: 0.7530\n",
      "Epoch 130/200\n",
      "7500/7500 [==============================] - 2s 245us/step - loss: 0.6899 - acc: 0.7424 - val_loss: 0.6606 - val_acc: 0.7500\n",
      "Epoch 131/200\n",
      "7500/7500 [==============================] - 2s 247us/step - loss: 0.6898 - acc: 0.7415 - val_loss: 0.6600 - val_acc: 0.7520\n",
      "Epoch 132/200\n",
      "7500/7500 [==============================] - 2s 249us/step - loss: 0.6873 - acc: 0.7403 - val_loss: 0.6573 - val_acc: 0.7530\n",
      "Epoch 133/200\n",
      "7500/7500 [==============================] - 2s 246us/step - loss: 0.6819 - acc: 0.7383 - val_loss: 0.6576 - val_acc: 0.7540\n",
      "Epoch 134/200\n",
      "7500/7500 [==============================] - 2s 248us/step - loss: 0.6836 - acc: 0.7429 - val_loss: 0.6566 - val_acc: 0.7500\n",
      "Epoch 135/200\n",
      "7500/7500 [==============================] - 2s 252us/step - loss: 0.6763 - acc: 0.7407 - val_loss: 0.6560 - val_acc: 0.7520\n",
      "Epoch 136/200\n",
      "7500/7500 [==============================] - 2s 253us/step - loss: 0.6784 - acc: 0.7453 - val_loss: 0.6557 - val_acc: 0.7490\n",
      "Epoch 137/200\n",
      "7500/7500 [==============================] - 2s 247us/step - loss: 0.6707 - acc: 0.7451 - val_loss: 0.6564 - val_acc: 0.7550\n",
      "Epoch 138/200\n",
      "7500/7500 [==============================] - 2s 246us/step - loss: 0.6689 - acc: 0.7431 - val_loss: 0.6535 - val_acc: 0.7530\n",
      "Epoch 139/200\n",
      "7500/7500 [==============================] - 2s 247us/step - loss: 0.6797 - acc: 0.7412 - val_loss: 0.6532 - val_acc: 0.7520\n",
      "Epoch 140/200\n",
      "7500/7500 [==============================] - 2s 250us/step - loss: 0.6660 - acc: 0.7489 - val_loss: 0.6531 - val_acc: 0.7510\n",
      "Epoch 141/200\n",
      "7500/7500 [==============================] - 2s 247us/step - loss: 0.6631 - acc: 0.7517 - val_loss: 0.6516 - val_acc: 0.7520\n",
      "Epoch 142/200\n",
      "7500/7500 [==============================] - 2s 246us/step - loss: 0.6660 - acc: 0.7484 - val_loss: 0.6506 - val_acc: 0.7520\n",
      "Epoch 143/200\n",
      "7500/7500 [==============================] - 2s 247us/step - loss: 0.6563 - acc: 0.7513 - val_loss: 0.6500 - val_acc: 0.7540\n",
      "Epoch 144/200\n",
      "7500/7500 [==============================] - 2s 246us/step - loss: 0.6499 - acc: 0.7524 - val_loss: 0.6487 - val_acc: 0.7520\n",
      "Epoch 145/200\n",
      "7500/7500 [==============================] - 2s 248us/step - loss: 0.6571 - acc: 0.7511 - val_loss: 0.6496 - val_acc: 0.7500\n",
      "Epoch 146/200\n",
      "7500/7500 [==============================] - 2s 248us/step - loss: 0.6482 - acc: 0.7507 - val_loss: 0.6478 - val_acc: 0.7510\n",
      "Epoch 147/200\n",
      "7500/7500 [==============================] - 2s 248us/step - loss: 0.6500 - acc: 0.7517 - val_loss: 0.6469 - val_acc: 0.7510\n",
      "Epoch 148/200\n",
      "7500/7500 [==============================] - 2s 246us/step - loss: 0.6412 - acc: 0.7584 - val_loss: 0.6462 - val_acc: 0.7530\n",
      "Epoch 149/200\n",
      "7500/7500 [==============================] - 2s 247us/step - loss: 0.6454 - acc: 0.7529 - val_loss: 0.6463 - val_acc: 0.7540\n",
      "Epoch 150/200\n",
      "7500/7500 [==============================] - 2s 257us/step - loss: 0.6315 - acc: 0.7543 - val_loss: 0.6447 - val_acc: 0.7540\n",
      "Epoch 151/200\n",
      "7500/7500 [==============================] - 2s 255us/step - loss: 0.6356 - acc: 0.7561 - val_loss: 0.6444 - val_acc: 0.7500\n",
      "Epoch 152/200\n",
      "7500/7500 [==============================] - 2s 255us/step - loss: 0.6350 - acc: 0.7551 - val_loss: 0.6443 - val_acc: 0.7550\n",
      "Epoch 153/200\n",
      "7500/7500 [==============================] - 2s 253us/step - loss: 0.6423 - acc: 0.7553 - val_loss: 0.6429 - val_acc: 0.7610\n",
      "Epoch 154/200\n",
      "7500/7500 [==============================] - 2s 247us/step - loss: 0.6331 - acc: 0.7648 - val_loss: 0.6424 - val_acc: 0.7550\n",
      "Epoch 155/200\n",
      "7500/7500 [==============================] - 2s 247us/step - loss: 0.6277 - acc: 0.7585 - val_loss: 0.6425 - val_acc: 0.7520\n",
      "Epoch 156/200\n",
      "7500/7500 [==============================] - 2s 250us/step - loss: 0.6271 - acc: 0.7592 - val_loss: 0.6424 - val_acc: 0.7510\n",
      "Epoch 157/200\n",
      "7500/7500 [==============================] - 2s 247us/step - loss: 0.6316 - acc: 0.7607 - val_loss: 0.6425 - val_acc: 0.7540\n",
      "Epoch 158/200\n",
      "7500/7500 [==============================] - 2s 263us/step - loss: 0.6197 - acc: 0.7647 - val_loss: 0.6405 - val_acc: 0.7530\n",
      "Epoch 159/200\n",
      "7500/7500 [==============================] - 2s 257us/step - loss: 0.6170 - acc: 0.7563 - val_loss: 0.6399 - val_acc: 0.7550\n",
      "Epoch 160/200\n",
      "7500/7500 [==============================] - 2s 248us/step - loss: 0.6159 - acc: 0.7628 - val_loss: 0.6394 - val_acc: 0.7590\n",
      "Epoch 161/200\n",
      "7500/7500 [==============================] - 2s 247us/step - loss: 0.6073 - acc: 0.7697 - val_loss: 0.6385 - val_acc: 0.7580\n",
      "Epoch 162/200\n",
      "7500/7500 [==============================] - 2s 246us/step - loss: 0.6142 - acc: 0.7612 - val_loss: 0.6385 - val_acc: 0.7540\n",
      "Epoch 163/200\n",
      "7500/7500 [==============================] - 2s 246us/step - loss: 0.6077 - acc: 0.7684 - val_loss: 0.6382 - val_acc: 0.7520\n",
      "Epoch 164/200\n",
      "7500/7500 [==============================] - 2s 247us/step - loss: 0.6148 - acc: 0.7621 - val_loss: 0.6369 - val_acc: 0.7580\n",
      "Epoch 165/200\n",
      "7500/7500 [==============================] - 2s 246us/step - loss: 0.6134 - acc: 0.7671 - val_loss: 0.6376 - val_acc: 0.7560\n",
      "Epoch 166/200\n",
      "7500/7500 [==============================] - 2s 247us/step - loss: 0.6084 - acc: 0.7647 - val_loss: 0.6371 - val_acc: 0.7590\n",
      "Epoch 167/200\n",
      "7500/7500 [==============================] - 2s 248us/step - loss: 0.5934 - acc: 0.7771 - val_loss: 0.6358 - val_acc: 0.7560\n",
      "Epoch 168/200\n",
      "7500/7500 [==============================] - 2s 246us/step - loss: 0.6047 - acc: 0.7648 - val_loss: 0.6362 - val_acc: 0.7540\n",
      "Epoch 169/200\n",
      "7500/7500 [==============================] - 2s 247us/step - loss: 0.5968 - acc: 0.7721 - val_loss: 0.6356 - val_acc: 0.7540\n",
      "Epoch 170/200\n",
      "7500/7500 [==============================] - 2s 248us/step - loss: 0.6019 - acc: 0.7643 - val_loss: 0.6375 - val_acc: 0.7480\n",
      "Epoch 171/200\n",
      "7500/7500 [==============================] - 2s 247us/step - loss: 0.6012 - acc: 0.7675 - val_loss: 0.6356 - val_acc: 0.7520\n",
      "Epoch 172/200\n",
      "7500/7500 [==============================] - 2s 249us/step - loss: 0.5901 - acc: 0.7701 - val_loss: 0.6345 - val_acc: 0.7560\n",
      "Epoch 173/200\n",
      "7500/7500 [==============================] - 2s 248us/step - loss: 0.5912 - acc: 0.7744 - val_loss: 0.6345 - val_acc: 0.7570\n",
      "Epoch 174/200\n",
      "7500/7500 [==============================] - 2s 247us/step - loss: 0.5929 - acc: 0.7725 - val_loss: 0.6341 - val_acc: 0.7570\n",
      "Epoch 175/200\n",
      "7500/7500 [==============================] - 2s 246us/step - loss: 0.5845 - acc: 0.7707 - val_loss: 0.6329 - val_acc: 0.7560\n",
      "Epoch 176/200\n",
      "7500/7500 [==============================] - 2s 248us/step - loss: 0.5853 - acc: 0.7755 - val_loss: 0.6330 - val_acc: 0.7600\n",
      "Epoch 177/200\n",
      "7500/7500 [==============================] - 2s 247us/step - loss: 0.5855 - acc: 0.7777 - val_loss: 0.6331 - val_acc: 0.7580\n",
      "Epoch 178/200\n"
     ]
    },
    {
     "name": "stdout",
     "output_type": "stream",
     "text": [
      "7500/7500 [==============================] - 2s 247us/step - loss: 0.5799 - acc: 0.7803 - val_loss: 0.6324 - val_acc: 0.7550\n",
      "Epoch 179/200\n",
      "7500/7500 [==============================] - 2s 246us/step - loss: 0.5833 - acc: 0.7747 - val_loss: 0.6319 - val_acc: 0.7600\n",
      "Epoch 180/200\n",
      "7500/7500 [==============================] - 2s 246us/step - loss: 0.5835 - acc: 0.7656 - val_loss: 0.6319 - val_acc: 0.7590\n",
      "Epoch 181/200\n",
      "7500/7500 [==============================] - 2s 246us/step - loss: 0.5849 - acc: 0.7700 - val_loss: 0.6320 - val_acc: 0.7580\n",
      "Epoch 182/200\n",
      "7500/7500 [==============================] - 2s 246us/step - loss: 0.5791 - acc: 0.7715 - val_loss: 0.6323 - val_acc: 0.7570\n",
      "Epoch 183/200\n",
      "7500/7500 [==============================] - 2s 246us/step - loss: 0.5721 - acc: 0.7789 - val_loss: 0.6317 - val_acc: 0.7570\n",
      "Epoch 184/200\n",
      "7500/7500 [==============================] - 2s 245us/step - loss: 0.5708 - acc: 0.7771 - val_loss: 0.6311 - val_acc: 0.7560\n",
      "Epoch 185/200\n",
      "7500/7500 [==============================] - 2s 247us/step - loss: 0.5743 - acc: 0.7741 - val_loss: 0.6314 - val_acc: 0.7580\n",
      "Epoch 186/200\n",
      "7500/7500 [==============================] - 2s 246us/step - loss: 0.5635 - acc: 0.7761 - val_loss: 0.6304 - val_acc: 0.7580\n",
      "Epoch 187/200\n",
      "7500/7500 [==============================] - 2s 245us/step - loss: 0.5766 - acc: 0.7765 - val_loss: 0.6300 - val_acc: 0.7600\n",
      "Epoch 188/200\n",
      "7500/7500 [==============================] - 2s 247us/step - loss: 0.5602 - acc: 0.7773 - val_loss: 0.6305 - val_acc: 0.7560\n",
      "Epoch 189/200\n",
      "7500/7500 [==============================] - 2s 250us/step - loss: 0.5635 - acc: 0.7776 - val_loss: 0.6289 - val_acc: 0.7590\n",
      "Epoch 190/200\n",
      "7500/7500 [==============================] - 2s 247us/step - loss: 0.5614 - acc: 0.7795 - val_loss: 0.6299 - val_acc: 0.7560\n",
      "Epoch 191/200\n",
      "7500/7500 [==============================] - 2s 247us/step - loss: 0.5649 - acc: 0.7793 - val_loss: 0.6293 - val_acc: 0.7550\n",
      "Epoch 192/200\n",
      "7500/7500 [==============================] - 2s 248us/step - loss: 0.5543 - acc: 0.7849 - val_loss: 0.6296 - val_acc: 0.7590\n",
      "Epoch 193/200\n",
      "7500/7500 [==============================] - 2s 247us/step - loss: 0.5552 - acc: 0.7773 - val_loss: 0.6294 - val_acc: 0.7560\n",
      "Epoch 194/200\n",
      "7500/7500 [==============================] - 2s 249us/step - loss: 0.5592 - acc: 0.7843 - val_loss: 0.6294 - val_acc: 0.7590\n",
      "Epoch 195/200\n",
      "7500/7500 [==============================] - 2s 247us/step - loss: 0.5449 - acc: 0.7885 - val_loss: 0.6292 - val_acc: 0.7570\n",
      "Epoch 196/200\n",
      "7500/7500 [==============================] - 2s 247us/step - loss: 0.5506 - acc: 0.7824 - val_loss: 0.6281 - val_acc: 0.7600\n",
      "Epoch 197/200\n",
      "7500/7500 [==============================] - 2s 246us/step - loss: 0.5545 - acc: 0.7860 - val_loss: 0.6288 - val_acc: 0.7610\n",
      "Epoch 198/200\n",
      "7500/7500 [==============================] - 2s 246us/step - loss: 0.5441 - acc: 0.7852 - val_loss: 0.6288 - val_acc: 0.7600\n",
      "Epoch 199/200\n",
      "7500/7500 [==============================] - 2s 246us/step - loss: 0.5538 - acc: 0.7821 - val_loss: 0.6283 - val_acc: 0.7600\n",
      "Epoch 200/200\n",
      "7500/7500 [==============================] - 2s 247us/step - loss: 0.5472 - acc: 0.7799 - val_loss: 0.6287 - val_acc: 0.7600\n"
     ]
    }
   ],
   "source": [
    "from keras.layers import Dropout\n",
    "model = Sequential()\n",
    "model.add(Dense(50, activation='relu', input_shape=(2000,))) #2 hidden layers\n",
    "model.add(Dropout(0.3))\n",
    "model.add(Dense(25, activation='relu'))\n",
    "model.add(Dropout(0.3))\n",
    "model.add(Dense(7, activation='softmax'))\n",
    "\n",
    "model.compile(optimizer='SGD',\n",
    "              loss='categorical_crossentropy',\n",
    "              metrics=['accuracy'])\n",
    "\n",
    "dropout_model = model.fit(train_final,\n",
    "                    label_train_final,\n",
    "                    epochs=200,\n",
    "                    batch_size=256,\n",
    "                    validation_data=(val, label_val))"
   ]
  },
  {
   "cell_type": "markdown",
   "metadata": {},
   "source": [
    "Now, let's check the results from `model.evaluate` to see how this change has affected our training. "
   ]
  },
  {
   "cell_type": "code",
   "execution_count": 81,
   "metadata": {
    "scrolled": true
   },
   "outputs": [
    {
     "name": "stdout",
     "output_type": "stream",
     "text": [
      "7500/7500 [==============================] - 2s 235us/step\n",
      "1500/1500 [==============================] - 0s 244us/step\n"
     ]
    }
   ],
   "source": [
    "results_train = model.evaluate(train_final, label_train_final)\n",
    "results_test = model.evaluate(test, label_test)"
   ]
  },
  {
   "cell_type": "code",
   "execution_count": 82,
   "metadata": {},
   "outputs": [
    {
     "data": {
      "text/plain": [
       "[0.3844145245234172, 0.8393333333333334]"
      ]
     },
     "execution_count": 82,
     "metadata": {},
     "output_type": "execute_result"
    }
   ],
   "source": [
    "results_train # Expected Results: [0.36925017188787462, 0.88026666666666664]"
   ]
  },
  {
   "cell_type": "code",
   "execution_count": 83,
   "metadata": {},
   "outputs": [
    {
     "data": {
      "text/plain": [
       "[0.6138144634564717, 0.7546666671435038]"
      ]
     },
     "execution_count": 83,
     "metadata": {},
     "output_type": "execute_result"
    }
   ],
   "source": [
    "results_test # Expected Results: [0.69210424280166627, 0.74333333365122478]"
   ]
  },
  {
   "cell_type": "markdown",
   "metadata": {},
   "source": [
    "You can see here that the validation performance has improved again! However, the variance did become higher again, compared to L1-regularization."
   ]
  },
  {
   "cell_type": "markdown",
   "metadata": {},
   "source": [
    "## 7.  More Training Data?"
   ]
  },
  {
   "cell_type": "markdown",
   "metadata": {},
   "source": [
    "Another solution to high variance is to just get more data. We actually *have* more data, but took a subset of 10,000 units before. Let's now quadruple our data set, and see what happens. Note that we are really just lucky here, and getting more data isn't always possible, but this is a useful exercise in order to understand the power of big data sets.\n",
    "\n",
    "Run the cell below to preprocess our entire dataset, instead of just working with a subset of the data.  "
   ]
  },
  {
   "cell_type": "code",
   "execution_count": 84,
   "metadata": {},
   "outputs": [],
   "source": [
    "df = pd.read_csv('Bank_complaints.csv')\n",
    "random.seed(123)\n",
    "df = df.sample(40000)\n",
    "df.index = range(40000)\n",
    "product = df[\"Product\"]\n",
    "complaints = df[\"Consumer complaint narrative\"]\n",
    "\n",
    "#one-hot encoding of the complaints\n",
    "tokenizer = Tokenizer(num_words=2000)\n",
    "tokenizer.fit_on_texts(complaints)\n",
    "sequences = tokenizer.texts_to_sequences(complaints)\n",
    "one_hot_results= tokenizer.texts_to_matrix(complaints, mode='binary')\n",
    "word_index = tokenizer.word_index\n",
    "np.shape(one_hot_results)\n",
    "\n",
    "#one-hot encoding of products\n",
    "le = preprocessing.LabelEncoder()\n",
    "le.fit(product)\n",
    "list(le.classes_)\n",
    "product_cat = le.transform(product) \n",
    "product_onehot = to_categorical(product_cat)\n",
    "\n",
    "# train test split\n",
    "test_index = random.sample(range(1,40000), 4000)\n",
    "test = one_hot_results[test_index]\n",
    "train = np.delete(one_hot_results, test_index, 0)\n",
    "label_test = product_onehot[test_index]\n",
    "label_train = np.delete(product_onehot, test_index, 0)\n",
    "\n",
    "#Validation set\n",
    "random.seed(123)\n",
    "val = train[:3000]\n",
    "train_final = train[3000:]\n",
    "label_val = label_train[:3000]\n",
    "label_train_final = label_train[3000:]"
   ]
  },
  {
   "cell_type": "markdown",
   "metadata": {},
   "source": [
    "Now, build the first model that we built, without any regularization or dropout layers included. \n",
    "\n",
    "Train this model for 120 epochs.  All other hyperparameters should stay the same.  Store the fitted model inside of `moredata_model`.  "
   ]
  },
  {
   "cell_type": "code",
   "execution_count": 85,
   "metadata": {},
   "outputs": [
    {
     "name": "stdout",
     "output_type": "stream",
     "text": [
      "Train on 33000 samples, validate on 3000 samples\n",
      "Epoch 1/120\n",
      "33000/33000 [==============================] - 9s 268us/step - loss: 1.9247 - acc: 0.1887 - val_loss: 1.8788 - val_acc: 0.2557\n",
      "Epoch 2/120\n",
      "33000/33000 [==============================] - 8s 237us/step - loss: 1.8282 - acc: 0.3059 - val_loss: 1.7599 - val_acc: 0.3567\n",
      "Epoch 3/120\n",
      "33000/33000 [==============================] - 8s 246us/step - loss: 1.6769 - acc: 0.4045 - val_loss: 1.5805 - val_acc: 0.4603\n",
      "Epoch 4/120\n",
      "33000/33000 [==============================] - 8s 235us/step - loss: 1.4787 - acc: 0.5143 - val_loss: 1.3765 - val_acc: 0.5583\n",
      "Epoch 5/120\n",
      "33000/33000 [==============================] - 8s 237us/step - loss: 1.2810 - acc: 0.6035 - val_loss: 1.1919 - val_acc: 0.6377\n",
      "Epoch 6/120\n",
      "33000/33000 [==============================] - 8s 236us/step - loss: 1.1122 - acc: 0.6558 - val_loss: 1.0449 - val_acc: 0.6777\n",
      "Epoch 7/120\n",
      "33000/33000 [==============================] - 8s 242us/step - loss: 0.9821 - acc: 0.6875 - val_loss: 0.9336 - val_acc: 0.6940\n",
      "Epoch 8/120\n",
      "33000/33000 [==============================] - 9s 263us/step - loss: 0.8867 - acc: 0.7075 - val_loss: 0.8539 - val_acc: 0.7117\n",
      "Epoch 9/120\n",
      "33000/33000 [==============================] - 8s 250us/step - loss: 0.8182 - acc: 0.7209 - val_loss: 0.7962 - val_acc: 0.7253\n",
      "Epoch 10/120\n",
      "33000/33000 [==============================] - 10s 297us/step - loss: 0.7678 - acc: 0.7310 - val_loss: 0.7538 - val_acc: 0.7347\n",
      "Epoch 11/120\n",
      "33000/33000 [==============================] - 10s 314us/step - loss: 0.7296 - acc: 0.7425 - val_loss: 0.7213 - val_acc: 0.7443\n",
      "Epoch 12/120\n",
      "33000/33000 [==============================] - 9s 281us/step - loss: 0.6999 - acc: 0.7477 - val_loss: 0.6962 - val_acc: 0.7507\n",
      "Epoch 13/120\n",
      "33000/33000 [==============================] - 10s 311us/step - loss: 0.6756 - acc: 0.7564 - val_loss: 0.6752 - val_acc: 0.7543\n",
      "Epoch 14/120\n",
      "33000/33000 [==============================] - 9s 264us/step - loss: 0.6557 - acc: 0.7627 - val_loss: 0.6577 - val_acc: 0.7640\n",
      "Epoch 15/120\n",
      "33000/33000 [==============================] - 8s 244us/step - loss: 0.6385 - acc: 0.7697 - val_loss: 0.6438 - val_acc: 0.7697\n",
      "Epoch 16/120\n",
      "33000/33000 [==============================] - 8s 234us/step - loss: 0.6236 - acc: 0.7752 - val_loss: 0.6305 - val_acc: 0.7693\n",
      "Epoch 17/120\n",
      "33000/33000 [==============================] - 8s 234us/step - loss: 0.6102 - acc: 0.7791 - val_loss: 0.6195 - val_acc: 0.7753\n",
      "Epoch 18/120\n",
      "33000/33000 [==============================] - 8s 237us/step - loss: 0.5983 - acc: 0.7830 - val_loss: 0.6106 - val_acc: 0.7783\n",
      "Epoch 19/120\n",
      "33000/33000 [==============================] - 8s 235us/step - loss: 0.5880 - acc: 0.7864 - val_loss: 0.6027 - val_acc: 0.7803\n",
      "Epoch 20/120\n",
      "33000/33000 [==============================] - 8s 236us/step - loss: 0.5784 - acc: 0.7896 - val_loss: 0.5950 - val_acc: 0.7840\n",
      "Epoch 21/120\n",
      "33000/33000 [==============================] - 10s 308us/step - loss: 0.5694 - acc: 0.7935 - val_loss: 0.5888 - val_acc: 0.7840\n",
      "Epoch 22/120\n",
      "33000/33000 [==============================] - 11s 318us/step - loss: 0.5611 - acc: 0.7964 - val_loss: 0.5824 - val_acc: 0.7910\n",
      "Epoch 23/120\n",
      "33000/33000 [==============================] - 8s 240us/step - loss: 0.5532 - acc: 0.7988 - val_loss: 0.5800 - val_acc: 0.7890\n",
      "Epoch 24/120\n",
      "33000/33000 [==============================] - 8s 243us/step - loss: 0.5464 - acc: 0.8003 - val_loss: 0.5724 - val_acc: 0.7907\n",
      "Epoch 25/120\n",
      "33000/33000 [==============================] - 10s 303us/step - loss: 0.5395 - acc: 0.8028 - val_loss: 0.5677 - val_acc: 0.7917\n",
      "Epoch 26/120\n",
      "33000/33000 [==============================] - 9s 287us/step - loss: 0.5332 - acc: 0.8060 - val_loss: 0.5631 - val_acc: 0.7977\n",
      "Epoch 27/120\n",
      "33000/33000 [==============================] - 8s 239us/step - loss: 0.5270 - acc: 0.8086 - val_loss: 0.5621 - val_acc: 0.7980\n",
      "Epoch 28/120\n",
      "33000/33000 [==============================] - 8s 245us/step - loss: 0.5212 - acc: 0.8119 - val_loss: 0.5570 - val_acc: 0.7987\n",
      "Epoch 29/120\n",
      "33000/33000 [==============================] - 9s 264us/step - loss: 0.5155 - acc: 0.8127 - val_loss: 0.5517 - val_acc: 0.8010\n",
      "Epoch 30/120\n",
      "33000/33000 [==============================] - 9s 274us/step - loss: 0.5102 - acc: 0.8154 - val_loss: 0.5516 - val_acc: 0.8053\n",
      "Epoch 31/120\n",
      "33000/33000 [==============================] - 10s 295us/step - loss: 0.5054 - acc: 0.8175 - val_loss: 0.5450 - val_acc: 0.7997\n",
      "Epoch 32/120\n",
      "33000/33000 [==============================] - 10s 294us/step - loss: 0.5006 - acc: 0.8196 - val_loss: 0.5426 - val_acc: 0.8037\n",
      "Epoch 33/120\n",
      "33000/33000 [==============================] - 9s 275us/step - loss: 0.4957 - acc: 0.8225 - val_loss: 0.5401 - val_acc: 0.8053\n",
      "Epoch 34/120\n",
      "33000/33000 [==============================] - 9s 285us/step - loss: 0.4913 - acc: 0.8237 - val_loss: 0.5374 - val_acc: 0.8100\n",
      "Epoch 35/120\n",
      "33000/33000 [==============================] - 10s 309us/step - loss: 0.4868 - acc: 0.8264 - val_loss: 0.5384 - val_acc: 0.8120\n",
      "Epoch 36/120\n",
      "33000/33000 [==============================] - 9s 259us/step - loss: 0.4826 - acc: 0.8273 - val_loss: 0.5333 - val_acc: 0.8083\n",
      "Epoch 37/120\n",
      "33000/33000 [==============================] - 8s 247us/step - loss: 0.4786 - acc: 0.8286 - val_loss: 0.5359 - val_acc: 0.8007\n",
      "Epoch 38/120\n",
      "33000/33000 [==============================] - 8s 257us/step - loss: 0.4749 - acc: 0.8312 - val_loss: 0.5288 - val_acc: 0.8107\n",
      "Epoch 39/120\n",
      "33000/33000 [==============================] - 9s 273us/step - loss: 0.4710 - acc: 0.8319 - val_loss: 0.5286 - val_acc: 0.8127\n",
      "Epoch 40/120\n",
      "33000/33000 [==============================] - 9s 264us/step - loss: 0.4672 - acc: 0.8336 - val_loss: 0.5255 - val_acc: 0.8093\n",
      "Epoch 41/120\n",
      "33000/33000 [==============================] - 8s 250us/step - loss: 0.4636 - acc: 0.8338 - val_loss: 0.5281 - val_acc: 0.8093\n",
      "Epoch 42/120\n",
      "33000/33000 [==============================] - 8s 252us/step - loss: 0.4603 - acc: 0.8359 - val_loss: 0.5225 - val_acc: 0.8110\n",
      "Epoch 43/120\n",
      "33000/33000 [==============================] - 8s 253us/step - loss: 0.4568 - acc: 0.8383 - val_loss: 0.5225 - val_acc: 0.8130\n",
      "Epoch 44/120\n",
      "33000/33000 [==============================] - 9s 274us/step - loss: 0.4536 - acc: 0.8388 - val_loss: 0.5198 - val_acc: 0.8143\n",
      "Epoch 45/120\n",
      "33000/33000 [==============================] - 10s 296us/step - loss: 0.4501 - acc: 0.8404 - val_loss: 0.5183 - val_acc: 0.8153\n",
      "Epoch 46/120\n",
      "33000/33000 [==============================] - 9s 286us/step - loss: 0.4473 - acc: 0.8402 - val_loss: 0.5194 - val_acc: 0.8110\n",
      "Epoch 47/120\n",
      "33000/33000 [==============================] - 9s 287us/step - loss: 0.4443 - acc: 0.8421 - val_loss: 0.5164 - val_acc: 0.8167\n",
      "Epoch 48/120\n",
      "33000/33000 [==============================] - 9s 286us/step - loss: 0.4411 - acc: 0.8435 - val_loss: 0.5171 - val_acc: 0.8167\n",
      "Epoch 49/120\n",
      "33000/33000 [==============================] - 9s 285us/step - loss: 0.4383 - acc: 0.8454 - val_loss: 0.5146 - val_acc: 0.8157\n",
      "Epoch 50/120\n",
      "33000/33000 [==============================] - 9s 287us/step - loss: 0.4354 - acc: 0.8454 - val_loss: 0.5128 - val_acc: 0.8177\n",
      "Epoch 51/120\n",
      "33000/33000 [==============================] - 9s 287us/step - loss: 0.4330 - acc: 0.8465 - val_loss: 0.5124 - val_acc: 0.8167\n",
      "Epoch 52/120\n",
      "33000/33000 [==============================] - 9s 283us/step - loss: 0.4296 - acc: 0.8482 - val_loss: 0.5125 - val_acc: 0.8210\n",
      "Epoch 53/120\n",
      "33000/33000 [==============================] - 9s 283us/step - loss: 0.4274 - acc: 0.8483 - val_loss: 0.5116 - val_acc: 0.8167\n",
      "Epoch 54/120\n",
      "33000/33000 [==============================] - 9s 282us/step - loss: 0.4247 - acc: 0.8497 - val_loss: 0.5127 - val_acc: 0.8177\n",
      "Epoch 55/120\n",
      "33000/33000 [==============================] - 10s 291us/step - loss: 0.4221 - acc: 0.8509 - val_loss: 0.5108 - val_acc: 0.8197\n",
      "Epoch 56/120\n",
      "33000/33000 [==============================] - 9s 284us/step - loss: 0.4194 - acc: 0.8528 - val_loss: 0.5109 - val_acc: 0.8180\n",
      "Epoch 57/120\n",
      "33000/33000 [==============================] - 9s 281us/step - loss: 0.4172 - acc: 0.8537 - val_loss: 0.5095 - val_acc: 0.8187\n",
      "Epoch 58/120\n",
      "33000/33000 [==============================] - 9s 283us/step - loss: 0.4150 - acc: 0.8539 - val_loss: 0.5081 - val_acc: 0.8193\n",
      "Epoch 59/120\n",
      "33000/33000 [==============================] - 9s 268us/step - loss: 0.4123 - acc: 0.8557 - val_loss: 0.5075 - val_acc: 0.8183\n",
      "Epoch 60/120\n",
      "33000/33000 [==============================] - 9s 276us/step - loss: 0.4098 - acc: 0.8558 - val_loss: 0.5093 - val_acc: 0.8183\n",
      "Epoch 61/120\n",
      "33000/33000 [==============================] - 10s 299us/step - loss: 0.4080 - acc: 0.8562 - val_loss: 0.5097 - val_acc: 0.8180\n",
      "Epoch 62/120\n",
      "33000/33000 [==============================] - 9s 277us/step - loss: 0.4059 - acc: 0.8574 - val_loss: 0.5066 - val_acc: 0.8173\n",
      "Epoch 63/120\n",
      "33000/33000 [==============================] - 8s 241us/step - loss: 0.4033 - acc: 0.8594 - val_loss: 0.5065 - val_acc: 0.8187\n",
      "Epoch 64/120\n",
      "33000/33000 [==============================] - 8s 238us/step - loss: 0.4009 - acc: 0.8599 - val_loss: 0.5077 - val_acc: 0.8180\n",
      "Epoch 65/120\n",
      "33000/33000 [==============================] - 8s 230us/step - loss: 0.3992 - acc: 0.8604 - val_loss: 0.5076 - val_acc: 0.8193\n",
      "Epoch 66/120\n",
      "33000/33000 [==============================] - 8s 230us/step - loss: 0.3971 - acc: 0.8613 - val_loss: 0.5064 - val_acc: 0.8193\n",
      "Epoch 67/120\n",
      "33000/33000 [==============================] - 8s 230us/step - loss: 0.3950 - acc: 0.8613 - val_loss: 0.5071 - val_acc: 0.8170\n",
      "Epoch 68/120\n",
      "33000/33000 [==============================] - 8s 235us/step - loss: 0.3930 - acc: 0.8630 - val_loss: 0.5100 - val_acc: 0.8173\n",
      "Epoch 69/120\n",
      "33000/33000 [==============================] - 8s 241us/step - loss: 0.3909 - acc: 0.8641 - val_loss: 0.5064 - val_acc: 0.8180\n",
      "Epoch 70/120\n",
      "33000/33000 [==============================] - 8s 233us/step - loss: 0.3890 - acc: 0.8633 - val_loss: 0.5085 - val_acc: 0.8160\n",
      "Epoch 71/120\n",
      "33000/33000 [==============================] - 8s 237us/step - loss: 0.3871 - acc: 0.8654 - val_loss: 0.5061 - val_acc: 0.8183\n",
      "Epoch 72/120\n",
      "33000/33000 [==============================] - 8s 230us/step - loss: 0.3852 - acc: 0.8663 - val_loss: 0.5088 - val_acc: 0.8187\n",
      "Epoch 73/120\n",
      "33000/33000 [==============================] - 8s 246us/step - loss: 0.3835 - acc: 0.8666 - val_loss: 0.5080 - val_acc: 0.8177\n",
      "Epoch 74/120\n",
      "33000/33000 [==============================] - 8s 243us/step - loss: 0.3814 - acc: 0.8668 - val_loss: 0.5077 - val_acc: 0.8203\n",
      "Epoch 75/120\n",
      "33000/33000 [==============================] - 8s 249us/step - loss: 0.3797 - acc: 0.8675 - val_loss: 0.5075 - val_acc: 0.8160\n",
      "Epoch 76/120\n",
      "33000/33000 [==============================] - 8s 233us/step - loss: 0.3778 - acc: 0.8678 - val_loss: 0.5110 - val_acc: 0.8143\n",
      "Epoch 77/120\n",
      "33000/33000 [==============================] - 8s 229us/step - loss: 0.3761 - acc: 0.8683 - val_loss: 0.5098 - val_acc: 0.8173\n",
      "Epoch 78/120\n",
      "33000/33000 [==============================] - 8s 233us/step - loss: 0.3746 - acc: 0.8695 - val_loss: 0.5078 - val_acc: 0.8177\n",
      "Epoch 79/120\n",
      "33000/33000 [==============================] - 9s 269us/step - loss: 0.3729 - acc: 0.8692 - val_loss: 0.5078 - val_acc: 0.8183\n",
      "Epoch 80/120\n",
      "33000/33000 [==============================] - 10s 314us/step - loss: 0.3709 - acc: 0.8712 - val_loss: 0.5087 - val_acc: 0.8217\n",
      "Epoch 81/120\n",
      "33000/33000 [==============================] - 9s 277us/step - loss: 0.3692 - acc: 0.8709 - val_loss: 0.5100 - val_acc: 0.8213\n",
      "Epoch 82/120\n",
      "33000/33000 [==============================] - 9s 259us/step - loss: 0.3679 - acc: 0.8722 - val_loss: 0.5104 - val_acc: 0.8167\n",
      "Epoch 83/120\n",
      "33000/33000 [==============================] - 8s 250us/step - loss: 0.3665 - acc: 0.8716 - val_loss: 0.5110 - val_acc: 0.8170\n",
      "Epoch 84/120\n",
      "33000/33000 [==============================] - 9s 271us/step - loss: 0.3647 - acc: 0.8729 - val_loss: 0.5150 - val_acc: 0.8173\n",
      "Epoch 85/120\n",
      "33000/33000 [==============================] - 8s 232us/step - loss: 0.3630 - acc: 0.8728 - val_loss: 0.5098 - val_acc: 0.8200\n",
      "Epoch 86/120\n",
      "33000/33000 [==============================] - 8s 230us/step - loss: 0.3612 - acc: 0.8743 - val_loss: 0.5114 - val_acc: 0.8193\n",
      "Epoch 87/120\n",
      "33000/33000 [==============================] - 9s 268us/step - loss: 0.3600 - acc: 0.8747 - val_loss: 0.5105 - val_acc: 0.8203\n",
      "Epoch 88/120\n",
      "33000/33000 [==============================] - 9s 263us/step - loss: 0.3582 - acc: 0.8750 - val_loss: 0.5131 - val_acc: 0.8213\n",
      "Epoch 89/120\n",
      "33000/33000 [==============================] - 8s 230us/step - loss: 0.3566 - acc: 0.8762 - val_loss: 0.5131 - val_acc: 0.8187\n",
      "Epoch 90/120\n",
      "33000/33000 [==============================] - 8s 229us/step - loss: 0.3553 - acc: 0.8762 - val_loss: 0.5120 - val_acc: 0.8213\n",
      "Epoch 91/120\n",
      "33000/33000 [==============================] - 9s 285us/step - loss: 0.3537 - acc: 0.8770 - val_loss: 0.5124 - val_acc: 0.8193\n",
      "Epoch 92/120\n",
      "33000/33000 [==============================] - 9s 286us/step - loss: 0.3523 - acc: 0.8770 - val_loss: 0.5123 - val_acc: 0.8187\n",
      "Epoch 93/120\n",
      "33000/33000 [==============================] - 9s 260us/step - loss: 0.3510 - acc: 0.8782 - val_loss: 0.5143 - val_acc: 0.8160\n",
      "Epoch 94/120\n",
      "33000/33000 [==============================] - 8s 231us/step - loss: 0.3497 - acc: 0.8788 - val_loss: 0.5155 - val_acc: 0.8170\n",
      "Epoch 95/120\n",
      "33000/33000 [==============================] - 8s 243us/step - loss: 0.3481 - acc: 0.8789 - val_loss: 0.5148 - val_acc: 0.8173\n",
      "Epoch 96/120\n",
      "33000/33000 [==============================] - 8s 230us/step - loss: 0.3466 - acc: 0.8796 - val_loss: 0.5168 - val_acc: 0.8210\n",
      "Epoch 97/120\n",
      "33000/33000 [==============================] - 8s 257us/step - loss: 0.3452 - acc: 0.8811 - val_loss: 0.5147 - val_acc: 0.8183\n",
      "Epoch 98/120\n",
      "33000/33000 [==============================] - 10s 298us/step - loss: 0.3438 - acc: 0.8809 - val_loss: 0.5195 - val_acc: 0.8163\n",
      "Epoch 99/120\n",
      "33000/33000 [==============================] - 10s 292us/step - loss: 0.3427 - acc: 0.8807 - val_loss: 0.5179 - val_acc: 0.8180\n",
      "Epoch 100/120\n",
      "33000/33000 [==============================] - 10s 290us/step - loss: 0.3409 - acc: 0.8812 - val_loss: 0.5180 - val_acc: 0.8187\n",
      "Epoch 101/120\n",
      "33000/33000 [==============================] - 9s 284us/step - loss: 0.3396 - acc: 0.8820 - val_loss: 0.5206 - val_acc: 0.8197\n",
      "Epoch 102/120\n",
      "33000/33000 [==============================] - 8s 245us/step - loss: 0.3383 - acc: 0.8832 - val_loss: 0.5178 - val_acc: 0.8177\n",
      "Epoch 103/120\n",
      "33000/33000 [==============================] - 8s 236us/step - loss: 0.3373 - acc: 0.8827 - val_loss: 0.5193 - val_acc: 0.8183\n",
      "Epoch 104/120\n",
      "33000/33000 [==============================] - 8s 230us/step - loss: 0.3359 - acc: 0.8840 - val_loss: 0.5247 - val_acc: 0.8133\n",
      "Epoch 105/120\n",
      "33000/33000 [==============================] - 8s 229us/step - loss: 0.3346 - acc: 0.8840 - val_loss: 0.5238 - val_acc: 0.8167\n",
      "Epoch 106/120\n",
      "33000/33000 [==============================] - 8s 229us/step - loss: 0.3331 - acc: 0.8844 - val_loss: 0.5228 - val_acc: 0.8170\n",
      "Epoch 107/120\n",
      "33000/33000 [==============================] - 8s 237us/step - loss: 0.3323 - acc: 0.8851 - val_loss: 0.5228 - val_acc: 0.8177\n",
      "Epoch 108/120\n",
      "33000/33000 [==============================] - 8s 232us/step - loss: 0.3307 - acc: 0.8858 - val_loss: 0.5247 - val_acc: 0.8167\n",
      "Epoch 109/120\n",
      "33000/33000 [==============================] - 9s 284us/step - loss: 0.3294 - acc: 0.8865 - val_loss: 0.5277 - val_acc: 0.8173\n",
      "Epoch 110/120\n",
      "33000/33000 [==============================] - 9s 260us/step - loss: 0.3282 - acc: 0.8867 - val_loss: 0.5245 - val_acc: 0.8153\n",
      "Epoch 111/120\n",
      "33000/33000 [==============================] - 9s 263us/step - loss: 0.3274 - acc: 0.8858 - val_loss: 0.5260 - val_acc: 0.8160\n",
      "Epoch 112/120\n",
      "33000/33000 [==============================] - 8s 238us/step - loss: 0.3258 - acc: 0.8864 - val_loss: 0.5258 - val_acc: 0.8200\n",
      "Epoch 113/120\n",
      "33000/33000 [==============================] - 8s 244us/step - loss: 0.3245 - acc: 0.8875 - val_loss: 0.5307 - val_acc: 0.8183\n",
      "Epoch 114/120\n",
      "33000/33000 [==============================] - 8s 232us/step - loss: 0.3235 - acc: 0.8883 - val_loss: 0.5288 - val_acc: 0.8177\n",
      "Epoch 115/120\n",
      "33000/33000 [==============================] - 8s 237us/step - loss: 0.3224 - acc: 0.8884 - val_loss: 0.5293 - val_acc: 0.8167\n",
      "Epoch 116/120\n",
      "33000/33000 [==============================] - 8s 241us/step - loss: 0.3212 - acc: 0.8895 - val_loss: 0.5316 - val_acc: 0.8187\n",
      "Epoch 117/120\n"
     ]
    },
    {
     "name": "stdout",
     "output_type": "stream",
     "text": [
      "33000/33000 [==============================] - 8s 229us/step - loss: 0.3203 - acc: 0.8896 - val_loss: 0.5301 - val_acc: 0.8167\n",
      "Epoch 118/120\n",
      "33000/33000 [==============================] - 8s 234us/step - loss: 0.3188 - acc: 0.8909 - val_loss: 0.5331 - val_acc: 0.8140\n",
      "Epoch 119/120\n",
      "33000/33000 [==============================] - 9s 269us/step - loss: 0.3173 - acc: 0.8913 - val_loss: 0.5336 - val_acc: 0.8153\n",
      "Epoch 120/120\n",
      "33000/33000 [==============================] - 10s 295us/step - loss: 0.3162 - acc: 0.8904 - val_loss: 0.5339 - val_acc: 0.8190\n"
     ]
    }
   ],
   "source": [
    "model = Sequential()\n",
    "model.add(Dense(50, activation='relu', input_shape=(2000,))) #2 hidden layers\n",
    "model.add(Dense(25, activation='relu'))\n",
    "model.add(Dense(7, activation='softmax'))\n",
    "\n",
    "model.compile(optimizer='SGD',\n",
    "              loss='categorical_crossentropy',\n",
    "              metrics=['accuracy'])\n",
    "\n",
    "moredata_model = model.fit(train_final,\n",
    "                    label_train_final,\n",
    "                    epochs=120,\n",
    "                    batch_size=256,\n",
    "                    validation_data=(val, label_val))"
   ]
  },
  {
   "cell_type": "markdown",
   "metadata": {},
   "source": [
    "Now, finally, let's check the results returned from `model.evaluate()` to see how this model stacks up with the other techniques we've used.  "
   ]
  },
  {
   "cell_type": "code",
   "execution_count": 86,
   "metadata": {},
   "outputs": [
    {
     "name": "stdout",
     "output_type": "stream",
     "text": [
      "33000/33000 [==============================] - 9s 269us/step\n",
      "4000/4000 [==============================] - 1s 290us/step\n"
     ]
    }
   ],
   "source": [
    "results_train = model.evaluate(train_final, label_train_final)\n",
    "results_test = model.evaluate(test, label_test)"
   ]
  },
  {
   "cell_type": "code",
   "execution_count": 87,
   "metadata": {},
   "outputs": [
    {
     "data": {
      "text/plain": [
       "[0.3118883702303424, 0.8932727272727272]"
      ]
     },
     "execution_count": 87,
     "metadata": {},
     "output_type": "execute_result"
    }
   ],
   "source": [
    "results_train # Expected Output:  [0.31160746300942971, 0.89160606060606062]"
   ]
  },
  {
   "cell_type": "code",
   "execution_count": 88,
   "metadata": {},
   "outputs": [
    {
     "data": {
      "text/plain": [
       "[0.5888206927776337, 0.7995]"
      ]
     },
     "execution_count": 88,
     "metadata": {},
     "output_type": "execute_result"
    }
   ],
   "source": [
    "results_test # Expected Output: [0.56076071488857271, 0.8145]"
   ]
  },
  {
   "cell_type": "markdown",
   "metadata": {},
   "source": [
    "With the same amount of epochs, we were able to get a fairly similar validation accuracy of 89.1%. Our test set accuracy went up from ~75% to a staggering 81.45% though, without any other regularization technique. You can still consider early stopping, L1, L2 and dropout here. It's clear that having more data has a strong impact on model performance!"
   ]
  },
  {
   "cell_type": "markdown",
   "metadata": {},
   "source": [
    "## Sources"
   ]
  },
  {
   "cell_type": "markdown",
   "metadata": {},
   "source": [
    "https://github.com/susanli2016/Machine-Learning-with-Python/blob/master/Consumer_complaints.ipynb"
   ]
  },
  {
   "cell_type": "markdown",
   "metadata": {},
   "source": [
    "https://catalog.data.gov/dataset/consumer-complaint-database"
   ]
  },
  {
   "cell_type": "markdown",
   "metadata": {},
   "source": [
    "## Further reading"
   ]
  },
  {
   "cell_type": "markdown",
   "metadata": {},
   "source": [
    "https://machinelearningmastery.com/dropout-regularization-deep-learning-models-keras/"
   ]
  }
 ],
 "metadata": {
  "kernelspec": {
   "display_name": "Python 3",
   "language": "python",
   "name": "python3"
  },
  "language_info": {
   "codemirror_mode": {
    "name": "ipython",
    "version": 3
   },
   "file_extension": ".py",
   "mimetype": "text/x-python",
   "name": "python",
   "nbconvert_exporter": "python",
   "pygments_lexer": "ipython3",
   "version": "3.6.4"
  }
 },
 "nbformat": 4,
 "nbformat_minor": 2
}
